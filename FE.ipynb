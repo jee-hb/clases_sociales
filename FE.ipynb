{
 "cells": [
  {
   "cell_type": "code",
   "execution_count": 1,
   "id": "1b81b0cb",
   "metadata": {},
   "outputs": [],
   "source": [
    "import pandas as pd\n",
    "import numpy as np\n",
    "import matplotlib.pyplot as plt\n",
    "from IPython.core.interactiveshell import InteractiveShell\n",
    "InteractiveShell.ast_node_interactivity = \"all\" \n",
    "pd.options.display.max_columns = 400 #Changes the number of columns diplayed (default is 20)\n",
    "pd.options.display.max_rows = 3000\n",
    "pd.options.display.max_seq_items = None"
   ]
  },
  {
   "cell_type": "code",
   "execution_count": 2,
   "id": "e915148a",
   "metadata": {},
   "outputs": [],
   "source": [
    "base_personas = pd.read_csv('base_enespersonas.csv', sep=';')\n",
    "base_hogares = pd.read_csv('base_eneshogares.csv', sep= ';')\n",
    "base_personas.rename(columns = {'nocues':'nocues - NUMERO IDENTIFICADOR DE VIVIENDA', 'nhog':'nhog - NUMERO IDENTIFICADOR DE HOGAR'}, inplace = True)\n",
    "left = base_hogares\n",
    "right = base_personas\n",
    "df = pd.merge(left, right, on= [left.columns[0], left.columns[1]])"
   ]
  },
  {
   "cell_type": "code",
   "execution_count": 3,
   "id": "dd3feeff",
   "metadata": {},
   "outputs": [
    {
     "data": {
      "text/plain": [
       "(8267, 226)"
      ]
     },
     "execution_count": 3,
     "metadata": {},
     "output_type": "execute_result"
    },
    {
     "data": {
      "text/plain": [
       "(27615, 157)"
      ]
     },
     "execution_count": 3,
     "metadata": {},
     "output_type": "execute_result"
    },
    {
     "data": {
      "text/plain": [
       "(27620, 381)"
      ]
     },
     "execution_count": 3,
     "metadata": {},
     "output_type": "execute_result"
    }
   ],
   "source": [
    "base_hogares.shape\n",
    "base_personas.shape\n",
    "df.shape"
   ]
  },
  {
   "cell_type": "code",
   "execution_count": 4,
   "id": "262d59d1",
   "metadata": {},
   "outputs": [
    {
     "data": {
      "text/plain": [
       "False"
      ]
     },
     "execution_count": 4,
     "metadata": {},
     "output_type": "execute_result"
    }
   ],
   "source": [
    "df['f_calib3 - FACTOR DE CALIBRACIÓN'].equals(df['f_calib3'])"
   ]
  },
  {
   "cell_type": "code",
   "execution_count": 5,
   "id": "e1076268",
   "metadata": {},
   "outputs": [
    {
     "data": {
      "text/plain": [
       "pandas.core.series.Series"
      ]
     },
     "execution_count": 5,
     "metadata": {},
     "output_type": "execute_result"
    },
    {
     "data": {
      "text/html": [
       "<div>\n",
       "<style scoped>\n",
       "    .dataframe tbody tr th:only-of-type {\n",
       "        vertical-align: middle;\n",
       "    }\n",
       "\n",
       "    .dataframe tbody tr th {\n",
       "        vertical-align: top;\n",
       "    }\n",
       "\n",
       "    .dataframe thead th {\n",
       "        text-align: right;\n",
       "    }\n",
       "</style>\n",
       "<table border=\"1\" class=\"dataframe\">\n",
       "  <thead>\n",
       "    <tr style=\"text-align: right;\">\n",
       "      <th></th>\n",
       "      <th>0</th>\n",
       "    </tr>\n",
       "  </thead>\n",
       "  <tbody>\n",
       "    <tr>\n",
       "      <th>5844</th>\n",
       "      <td>False</td>\n",
       "    </tr>\n",
       "    <tr>\n",
       "      <th>5845</th>\n",
       "      <td>False</td>\n",
       "    </tr>\n",
       "    <tr>\n",
       "      <th>5846</th>\n",
       "      <td>False</td>\n",
       "    </tr>\n",
       "    <tr>\n",
       "      <th>5847</th>\n",
       "      <td>False</td>\n",
       "    </tr>\n",
       "    <tr>\n",
       "      <th>5848</th>\n",
       "      <td>False</td>\n",
       "    </tr>\n",
       "    <tr>\n",
       "      <th>5849</th>\n",
       "      <td>False</td>\n",
       "    </tr>\n",
       "    <tr>\n",
       "      <th>5850</th>\n",
       "      <td>False</td>\n",
       "    </tr>\n",
       "    <tr>\n",
       "      <th>5851</th>\n",
       "      <td>False</td>\n",
       "    </tr>\n",
       "    <tr>\n",
       "      <th>5852</th>\n",
       "      <td>False</td>\n",
       "    </tr>\n",
       "    <tr>\n",
       "      <th>5853</th>\n",
       "      <td>False</td>\n",
       "    </tr>\n",
       "    <tr>\n",
       "      <th>20900</th>\n",
       "      <td>False</td>\n",
       "    </tr>\n",
       "  </tbody>\n",
       "</table>\n",
       "</div>"
      ],
      "text/plain": [
       "           0\n",
       "5844   False\n",
       "5845   False\n",
       "5846   False\n",
       "5847   False\n",
       "5848   False\n",
       "5849   False\n",
       "5850   False\n",
       "5851   False\n",
       "5852   False\n",
       "5853   False\n",
       "20900  False"
      ]
     },
     "execution_count": 5,
     "metadata": {},
     "output_type": "execute_result"
    }
   ],
   "source": [
    "a = df['f_calib3 - FACTOR DE CALIBRACIÓN'] == df['f_calib3']\n",
    "type(a)\n",
    "a = pd.DataFrame(a)\n",
    "a.loc[a[0] == False]"
   ]
  },
  {
   "cell_type": "code",
   "execution_count": 6,
   "id": "aa81addc",
   "metadata": {},
   "outputs": [
    {
     "data": {
      "text/html": [
       "<div>\n",
       "<style scoped>\n",
       "    .dataframe tbody tr th:only-of-type {\n",
       "        vertical-align: middle;\n",
       "    }\n",
       "\n",
       "    .dataframe tbody tr th {\n",
       "        vertical-align: top;\n",
       "    }\n",
       "\n",
       "    .dataframe thead th {\n",
       "        text-align: right;\n",
       "    }\n",
       "</style>\n",
       "<table border=\"1\" class=\"dataframe\">\n",
       "  <thead>\n",
       "    <tr style=\"text-align: right;\">\n",
       "      <th></th>\n",
       "      <th>f_calib3 - FACTOR DE CALIBRACIÓN</th>\n",
       "      <th>f_calib3</th>\n",
       "    </tr>\n",
       "  </thead>\n",
       "  <tbody>\n",
       "    <tr>\n",
       "      <th>5844</th>\n",
       "      <td>NaN</td>\n",
       "      <td>NaN</td>\n",
       "    </tr>\n",
       "    <tr>\n",
       "      <th>5845</th>\n",
       "      <td>NaN</td>\n",
       "      <td>NaN</td>\n",
       "    </tr>\n",
       "    <tr>\n",
       "      <th>5846</th>\n",
       "      <td>NaN</td>\n",
       "      <td>NaN</td>\n",
       "    </tr>\n",
       "    <tr>\n",
       "      <th>5847</th>\n",
       "      <td>NaN</td>\n",
       "      <td>NaN</td>\n",
       "    </tr>\n",
       "    <tr>\n",
       "      <th>5848</th>\n",
       "      <td>NaN</td>\n",
       "      <td>NaN</td>\n",
       "    </tr>\n",
       "    <tr>\n",
       "      <th>5849</th>\n",
       "      <td>NaN</td>\n",
       "      <td>NaN</td>\n",
       "    </tr>\n",
       "    <tr>\n",
       "      <th>5850</th>\n",
       "      <td>NaN</td>\n",
       "      <td>NaN</td>\n",
       "    </tr>\n",
       "    <tr>\n",
       "      <th>5851</th>\n",
       "      <td>NaN</td>\n",
       "      <td>NaN</td>\n",
       "    </tr>\n",
       "    <tr>\n",
       "      <th>5852</th>\n",
       "      <td>NaN</td>\n",
       "      <td>NaN</td>\n",
       "    </tr>\n",
       "    <tr>\n",
       "      <th>5853</th>\n",
       "      <td>NaN</td>\n",
       "      <td>NaN</td>\n",
       "    </tr>\n",
       "    <tr>\n",
       "      <th>20900</th>\n",
       "      <td>9.0</td>\n",
       "      <td>481.0</td>\n",
       "    </tr>\n",
       "  </tbody>\n",
       "</table>\n",
       "</div>"
      ],
      "text/plain": [
       "       f_calib3 - FACTOR DE CALIBRACIÓN  f_calib3\n",
       "5844                                NaN       NaN\n",
       "5845                                NaN       NaN\n",
       "5846                                NaN       NaN\n",
       "5847                                NaN       NaN\n",
       "5848                                NaN       NaN\n",
       "5849                                NaN       NaN\n",
       "5850                                NaN       NaN\n",
       "5851                                NaN       NaN\n",
       "5852                                NaN       NaN\n",
       "5853                                NaN       NaN\n",
       "20900                               9.0     481.0"
      ]
     },
     "execution_count": 6,
     "metadata": {},
     "output_type": "execute_result"
    }
   ],
   "source": [
    "df.loc[np.r_[5844:5854, 20900], ['f_calib3 - FACTOR DE CALIBRACIÓN', 'f_calib3']]"
   ]
  },
  {
   "cell_type": "code",
   "execution_count": 7,
   "id": "38ef1172",
   "metadata": {},
   "outputs": [
    {
     "data": {
      "text/plain": [
       "10"
      ]
     },
     "execution_count": 7,
     "metadata": {},
     "output_type": "execute_result"
    },
    {
     "data": {
      "text/plain": [
       "10"
      ]
     },
     "execution_count": 7,
     "metadata": {},
     "output_type": "execute_result"
    }
   ],
   "source": [
    "df['f_calib3 - FACTOR DE CALIBRACIÓN'].isna().sum()\n",
    "df['f_calib3'].isna().sum()"
   ]
  },
  {
   "cell_type": "code",
   "execution_count": 8,
   "id": "d0a59214",
   "metadata": {},
   "outputs": [
    {
     "data": {
      "text/plain": [
       "(3000,)"
      ]
     },
     "execution_count": 8,
     "metadata": {},
     "output_type": "execute_result"
    },
    {
     "data": {
      "text/plain": [
       "array([ 8.,  9., 14., 17., 20., 21., 22., 23., 24., 27., 29., 30., 31.,\n",
       "       33., 34., 35., 36., 37., 38., 39., 40., 42., 43., 44., 45., 46.,\n",
       "       47., 48., 49., 54., 55., 56., 58., 59., 60., 61., 62., 63., 65.,\n",
       "       67., 68., 69., 71., 72., 73., 74., 76., 77., 78., 79.])"
      ]
     },
     "execution_count": 8,
     "metadata": {},
     "output_type": "execute_result"
    },
    {
     "data": {
      "text/plain": [
       "array([ 9191.,  9220.,  9273.,  9328.,  9352.,  9461.,  9472.,  9505.,\n",
       "        9524.,  9538.,  9577.,  9698.,  9769.,  9871.,  9886.,  9888.,\n",
       "        9907.,  9977., 10133., 10284., 10309., 10449., 10472., 10502.,\n",
       "       10593., 10666., 10686., 10812., 10963., 11037., 11084., 11436.,\n",
       "       11699., 12017., 12127., 12501., 12920., 12943., 13499., 13512.,\n",
       "       13657., 13823., 14786., 15167., 15575., 18086., 18114., 19916.,\n",
       "       27258.,    nan])"
      ]
     },
     "execution_count": 8,
     "metadata": {},
     "output_type": "execute_result"
    }
   ],
   "source": [
    "calib = df['f_calib3 - FACTOR DE CALIBRACIÓN'].unique()\n",
    "calib.sort()\n",
    "calib.shape\n",
    "calib[0:50]\n",
    "calib[-50:]"
   ]
  },
  {
   "cell_type": "code",
   "execution_count": 9,
   "id": "58fd36eb",
   "metadata": {},
   "outputs": [
    {
     "data": {
      "text/plain": [
       "True"
      ]
     },
     "execution_count": 9,
     "metadata": {},
     "output_type": "execute_result"
    },
    {
     "data": {
      "text/plain": [
       "True"
      ]
     },
     "execution_count": 9,
     "metadata": {},
     "output_type": "execute_result"
    },
    {
     "data": {
      "text/plain": [
       "True"
      ]
     },
     "execution_count": 9,
     "metadata": {},
     "output_type": "execute_result"
    },
    {
     "data": {
      "text/plain": [
       "True"
      ]
     },
     "execution_count": 9,
     "metadata": {},
     "output_type": "execute_result"
    },
    {
     "data": {
      "text/plain": [
       "True"
      ]
     },
     "execution_count": 9,
     "metadata": {},
     "output_type": "execute_result"
    }
   ],
   "source": [
    "df['Region'].equals(df['region'])\n",
    "df['aglo - AGLOMERADO'].equals(df['aglo'])\n",
    "df['t_aglo - TAMAÑO DEL AGLOMERADO'].equals(df['t_aglo'])\n",
    "df['estrato_U - ESTRATO DE LA UNIDAD PRIMARIA'].equals(df['estrato_U'])\n",
    "df['cod_U - CODIGO DE LA UNIDAD PRIMARIA'].equals(df['cod_U'])"
   ]
  },
  {
   "cell_type": "code",
   "execution_count": 10,
   "id": "d313d71d",
   "metadata": {},
   "outputs": [
    {
     "data": {
      "text/plain": [
       "Index(['f_calib3 - FACTOR DE CALIBRACIÓN', 'region', 'aglo', 't_aglo',\n",
       "       'estrato_U', 'cod_U'],\n",
       "      dtype='object')"
      ]
     },
     "execution_count": 10,
     "metadata": {},
     "output_type": "execute_result"
    }
   ],
   "source": [
    "df.columns[np.r_[2, 228:233]]"
   ]
  },
  {
   "cell_type": "code",
   "execution_count": 11,
   "id": "b825099b",
   "metadata": {},
   "outputs": [],
   "source": [
    "df = df.drop(df.columns[np.r_[2, 228:233, 235]], axis=1)\n",
    "# también estoy eliminando el mes del cumpleaños"
   ]
  },
  {
   "cell_type": "code",
   "execution_count": 12,
   "id": "3ff186e0",
   "metadata": {},
   "outputs": [],
   "source": [
    "#########################################################################\n",
    "#########################################################################\n",
    "########################## Analisis de Hogares ##########################\n",
    "#########################################################################\n",
    "#########################################################################"
   ]
  },
  {
   "cell_type": "code",
   "execution_count": 13,
   "id": "0be964be",
   "metadata": {},
   "outputs": [
    {
     "data": {
      "text/plain": [
       "'v1 - TIPO DE BARRIO'"
      ]
     },
     "execution_count": 13,
     "metadata": {},
     "output_type": "execute_result"
    },
    {
     "data": {
      "text/plain": [
       "'v1esp - TIPO DE BARRIO (OTRO)'"
      ]
     },
     "execution_count": 13,
     "metadata": {},
     "output_type": "execute_result"
    },
    {
     "data": {
      "text/plain": [
       "array([ 3.,  2.,  1.,  5.,  4., nan])"
      ]
     },
     "execution_count": 13,
     "metadata": {},
     "output_type": "execute_result"
    },
    {
     "data": {
      "text/plain": [
       "array([nan,  2.,  4.,  3.,  1.])"
      ]
     },
     "execution_count": 13,
     "metadata": {},
     "output_type": "execute_result"
    }
   ],
   "source": [
    "df.columns[7]\n",
    "df.columns[8]\n",
    "df[df.columns[7]].unique()\n",
    "df[df.columns[8]].unique()"
   ]
  },
  {
   "cell_type": "code",
   "execution_count": 14,
   "id": "09bdfc96",
   "metadata": {},
   "outputs": [],
   "source": [
    "otro_b = [1, 2, 3, 4]\n",
    "barrio = [5, 6, 7, 8]\n",
    "for (i, j) in zip(otro_b, barrio):\n",
    "    df.loc[df[df.columns[8]] == i, df.columns[7]] = j\n",
    "    # df.loc[df[df.columns[8]]==4]\n",
    "\n",
    "df = df.drop(df.columns[8], axis= 1)"
   ]
  },
  {
   "cell_type": "code",
   "execution_count": 15,
   "id": "9304078a",
   "metadata": {},
   "outputs": [
    {
     "data": {
      "text/plain": [
       "array([ 3.,  2.,  1.,  6.,  4., nan,  8.,  7.,  5.])"
      ]
     },
     "execution_count": 15,
     "metadata": {},
     "output_type": "execute_result"
    },
    {
     "data": {
      "text/plain": [
       "'v2 - TIPO DE VIVIENDA'"
      ]
     },
     "execution_count": 15,
     "metadata": {},
     "output_type": "execute_result"
    }
   ],
   "source": [
    "df[df.columns[7]].unique()\n",
    "df.columns[8]"
   ]
  },
  {
   "cell_type": "code",
   "execution_count": 16,
   "id": "24eaa348",
   "metadata": {},
   "outputs": [],
   "source": [
    "# CREO LA VARIABLE VHOG COMBINANDO 'nocues - NUMERO IDENTIFICADOR DE VIVIENDA' y\n",
    "# nhog - NUMERO IDENTIFICADOR DE HOGAR'"
   ]
  },
  {
   "cell_type": "code",
   "execution_count": 17,
   "id": "be031dab",
   "metadata": {},
   "outputs": [
    {
     "data": {
      "text/plain": [
       "Index(['nocues - NUMERO IDENTIFICADOR DE VIVIENDA', 'nhog - NUMERO IDENTIFICADOR DE HOGAR'], dtype='object')"
      ]
     },
     "execution_count": 17,
     "metadata": {},
     "output_type": "execute_result"
    }
   ],
   "source": [
    "df.columns[0:2]"
   ]
  },
  {
   "cell_type": "code",
   "execution_count": 18,
   "id": "78d2862b",
   "metadata": {},
   "outputs": [],
   "source": [
    "df.iloc[:, 0] = df.iloc[:,0].astype('Int64')\n",
    "df.iloc[:,1] = df.iloc[:,1].astype('Int64')"
   ]
  },
  {
   "cell_type": "code",
   "execution_count": 19,
   "id": "d31d839c",
   "metadata": {},
   "outputs": [],
   "source": [
    "df['vhog'] = df[df.columns[0]].map(str) + '.' + df[df.columns[1]].map(str)"
   ]
  },
  {
   "cell_type": "code",
   "execution_count": 20,
   "id": "5373a4bb",
   "metadata": {},
   "outputs": [],
   "source": [
    "df= df.drop(df.columns[0:2], axis=1)"
   ]
  },
  {
   "cell_type": "code",
   "execution_count": 21,
   "id": "dc38d1b9",
   "metadata": {},
   "outputs": [
    {
     "data": {
      "text/plain": [
       "'Region'"
      ]
     },
     "execution_count": 21,
     "metadata": {},
     "output_type": "execute_result"
    }
   ],
   "source": [
    "cols = list(df.columns)\n",
    "cols[0]"
   ]
  },
  {
   "cell_type": "code",
   "execution_count": 22,
   "id": "10a6ee1b",
   "metadata": {},
   "outputs": [
    {
     "data": {
      "text/plain": [
       "'vhog'"
      ]
     },
     "execution_count": 22,
     "metadata": {},
     "output_type": "execute_result"
    }
   ],
   "source": [
    "cols = [cols[-1]] + cols[:-1]\n",
    "df = df[cols]\n",
    "df.columns[0]"
   ]
  },
  {
   "cell_type": "code",
   "execution_count": 23,
   "id": "8856e010",
   "metadata": {},
   "outputs": [
    {
     "data": {
      "text/html": [
       "<div>\n",
       "<style scoped>\n",
       "    .dataframe tbody tr th:only-of-type {\n",
       "        vertical-align: middle;\n",
       "    }\n",
       "\n",
       "    .dataframe tbody tr th {\n",
       "        vertical-align: top;\n",
       "    }\n",
       "\n",
       "    .dataframe thead th {\n",
       "        text-align: right;\n",
       "    }\n",
       "</style>\n",
       "<table border=\"1\" class=\"dataframe\">\n",
       "  <thead>\n",
       "    <tr style=\"text-align: right;\">\n",
       "      <th></th>\n",
       "      <th>vhog</th>\n",
       "      <th>miembro</th>\n",
       "      <th>v112 - CONVIVE CON MADRE</th>\n",
       "      <th>v113 - CONVIVE CON PADRE</th>\n",
       "    </tr>\n",
       "  </thead>\n",
       "  <tbody>\n",
       "    <tr>\n",
       "      <th>0</th>\n",
       "      <td>1.1</td>\n",
       "      <td>1.0</td>\n",
       "      <td>NaN</td>\n",
       "      <td>NaN</td>\n",
       "    </tr>\n",
       "    <tr>\n",
       "      <th>1</th>\n",
       "      <td>1.1</td>\n",
       "      <td>2.0</td>\n",
       "      <td>NaN</td>\n",
       "      <td>NaN</td>\n",
       "    </tr>\n",
       "    <tr>\n",
       "      <th>2</th>\n",
       "      <td>1.1</td>\n",
       "      <td>3.0</td>\n",
       "      <td>2.0</td>\n",
       "      <td>1.0</td>\n",
       "    </tr>\n",
       "    <tr>\n",
       "      <th>3</th>\n",
       "      <td>1.1</td>\n",
       "      <td>4.0</td>\n",
       "      <td>NaN</td>\n",
       "      <td>86.0</td>\n",
       "    </tr>\n",
       "    <tr>\n",
       "      <th>4</th>\n",
       "      <td>1.1</td>\n",
       "      <td>5.0</td>\n",
       "      <td>3.0</td>\n",
       "      <td>4.0</td>\n",
       "    </tr>\n",
       "    <tr>\n",
       "      <th>...</th>\n",
       "      <td>...</td>\n",
       "      <td>...</td>\n",
       "      <td>...</td>\n",
       "      <td>...</td>\n",
       "    </tr>\n",
       "    <tr>\n",
       "      <th>27615</th>\n",
       "      <td>8308.1</td>\n",
       "      <td>3.0</td>\n",
       "      <td>2.0</td>\n",
       "      <td>1.0</td>\n",
       "    </tr>\n",
       "    <tr>\n",
       "      <th>27616</th>\n",
       "      <td>8308.1</td>\n",
       "      <td>4.0</td>\n",
       "      <td>2.0</td>\n",
       "      <td>1.0</td>\n",
       "    </tr>\n",
       "    <tr>\n",
       "      <th>27617</th>\n",
       "      <td>8308.1</td>\n",
       "      <td>5.0</td>\n",
       "      <td>2.0</td>\n",
       "      <td>1.0</td>\n",
       "    </tr>\n",
       "    <tr>\n",
       "      <th>27618</th>\n",
       "      <td>8308.1</td>\n",
       "      <td>6.0</td>\n",
       "      <td>2.0</td>\n",
       "      <td>1.0</td>\n",
       "    </tr>\n",
       "    <tr>\n",
       "      <th>27619</th>\n",
       "      <td>8308.1</td>\n",
       "      <td>7.0</td>\n",
       "      <td>2.0</td>\n",
       "      <td>1.0</td>\n",
       "    </tr>\n",
       "  </tbody>\n",
       "</table>\n",
       "<p>27620 rows × 4 columns</p>\n",
       "</div>"
      ],
      "text/plain": [
       "         vhog  miembro  v112 - CONVIVE CON MADRE  v113 - CONVIVE CON PADRE\n",
       "0         1.1      1.0                       NaN                       NaN\n",
       "1         1.1      2.0                       NaN                       NaN\n",
       "2         1.1      3.0                       2.0                       1.0\n",
       "3         1.1      4.0                       NaN                      86.0\n",
       "4         1.1      5.0                       3.0                       4.0\n",
       "...       ...      ...                       ...                       ...\n",
       "27615  8308.1      3.0                       2.0                       1.0\n",
       "27616  8308.1      4.0                       2.0                       1.0\n",
       "27617  8308.1      5.0                       2.0                       1.0\n",
       "27618  8308.1      6.0                       2.0                       1.0\n",
       "27619  8308.1      7.0                       2.0                       1.0\n",
       "\n",
       "[27620 rows x 4 columns]"
      ]
     },
     "execution_count": 23,
     "metadata": {},
     "output_type": "execute_result"
    }
   ],
   "source": [
    "df[df.columns[np.r_[0, 223,228:230]]]"
   ]
  },
  {
   "cell_type": "code",
   "execution_count": 24,
   "id": "1083f7be",
   "metadata": {},
   "outputs": [],
   "source": [
    "value_counts = df.groupby(df.columns[0])[[df.columns[228], df.columns[229]]].agg(\n",
    "    {i:'value_counts' for i in (df.columns[228],df.columns[229])}).apply(lambda x: np.nansum(x), axis=1  )"
   ]
  },
  {
   "cell_type": "code",
   "execution_count": 25,
   "id": "ed0d6ea4",
   "metadata": {},
   "outputs": [],
   "source": [
    "value_counts.name = 'hijxs_en_vhog'"
   ]
  },
  {
   "cell_type": "code",
   "execution_count": 26,
   "id": "4202d403",
   "metadata": {},
   "outputs": [],
   "source": [
    "df = df.merge(value_counts, how='left', left_on=[df.columns[0], df.columns[223]], right_index= True)"
   ]
  },
  {
   "cell_type": "code",
   "execution_count": 27,
   "id": "7a0ffb38",
   "metadata": {},
   "outputs": [],
   "source": [
    "cols = list(df.columns)\n",
    "# cols"
   ]
  },
  {
   "cell_type": "code",
   "execution_count": 28,
   "id": "88097f84",
   "metadata": {},
   "outputs": [],
   "source": [
    "# list(df.columns[0:230])"
   ]
  },
  {
   "cell_type": "code",
   "execution_count": 29,
   "id": "a31e6318",
   "metadata": {},
   "outputs": [],
   "source": [
    "cols= list(df.columns[0:230]) + list(df.columns[-1:]) + list(df.columns[230:-1])\n",
    "df = df[cols]\n",
    "# df.columns"
   ]
  },
  {
   "cell_type": "code",
   "execution_count": 30,
   "id": "be95a71c",
   "metadata": {},
   "outputs": [
    {
     "data": {
      "text/html": [
       "<div>\n",
       "<style scoped>\n",
       "    .dataframe tbody tr th:only-of-type {\n",
       "        vertical-align: middle;\n",
       "    }\n",
       "\n",
       "    .dataframe tbody tr th {\n",
       "        vertical-align: top;\n",
       "    }\n",
       "\n",
       "    .dataframe thead th {\n",
       "        text-align: right;\n",
       "    }\n",
       "</style>\n",
       "<table border=\"1\" class=\"dataframe\">\n",
       "  <thead>\n",
       "    <tr style=\"text-align: right;\">\n",
       "      <th></th>\n",
       "      <th>vhog</th>\n",
       "      <th>miembro</th>\n",
       "      <th>v112 - CONVIVE CON MADRE</th>\n",
       "      <th>v113 - CONVIVE CON PADRE</th>\n",
       "      <th>hijxs_en_vhog</th>\n",
       "    </tr>\n",
       "  </thead>\n",
       "  <tbody>\n",
       "    <tr>\n",
       "      <th>0</th>\n",
       "      <td>1.1</td>\n",
       "      <td>1.0</td>\n",
       "      <td>NaN</td>\n",
       "      <td>NaN</td>\n",
       "      <td>1.0</td>\n",
       "    </tr>\n",
       "    <tr>\n",
       "      <th>1</th>\n",
       "      <td>1.1</td>\n",
       "      <td>2.0</td>\n",
       "      <td>NaN</td>\n",
       "      <td>NaN</td>\n",
       "      <td>1.0</td>\n",
       "    </tr>\n",
       "    <tr>\n",
       "      <th>2</th>\n",
       "      <td>1.1</td>\n",
       "      <td>3.0</td>\n",
       "      <td>2.0</td>\n",
       "      <td>1.0</td>\n",
       "      <td>1.0</td>\n",
       "    </tr>\n",
       "    <tr>\n",
       "      <th>3</th>\n",
       "      <td>1.1</td>\n",
       "      <td>4.0</td>\n",
       "      <td>NaN</td>\n",
       "      <td>86.0</td>\n",
       "      <td>1.0</td>\n",
       "    </tr>\n",
       "    <tr>\n",
       "      <th>4</th>\n",
       "      <td>1.1</td>\n",
       "      <td>5.0</td>\n",
       "      <td>3.0</td>\n",
       "      <td>4.0</td>\n",
       "      <td>NaN</td>\n",
       "    </tr>\n",
       "    <tr>\n",
       "      <th>5</th>\n",
       "      <td>2.1</td>\n",
       "      <td>1.0</td>\n",
       "      <td>3.0</td>\n",
       "      <td>NaN</td>\n",
       "      <td>NaN</td>\n",
       "    </tr>\n",
       "    <tr>\n",
       "      <th>6</th>\n",
       "      <td>2.1</td>\n",
       "      <td>2.0</td>\n",
       "      <td>NaN</td>\n",
       "      <td>NaN</td>\n",
       "      <td>1.0</td>\n",
       "    </tr>\n",
       "    <tr>\n",
       "      <th>7</th>\n",
       "      <td>2.1</td>\n",
       "      <td>3.0</td>\n",
       "      <td>2.0</td>\n",
       "      <td>NaN</td>\n",
       "      <td>2.0</td>\n",
       "    </tr>\n",
       "    <tr>\n",
       "      <th>8</th>\n",
       "      <td>2.1</td>\n",
       "      <td>4.0</td>\n",
       "      <td>3.0</td>\n",
       "      <td>NaN</td>\n",
       "      <td>NaN</td>\n",
       "    </tr>\n",
       "    <tr>\n",
       "      <th>9</th>\n",
       "      <td>3.1</td>\n",
       "      <td>1.0</td>\n",
       "      <td>3.0</td>\n",
       "      <td>2.0</td>\n",
       "      <td>1.0</td>\n",
       "    </tr>\n",
       "    <tr>\n",
       "      <th>10</th>\n",
       "      <td>3.1</td>\n",
       "      <td>2.0</td>\n",
       "      <td>NaN</td>\n",
       "      <td>NaN</td>\n",
       "      <td>1.0</td>\n",
       "    </tr>\n",
       "    <tr>\n",
       "      <th>11</th>\n",
       "      <td>3.1</td>\n",
       "      <td>3.0</td>\n",
       "      <td>NaN</td>\n",
       "      <td>NaN</td>\n",
       "      <td>1.0</td>\n",
       "    </tr>\n",
       "    <tr>\n",
       "      <th>12</th>\n",
       "      <td>3.1</td>\n",
       "      <td>4.0</td>\n",
       "      <td>NaN</td>\n",
       "      <td>NaN</td>\n",
       "      <td>NaN</td>\n",
       "    </tr>\n",
       "    <tr>\n",
       "      <th>13</th>\n",
       "      <td>3.1</td>\n",
       "      <td>5.0</td>\n",
       "      <td>NaN</td>\n",
       "      <td>NaN</td>\n",
       "      <td>NaN</td>\n",
       "    </tr>\n",
       "    <tr>\n",
       "      <th>14</th>\n",
       "      <td>3.1</td>\n",
       "      <td>6.0</td>\n",
       "      <td>1.0</td>\n",
       "      <td>NaN</td>\n",
       "      <td>NaN</td>\n",
       "    </tr>\n",
       "    <tr>\n",
       "      <th>15</th>\n",
       "      <td>4.1</td>\n",
       "      <td>1.0</td>\n",
       "      <td>NaN</td>\n",
       "      <td>NaN</td>\n",
       "      <td>3.0</td>\n",
       "    </tr>\n",
       "    <tr>\n",
       "      <th>16</th>\n",
       "      <td>4.1</td>\n",
       "      <td>2.0</td>\n",
       "      <td>NaN</td>\n",
       "      <td>NaN</td>\n",
       "      <td>3.0</td>\n",
       "    </tr>\n",
       "    <tr>\n",
       "      <th>17</th>\n",
       "      <td>4.1</td>\n",
       "      <td>3.0</td>\n",
       "      <td>1.0</td>\n",
       "      <td>2.0</td>\n",
       "      <td>NaN</td>\n",
       "    </tr>\n",
       "    <tr>\n",
       "      <th>18</th>\n",
       "      <td>4.1</td>\n",
       "      <td>4.0</td>\n",
       "      <td>1.0</td>\n",
       "      <td>2.0</td>\n",
       "      <td>NaN</td>\n",
       "    </tr>\n",
       "    <tr>\n",
       "      <th>19</th>\n",
       "      <td>4.1</td>\n",
       "      <td>5.0</td>\n",
       "      <td>1.0</td>\n",
       "      <td>2.0</td>\n",
       "      <td>NaN</td>\n",
       "    </tr>\n",
       "  </tbody>\n",
       "</table>\n",
       "</div>"
      ],
      "text/plain": [
       "   vhog  miembro  v112 - CONVIVE CON MADRE  v113 - CONVIVE CON PADRE  \\\n",
       "0   1.1      1.0                       NaN                       NaN   \n",
       "1   1.1      2.0                       NaN                       NaN   \n",
       "2   1.1      3.0                       2.0                       1.0   \n",
       "3   1.1      4.0                       NaN                      86.0   \n",
       "4   1.1      5.0                       3.0                       4.0   \n",
       "5   2.1      1.0                       3.0                       NaN   \n",
       "6   2.1      2.0                       NaN                       NaN   \n",
       "7   2.1      3.0                       2.0                       NaN   \n",
       "8   2.1      4.0                       3.0                       NaN   \n",
       "9   3.1      1.0                       3.0                       2.0   \n",
       "10  3.1      2.0                       NaN                       NaN   \n",
       "11  3.1      3.0                       NaN                       NaN   \n",
       "12  3.1      4.0                       NaN                       NaN   \n",
       "13  3.1      5.0                       NaN                       NaN   \n",
       "14  3.1      6.0                       1.0                       NaN   \n",
       "15  4.1      1.0                       NaN                       NaN   \n",
       "16  4.1      2.0                       NaN                       NaN   \n",
       "17  4.1      3.0                       1.0                       2.0   \n",
       "18  4.1      4.0                       1.0                       2.0   \n",
       "19  4.1      5.0                       1.0                       2.0   \n",
       "\n",
       "    hijxs_en_vhog  \n",
       "0             1.0  \n",
       "1             1.0  \n",
       "2             1.0  \n",
       "3             1.0  \n",
       "4             NaN  \n",
       "5             NaN  \n",
       "6             1.0  \n",
       "7             2.0  \n",
       "8             NaN  \n",
       "9             1.0  \n",
       "10            1.0  \n",
       "11            1.0  \n",
       "12            NaN  \n",
       "13            NaN  \n",
       "14            NaN  \n",
       "15            3.0  \n",
       "16            3.0  \n",
       "17            NaN  \n",
       "18            NaN  \n",
       "19            NaN  "
      ]
     },
     "execution_count": 30,
     "metadata": {},
     "output_type": "execute_result"
    }
   ],
   "source": [
    "df[df.columns[np.r_[0, 223, 228:231]]][0:20]"
   ]
  },
  {
   "cell_type": "code",
   "execution_count": 31,
   "id": "49d26f46",
   "metadata": {},
   "outputs": [
    {
     "data": {
      "text/plain": [
       "[1, 2, 3, 4, 5, 6, 7, 8, 9, 10, 11, 12]"
      ]
     },
     "execution_count": 31,
     "metadata": {},
     "output_type": "execute_result"
    }
   ],
   "source": [
    "pos_cony = list(range(1,13))\n",
    "# df['v115 - CONVIVE CON PAREJA'].isin(pos_cony)\n",
    "pos_cony"
   ]
  },
  {
   "cell_type": "code",
   "execution_count": 32,
   "id": "73ebdbf9",
   "metadata": {},
   "outputs": [],
   "source": [
    "df.loc[ ( ( (df['v115 - CONVIVE CON PAREJA'] == 1) | (df['v111 - PARENTESCO PSH'] == 2) )  & ((df['v111 - PARENTESCO PSH'] == 2) | (df['v111 - PARENTESCO PSH'] == 1)) ) |\n",
    "       ( (df['v115 - CONVIVE CON PAREJA'] == 2) &  (df['v111 - PARENTESCO PSH'] == 1) ) \n",
    "       | ( (df['v111 - PARENTESCO PSH'] == 1) & (df['v115 - CONVIVE CON PAREJA'].isin(pos_cony))  )\n",
    "       ,     'pareja_nuclear'] = 1\n",
    "\n",
    "df['pareja_nuclear'].fillna(2, inplace=True)"
   ]
  },
  {
   "cell_type": "code",
   "execution_count": 33,
   "id": "3a482054",
   "metadata": {},
   "outputs": [
    {
     "data": {
      "text/html": [
       "<div>\n",
       "<style scoped>\n",
       "    .dataframe tbody tr th:only-of-type {\n",
       "        vertical-align: middle;\n",
       "    }\n",
       "\n",
       "    .dataframe tbody tr th {\n",
       "        vertical-align: top;\n",
       "    }\n",
       "\n",
       "    .dataframe thead th {\n",
       "        text-align: right;\n",
       "    }\n",
       "</style>\n",
       "<table border=\"1\" class=\"dataframe\">\n",
       "  <thead>\n",
       "    <tr style=\"text-align: right;\">\n",
       "      <th></th>\n",
       "      <th>vhog</th>\n",
       "      <th>miembro</th>\n",
       "      <th>v111 - PARENTESCO PSH</th>\n",
       "      <th>v115 - CONVIVE CON PAREJA</th>\n",
       "      <th>pareja_nuclear</th>\n",
       "    </tr>\n",
       "  </thead>\n",
       "  <tbody>\n",
       "    <tr>\n",
       "      <th>0</th>\n",
       "      <td>1.1</td>\n",
       "      <td>1.0</td>\n",
       "      <td>1.0</td>\n",
       "      <td>2.0</td>\n",
       "      <td>1.0</td>\n",
       "    </tr>\n",
       "    <tr>\n",
       "      <th>1</th>\n",
       "      <td>1.1</td>\n",
       "      <td>2.0</td>\n",
       "      <td>2.0</td>\n",
       "      <td>1.0</td>\n",
       "      <td>1.0</td>\n",
       "    </tr>\n",
       "    <tr>\n",
       "      <th>2</th>\n",
       "      <td>1.1</td>\n",
       "      <td>3.0</td>\n",
       "      <td>3.0</td>\n",
       "      <td>4.0</td>\n",
       "      <td>2.0</td>\n",
       "    </tr>\n",
       "    <tr>\n",
       "      <th>3</th>\n",
       "      <td>1.1</td>\n",
       "      <td>4.0</td>\n",
       "      <td>5.0</td>\n",
       "      <td>3.0</td>\n",
       "      <td>2.0</td>\n",
       "    </tr>\n",
       "    <tr>\n",
       "      <th>4</th>\n",
       "      <td>1.1</td>\n",
       "      <td>5.0</td>\n",
       "      <td>7.0</td>\n",
       "      <td>NaN</td>\n",
       "      <td>2.0</td>\n",
       "    </tr>\n",
       "    <tr>\n",
       "      <th>5</th>\n",
       "      <td>2.1</td>\n",
       "      <td>1.0</td>\n",
       "      <td>1.0</td>\n",
       "      <td>NaN</td>\n",
       "      <td>2.0</td>\n",
       "    </tr>\n",
       "    <tr>\n",
       "      <th>6</th>\n",
       "      <td>2.1</td>\n",
       "      <td>2.0</td>\n",
       "      <td>10.0</td>\n",
       "      <td>NaN</td>\n",
       "      <td>2.0</td>\n",
       "    </tr>\n",
       "    <tr>\n",
       "      <th>7</th>\n",
       "      <td>2.1</td>\n",
       "      <td>3.0</td>\n",
       "      <td>9.0</td>\n",
       "      <td>NaN</td>\n",
       "      <td>2.0</td>\n",
       "    </tr>\n",
       "    <tr>\n",
       "      <th>8</th>\n",
       "      <td>2.1</td>\n",
       "      <td>4.0</td>\n",
       "      <td>6.0</td>\n",
       "      <td>NaN</td>\n",
       "      <td>2.0</td>\n",
       "    </tr>\n",
       "    <tr>\n",
       "      <th>9</th>\n",
       "      <td>3.1</td>\n",
       "      <td>1.0</td>\n",
       "      <td>1.0</td>\n",
       "      <td>NaN</td>\n",
       "      <td>2.0</td>\n",
       "    </tr>\n",
       "    <tr>\n",
       "      <th>10</th>\n",
       "      <td>3.1</td>\n",
       "      <td>2.0</td>\n",
       "      <td>9.0</td>\n",
       "      <td>3.0</td>\n",
       "      <td>2.0</td>\n",
       "    </tr>\n",
       "    <tr>\n",
       "      <th>11</th>\n",
       "      <td>3.1</td>\n",
       "      <td>3.0</td>\n",
       "      <td>9.0</td>\n",
       "      <td>2.0</td>\n",
       "      <td>2.0</td>\n",
       "    </tr>\n",
       "    <tr>\n",
       "      <th>12</th>\n",
       "      <td>3.1</td>\n",
       "      <td>4.0</td>\n",
       "      <td>10.0</td>\n",
       "      <td>NaN</td>\n",
       "      <td>2.0</td>\n",
       "    </tr>\n",
       "    <tr>\n",
       "      <th>13</th>\n",
       "      <td>3.1</td>\n",
       "      <td>5.0</td>\n",
       "      <td>10.0</td>\n",
       "      <td>NaN</td>\n",
       "      <td>2.0</td>\n",
       "    </tr>\n",
       "    <tr>\n",
       "      <th>14</th>\n",
       "      <td>3.1</td>\n",
       "      <td>6.0</td>\n",
       "      <td>3.0</td>\n",
       "      <td>NaN</td>\n",
       "      <td>2.0</td>\n",
       "    </tr>\n",
       "    <tr>\n",
       "      <th>15</th>\n",
       "      <td>4.1</td>\n",
       "      <td>1.0</td>\n",
       "      <td>1.0</td>\n",
       "      <td>2.0</td>\n",
       "      <td>1.0</td>\n",
       "    </tr>\n",
       "    <tr>\n",
       "      <th>16</th>\n",
       "      <td>4.1</td>\n",
       "      <td>2.0</td>\n",
       "      <td>2.0</td>\n",
       "      <td>1.0</td>\n",
       "      <td>1.0</td>\n",
       "    </tr>\n",
       "    <tr>\n",
       "      <th>17</th>\n",
       "      <td>4.1</td>\n",
       "      <td>3.0</td>\n",
       "      <td>3.0</td>\n",
       "      <td>NaN</td>\n",
       "      <td>2.0</td>\n",
       "    </tr>\n",
       "    <tr>\n",
       "      <th>18</th>\n",
       "      <td>4.1</td>\n",
       "      <td>4.0</td>\n",
       "      <td>3.0</td>\n",
       "      <td>NaN</td>\n",
       "      <td>2.0</td>\n",
       "    </tr>\n",
       "    <tr>\n",
       "      <th>19</th>\n",
       "      <td>4.1</td>\n",
       "      <td>5.0</td>\n",
       "      <td>3.0</td>\n",
       "      <td>NaN</td>\n",
       "      <td>2.0</td>\n",
       "    </tr>\n",
       "    <tr>\n",
       "      <th>20</th>\n",
       "      <td>5.1</td>\n",
       "      <td>1.0</td>\n",
       "      <td>1.0</td>\n",
       "      <td>3.0</td>\n",
       "      <td>1.0</td>\n",
       "    </tr>\n",
       "    <tr>\n",
       "      <th>21</th>\n",
       "      <td>5.1</td>\n",
       "      <td>2.0</td>\n",
       "      <td>9.0</td>\n",
       "      <td>NaN</td>\n",
       "      <td>2.0</td>\n",
       "    </tr>\n",
       "    <tr>\n",
       "      <th>22</th>\n",
       "      <td>5.1</td>\n",
       "      <td>3.0</td>\n",
       "      <td>2.0</td>\n",
       "      <td>1.0</td>\n",
       "      <td>1.0</td>\n",
       "    </tr>\n",
       "    <tr>\n",
       "      <th>23</th>\n",
       "      <td>5.1</td>\n",
       "      <td>4.0</td>\n",
       "      <td>3.0</td>\n",
       "      <td>NaN</td>\n",
       "      <td>2.0</td>\n",
       "    </tr>\n",
       "    <tr>\n",
       "      <th>24</th>\n",
       "      <td>5.1</td>\n",
       "      <td>5.0</td>\n",
       "      <td>3.0</td>\n",
       "      <td>NaN</td>\n",
       "      <td>2.0</td>\n",
       "    </tr>\n",
       "  </tbody>\n",
       "</table>\n",
       "</div>"
      ],
      "text/plain": [
       "   vhog  miembro  v111 - PARENTESCO PSH  v115 - CONVIVE CON PAREJA  \\\n",
       "0   1.1      1.0                    1.0                        2.0   \n",
       "1   1.1      2.0                    2.0                        1.0   \n",
       "2   1.1      3.0                    3.0                        4.0   \n",
       "3   1.1      4.0                    5.0                        3.0   \n",
       "4   1.1      5.0                    7.0                        NaN   \n",
       "5   2.1      1.0                    1.0                        NaN   \n",
       "6   2.1      2.0                   10.0                        NaN   \n",
       "7   2.1      3.0                    9.0                        NaN   \n",
       "8   2.1      4.0                    6.0                        NaN   \n",
       "9   3.1      1.0                    1.0                        NaN   \n",
       "10  3.1      2.0                    9.0                        3.0   \n",
       "11  3.1      3.0                    9.0                        2.0   \n",
       "12  3.1      4.0                   10.0                        NaN   \n",
       "13  3.1      5.0                   10.0                        NaN   \n",
       "14  3.1      6.0                    3.0                        NaN   \n",
       "15  4.1      1.0                    1.0                        2.0   \n",
       "16  4.1      2.0                    2.0                        1.0   \n",
       "17  4.1      3.0                    3.0                        NaN   \n",
       "18  4.1      4.0                    3.0                        NaN   \n",
       "19  4.1      5.0                    3.0                        NaN   \n",
       "20  5.1      1.0                    1.0                        3.0   \n",
       "21  5.1      2.0                    9.0                        NaN   \n",
       "22  5.1      3.0                    2.0                        1.0   \n",
       "23  5.1      4.0                    3.0                        NaN   \n",
       "24  5.1      5.0                    3.0                        NaN   \n",
       "\n",
       "    pareja_nuclear  \n",
       "0              1.0  \n",
       "1              1.0  \n",
       "2              2.0  \n",
       "3              2.0  \n",
       "4              2.0  \n",
       "5              2.0  \n",
       "6              2.0  \n",
       "7              2.0  \n",
       "8              2.0  \n",
       "9              2.0  \n",
       "10             2.0  \n",
       "11             2.0  \n",
       "12             2.0  \n",
       "13             2.0  \n",
       "14             2.0  \n",
       "15             1.0  \n",
       "16             1.0  \n",
       "17             2.0  \n",
       "18             2.0  \n",
       "19             2.0  \n",
       "20             1.0  \n",
       "21             2.0  \n",
       "22             1.0  \n",
       "23             2.0  \n",
       "24             2.0  "
      ]
     },
     "execution_count": 33,
     "metadata": {},
     "output_type": "execute_result"
    }
   ],
   "source": [
    "df[df.columns[np.r_[0, 223, 227, 232, -1]]][0:25]"
   ]
  },
  {
   "cell_type": "code",
   "execution_count": 34,
   "id": "0869cfad",
   "metadata": {},
   "outputs": [],
   "source": [
    "cols= list(df.columns[:233]) + list(df.columns[-1:]) + list(df.columns[233:-1])\n",
    "df = df[cols]\n",
    "# df.columns"
   ]
  },
  {
   "cell_type": "code",
   "execution_count": 35,
   "id": "4a94ec41",
   "metadata": {},
   "outputs": [
    {
     "data": {
      "text/html": [
       "<div>\n",
       "<style scoped>\n",
       "    .dataframe tbody tr th:only-of-type {\n",
       "        vertical-align: middle;\n",
       "    }\n",
       "\n",
       "    .dataframe tbody tr th {\n",
       "        vertical-align: top;\n",
       "    }\n",
       "\n",
       "    .dataframe thead th {\n",
       "        text-align: right;\n",
       "    }\n",
       "</style>\n",
       "<table border=\"1\" class=\"dataframe\">\n",
       "  <thead>\n",
       "    <tr style=\"text-align: right;\">\n",
       "      <th></th>\n",
       "      <th>v114 - TIENE PAREJA</th>\n",
       "      <th>v115 - CONVIVE CON PAREJA</th>\n",
       "    </tr>\n",
       "  </thead>\n",
       "  <tbody>\n",
       "    <tr>\n",
       "      <th>0</th>\n",
       "      <td>1.0</td>\n",
       "      <td>2.0</td>\n",
       "    </tr>\n",
       "    <tr>\n",
       "      <th>1</th>\n",
       "      <td>1.0</td>\n",
       "      <td>1.0</td>\n",
       "    </tr>\n",
       "    <tr>\n",
       "      <th>2</th>\n",
       "      <td>1.0</td>\n",
       "      <td>4.0</td>\n",
       "    </tr>\n",
       "    <tr>\n",
       "      <th>3</th>\n",
       "      <td>1.0</td>\n",
       "      <td>3.0</td>\n",
       "    </tr>\n",
       "    <tr>\n",
       "      <th>4</th>\n",
       "      <td>NaN</td>\n",
       "      <td>NaN</td>\n",
       "    </tr>\n",
       "    <tr>\n",
       "      <th>5</th>\n",
       "      <td>2.0</td>\n",
       "      <td>NaN</td>\n",
       "    </tr>\n",
       "    <tr>\n",
       "      <th>6</th>\n",
       "      <td>2.0</td>\n",
       "      <td>NaN</td>\n",
       "    </tr>\n",
       "    <tr>\n",
       "      <th>7</th>\n",
       "      <td>2.0</td>\n",
       "      <td>NaN</td>\n",
       "    </tr>\n",
       "    <tr>\n",
       "      <th>8</th>\n",
       "      <td>2.0</td>\n",
       "      <td>NaN</td>\n",
       "    </tr>\n",
       "    <tr>\n",
       "      <th>9</th>\n",
       "      <td>2.0</td>\n",
       "      <td>NaN</td>\n",
       "    </tr>\n",
       "    <tr>\n",
       "      <th>10</th>\n",
       "      <td>1.0</td>\n",
       "      <td>3.0</td>\n",
       "    </tr>\n",
       "    <tr>\n",
       "      <th>11</th>\n",
       "      <td>1.0</td>\n",
       "      <td>2.0</td>\n",
       "    </tr>\n",
       "    <tr>\n",
       "      <th>12</th>\n",
       "      <td>2.0</td>\n",
       "      <td>NaN</td>\n",
       "    </tr>\n",
       "    <tr>\n",
       "      <th>13</th>\n",
       "      <td>2.0</td>\n",
       "      <td>NaN</td>\n",
       "    </tr>\n",
       "    <tr>\n",
       "      <th>14</th>\n",
       "      <td>NaN</td>\n",
       "      <td>NaN</td>\n",
       "    </tr>\n",
       "    <tr>\n",
       "      <th>15</th>\n",
       "      <td>1.0</td>\n",
       "      <td>2.0</td>\n",
       "    </tr>\n",
       "    <tr>\n",
       "      <th>16</th>\n",
       "      <td>1.0</td>\n",
       "      <td>1.0</td>\n",
       "    </tr>\n",
       "    <tr>\n",
       "      <th>17</th>\n",
       "      <td>NaN</td>\n",
       "      <td>NaN</td>\n",
       "    </tr>\n",
       "    <tr>\n",
       "      <th>18</th>\n",
       "      <td>NaN</td>\n",
       "      <td>NaN</td>\n",
       "    </tr>\n",
       "    <tr>\n",
       "      <th>19</th>\n",
       "      <td>NaN</td>\n",
       "      <td>NaN</td>\n",
       "    </tr>\n",
       "  </tbody>\n",
       "</table>\n",
       "</div>"
      ],
      "text/plain": [
       "    v114 - TIENE PAREJA  v115 - CONVIVE CON PAREJA\n",
       "0                   1.0                        2.0\n",
       "1                   1.0                        1.0\n",
       "2                   1.0                        4.0\n",
       "3                   1.0                        3.0\n",
       "4                   NaN                        NaN\n",
       "5                   2.0                        NaN\n",
       "6                   2.0                        NaN\n",
       "7                   2.0                        NaN\n",
       "8                   2.0                        NaN\n",
       "9                   2.0                        NaN\n",
       "10                  1.0                        3.0\n",
       "11                  1.0                        2.0\n",
       "12                  2.0                        NaN\n",
       "13                  2.0                        NaN\n",
       "14                  NaN                        NaN\n",
       "15                  1.0                        2.0\n",
       "16                  1.0                        1.0\n",
       "17                  NaN                        NaN\n",
       "18                  NaN                        NaN\n",
       "19                  NaN                        NaN"
      ]
     },
     "execution_count": 35,
     "metadata": {},
     "output_type": "execute_result"
    }
   ],
   "source": [
    "df.iloc[:20, 231:233]"
   ]
  },
  {
   "cell_type": "code",
   "execution_count": 36,
   "id": "b33c0d58",
   "metadata": {},
   "outputs": [
    {
     "data": {
      "text/plain": [
       "20876"
      ]
     },
     "execution_count": 36,
     "metadata": {},
     "output_type": "execute_result"
    },
    {
     "name": "stdout",
     "output_type": "stream",
     "text": [
      "Dicen tener pareja 11982 personas\n",
      "De las cuales 10884 personas han informado si conviven o no con ella\n"
     ]
    }
   ],
   "source": [
    "df['v114 - TIENE PAREJA'].count()\n",
    "print('Dicen tener pareja ' + str( (df['v114 - TIENE PAREJA'] == 1).sum() ) + ' personas')\n",
    "# df['v115 - CONVIVE CON PAREJA'].count()\n",
    "print('De las cuales ' + str(df['v115 - CONVIVE CON PAREJA'].count()) + ' personas han informado si conviven o no con ella'  ) "
   ]
  },
  {
   "cell_type": "code",
   "execution_count": 37,
   "id": "9f9cde06",
   "metadata": {},
   "outputs": [
    {
     "data": {
      "text/plain": [
       "(1098, 2)"
      ]
     },
     "execution_count": 37,
     "metadata": {},
     "output_type": "execute_result"
    },
    {
     "data": {
      "text/html": [
       "<div>\n",
       "<style scoped>\n",
       "    .dataframe tbody tr th:only-of-type {\n",
       "        vertical-align: middle;\n",
       "    }\n",
       "\n",
       "    .dataframe tbody tr th {\n",
       "        vertical-align: top;\n",
       "    }\n",
       "\n",
       "    .dataframe thead th {\n",
       "        text-align: right;\n",
       "    }\n",
       "</style>\n",
       "<table border=\"1\" class=\"dataframe\">\n",
       "  <thead>\n",
       "    <tr style=\"text-align: right;\">\n",
       "      <th></th>\n",
       "      <th>v114 - TIENE PAREJA</th>\n",
       "      <th>v115 - CONVIVE CON PAREJA</th>\n",
       "    </tr>\n",
       "  </thead>\n",
       "  <tbody>\n",
       "    <tr>\n",
       "      <th>74</th>\n",
       "      <td>1.0</td>\n",
       "      <td>NaN</td>\n",
       "    </tr>\n",
       "    <tr>\n",
       "      <th>123</th>\n",
       "      <td>1.0</td>\n",
       "      <td>NaN</td>\n",
       "    </tr>\n",
       "    <tr>\n",
       "      <th>149</th>\n",
       "      <td>1.0</td>\n",
       "      <td>NaN</td>\n",
       "    </tr>\n",
       "    <tr>\n",
       "      <th>272</th>\n",
       "      <td>1.0</td>\n",
       "      <td>NaN</td>\n",
       "    </tr>\n",
       "    <tr>\n",
       "      <th>318</th>\n",
       "      <td>1.0</td>\n",
       "      <td>NaN</td>\n",
       "    </tr>\n",
       "    <tr>\n",
       "      <th>322</th>\n",
       "      <td>1.0</td>\n",
       "      <td>NaN</td>\n",
       "    </tr>\n",
       "    <tr>\n",
       "      <th>356</th>\n",
       "      <td>1.0</td>\n",
       "      <td>NaN</td>\n",
       "    </tr>\n",
       "    <tr>\n",
       "      <th>357</th>\n",
       "      <td>1.0</td>\n",
       "      <td>NaN</td>\n",
       "    </tr>\n",
       "    <tr>\n",
       "      <th>368</th>\n",
       "      <td>1.0</td>\n",
       "      <td>NaN</td>\n",
       "    </tr>\n",
       "    <tr>\n",
       "      <th>376</th>\n",
       "      <td>1.0</td>\n",
       "      <td>NaN</td>\n",
       "    </tr>\n",
       "  </tbody>\n",
       "</table>\n",
       "</div>"
      ],
      "text/plain": [
       "     v114 - TIENE PAREJA  v115 - CONVIVE CON PAREJA\n",
       "74                   1.0                        NaN\n",
       "123                  1.0                        NaN\n",
       "149                  1.0                        NaN\n",
       "272                  1.0                        NaN\n",
       "318                  1.0                        NaN\n",
       "322                  1.0                        NaN\n",
       "356                  1.0                        NaN\n",
       "357                  1.0                        NaN\n",
       "368                  1.0                        NaN\n",
       "376                  1.0                        NaN"
      ]
     },
     "execution_count": 37,
     "metadata": {},
     "output_type": "execute_result"
    }
   ],
   "source": [
    "# Casos que dicen sí tener pareja pero no contestaron si conviven con esta o no \n",
    "filtered = df[df['v114 - TIENE PAREJA'] == 1 & df['v115 - CONVIVE CON PAREJA'].isna()]\n",
    "filtered = filtered[['v114 - TIENE PAREJA', 'v115 - CONVIVE CON PAREJA']]\n",
    "filtered.shape\n",
    "# 10884+1098\n",
    "filtered[:10]"
   ]
  },
  {
   "cell_type": "code",
   "execution_count": 38,
   "id": "3a29ff0a",
   "metadata": {},
   "outputs": [],
   "source": [
    "## TRANSFORMO LA VARIABLE 'FINANCIAMIENTO DE LA COMPRA O CONSTRUCCIÓN DE LA VIVIENDA' (A-B-C-D-E-F)\n",
    "## EN 'FINANCIAMIENTO DE LA COMPRA O CONSTRUCCIÓN DE LA VIVIENDA' (AHORROS, CREDITO, CREDITO, PRESTAMO, PRESTAMO, HERENCIA, OTROS)"
   ]
  },
  {
   "cell_type": "code",
   "execution_count": 39,
   "id": "61679636",
   "metadata": {},
   "outputs": [
    {
     "data": {
      "text/html": [
       "<div>\n",
       "<style scoped>\n",
       "    .dataframe tbody tr th:only-of-type {\n",
       "        vertical-align: middle;\n",
       "    }\n",
       "\n",
       "    .dataframe tbody tr th {\n",
       "        vertical-align: top;\n",
       "    }\n",
       "\n",
       "    .dataframe thead th {\n",
       "        text-align: right;\n",
       "    }\n",
       "</style>\n",
       "<table border=\"1\" class=\"dataframe\">\n",
       "  <thead>\n",
       "    <tr style=\"text-align: right;\">\n",
       "      <th></th>\n",
       "      <th>V10a - FINANCIAMIENTO DE LA COMPRA O CONSTRUCCIÓN DE LA VIVIENDA</th>\n",
       "      <th>v10b - FINANCIAMIENTO DE LA COMPRA O CONSTRUCCIÓN DE LA VIVIENDA</th>\n",
       "      <th>v10c - FINANCIAMIENTO DE LA COMPRA O CONSTRUCCIÓN DE LA VIVIENDA</th>\n",
       "      <th>v10d - FINANCIAMIENTO DE LA COMPRA O CONSTRUCCIÓN DE LA VIVIENDA</th>\n",
       "      <th>v10e - FINANCIAMIENTO DE LA COMPRA O CONSTRUCCIÓN DE LA VIVIENDA</th>\n",
       "      <th>v10f - FINANCIAMIENTO DE LA COMPRA O CONSTRUCCIÓN DE LA VIVIENDA</th>\n",
       "    </tr>\n",
       "  </thead>\n",
       "  <tbody>\n",
       "    <tr>\n",
       "      <th>0</th>\n",
       "      <td>1.0</td>\n",
       "      <td>NaN</td>\n",
       "      <td>NaN</td>\n",
       "      <td>NaN</td>\n",
       "      <td>NaN</td>\n",
       "      <td>NaN</td>\n",
       "    </tr>\n",
       "    <tr>\n",
       "      <th>1</th>\n",
       "      <td>1.0</td>\n",
       "      <td>NaN</td>\n",
       "      <td>NaN</td>\n",
       "      <td>NaN</td>\n",
       "      <td>NaN</td>\n",
       "      <td>NaN</td>\n",
       "    </tr>\n",
       "    <tr>\n",
       "      <th>2</th>\n",
       "      <td>1.0</td>\n",
       "      <td>NaN</td>\n",
       "      <td>NaN</td>\n",
       "      <td>NaN</td>\n",
       "      <td>NaN</td>\n",
       "      <td>NaN</td>\n",
       "    </tr>\n",
       "    <tr>\n",
       "      <th>3</th>\n",
       "      <td>1.0</td>\n",
       "      <td>NaN</td>\n",
       "      <td>NaN</td>\n",
       "      <td>NaN</td>\n",
       "      <td>NaN</td>\n",
       "      <td>NaN</td>\n",
       "    </tr>\n",
       "    <tr>\n",
       "      <th>4</th>\n",
       "      <td>1.0</td>\n",
       "      <td>NaN</td>\n",
       "      <td>NaN</td>\n",
       "      <td>NaN</td>\n",
       "      <td>NaN</td>\n",
       "      <td>NaN</td>\n",
       "    </tr>\n",
       "    <tr>\n",
       "      <th>5</th>\n",
       "      <td>1.0</td>\n",
       "      <td>7.0</td>\n",
       "      <td>NaN</td>\n",
       "      <td>NaN</td>\n",
       "      <td>NaN</td>\n",
       "      <td>NaN</td>\n",
       "    </tr>\n",
       "    <tr>\n",
       "      <th>6</th>\n",
       "      <td>1.0</td>\n",
       "      <td>7.0</td>\n",
       "      <td>NaN</td>\n",
       "      <td>NaN</td>\n",
       "      <td>NaN</td>\n",
       "      <td>NaN</td>\n",
       "    </tr>\n",
       "    <tr>\n",
       "      <th>7</th>\n",
       "      <td>1.0</td>\n",
       "      <td>7.0</td>\n",
       "      <td>NaN</td>\n",
       "      <td>NaN</td>\n",
       "      <td>NaN</td>\n",
       "      <td>NaN</td>\n",
       "    </tr>\n",
       "    <tr>\n",
       "      <th>8</th>\n",
       "      <td>1.0</td>\n",
       "      <td>7.0</td>\n",
       "      <td>NaN</td>\n",
       "      <td>NaN</td>\n",
       "      <td>NaN</td>\n",
       "      <td>NaN</td>\n",
       "    </tr>\n",
       "    <tr>\n",
       "      <th>9</th>\n",
       "      <td>6.0</td>\n",
       "      <td>NaN</td>\n",
       "      <td>NaN</td>\n",
       "      <td>NaN</td>\n",
       "      <td>NaN</td>\n",
       "      <td>NaN</td>\n",
       "    </tr>\n",
       "    <tr>\n",
       "      <th>10</th>\n",
       "      <td>6.0</td>\n",
       "      <td>NaN</td>\n",
       "      <td>NaN</td>\n",
       "      <td>NaN</td>\n",
       "      <td>NaN</td>\n",
       "      <td>NaN</td>\n",
       "    </tr>\n",
       "    <tr>\n",
       "      <th>11</th>\n",
       "      <td>6.0</td>\n",
       "      <td>NaN</td>\n",
       "      <td>NaN</td>\n",
       "      <td>NaN</td>\n",
       "      <td>NaN</td>\n",
       "      <td>NaN</td>\n",
       "    </tr>\n",
       "    <tr>\n",
       "      <th>12</th>\n",
       "      <td>6.0</td>\n",
       "      <td>NaN</td>\n",
       "      <td>NaN</td>\n",
       "      <td>NaN</td>\n",
       "      <td>NaN</td>\n",
       "      <td>NaN</td>\n",
       "    </tr>\n",
       "    <tr>\n",
       "      <th>13</th>\n",
       "      <td>6.0</td>\n",
       "      <td>NaN</td>\n",
       "      <td>NaN</td>\n",
       "      <td>NaN</td>\n",
       "      <td>NaN</td>\n",
       "      <td>NaN</td>\n",
       "    </tr>\n",
       "    <tr>\n",
       "      <th>14</th>\n",
       "      <td>6.0</td>\n",
       "      <td>NaN</td>\n",
       "      <td>NaN</td>\n",
       "      <td>NaN</td>\n",
       "      <td>NaN</td>\n",
       "      <td>NaN</td>\n",
       "    </tr>\n",
       "    <tr>\n",
       "      <th>15</th>\n",
       "      <td>1.0</td>\n",
       "      <td>7.0</td>\n",
       "      <td>NaN</td>\n",
       "      <td>NaN</td>\n",
       "      <td>NaN</td>\n",
       "      <td>NaN</td>\n",
       "    </tr>\n",
       "    <tr>\n",
       "      <th>16</th>\n",
       "      <td>1.0</td>\n",
       "      <td>7.0</td>\n",
       "      <td>NaN</td>\n",
       "      <td>NaN</td>\n",
       "      <td>NaN</td>\n",
       "      <td>NaN</td>\n",
       "    </tr>\n",
       "    <tr>\n",
       "      <th>17</th>\n",
       "      <td>1.0</td>\n",
       "      <td>7.0</td>\n",
       "      <td>NaN</td>\n",
       "      <td>NaN</td>\n",
       "      <td>NaN</td>\n",
       "      <td>NaN</td>\n",
       "    </tr>\n",
       "    <tr>\n",
       "      <th>18</th>\n",
       "      <td>1.0</td>\n",
       "      <td>7.0</td>\n",
       "      <td>NaN</td>\n",
       "      <td>NaN</td>\n",
       "      <td>NaN</td>\n",
       "      <td>NaN</td>\n",
       "    </tr>\n",
       "    <tr>\n",
       "      <th>19</th>\n",
       "      <td>1.0</td>\n",
       "      <td>7.0</td>\n",
       "      <td>NaN</td>\n",
       "      <td>NaN</td>\n",
       "      <td>NaN</td>\n",
       "      <td>NaN</td>\n",
       "    </tr>\n",
       "    <tr>\n",
       "      <th>20</th>\n",
       "      <td>1.0</td>\n",
       "      <td>2.0</td>\n",
       "      <td>NaN</td>\n",
       "      <td>NaN</td>\n",
       "      <td>NaN</td>\n",
       "      <td>NaN</td>\n",
       "    </tr>\n",
       "    <tr>\n",
       "      <th>21</th>\n",
       "      <td>1.0</td>\n",
       "      <td>2.0</td>\n",
       "      <td>NaN</td>\n",
       "      <td>NaN</td>\n",
       "      <td>NaN</td>\n",
       "      <td>NaN</td>\n",
       "    </tr>\n",
       "    <tr>\n",
       "      <th>22</th>\n",
       "      <td>1.0</td>\n",
       "      <td>2.0</td>\n",
       "      <td>NaN</td>\n",
       "      <td>NaN</td>\n",
       "      <td>NaN</td>\n",
       "      <td>NaN</td>\n",
       "    </tr>\n",
       "    <tr>\n",
       "      <th>23</th>\n",
       "      <td>1.0</td>\n",
       "      <td>2.0</td>\n",
       "      <td>NaN</td>\n",
       "      <td>NaN</td>\n",
       "      <td>NaN</td>\n",
       "      <td>NaN</td>\n",
       "    </tr>\n",
       "    <tr>\n",
       "      <th>24</th>\n",
       "      <td>1.0</td>\n",
       "      <td>2.0</td>\n",
       "      <td>NaN</td>\n",
       "      <td>NaN</td>\n",
       "      <td>NaN</td>\n",
       "      <td>NaN</td>\n",
       "    </tr>\n",
       "  </tbody>\n",
       "</table>\n",
       "</div>"
      ],
      "text/plain": [
       "    V10a - FINANCIAMIENTO DE LA COMPRA O CONSTRUCCIÓN DE LA VIVIENDA  \\\n",
       "0                                                 1.0                  \n",
       "1                                                 1.0                  \n",
       "2                                                 1.0                  \n",
       "3                                                 1.0                  \n",
       "4                                                 1.0                  \n",
       "5                                                 1.0                  \n",
       "6                                                 1.0                  \n",
       "7                                                 1.0                  \n",
       "8                                                 1.0                  \n",
       "9                                                 6.0                  \n",
       "10                                                6.0                  \n",
       "11                                                6.0                  \n",
       "12                                                6.0                  \n",
       "13                                                6.0                  \n",
       "14                                                6.0                  \n",
       "15                                                1.0                  \n",
       "16                                                1.0                  \n",
       "17                                                1.0                  \n",
       "18                                                1.0                  \n",
       "19                                                1.0                  \n",
       "20                                                1.0                  \n",
       "21                                                1.0                  \n",
       "22                                                1.0                  \n",
       "23                                                1.0                  \n",
       "24                                                1.0                  \n",
       "\n",
       "    v10b - FINANCIAMIENTO DE LA COMPRA O CONSTRUCCIÓN DE LA VIVIENDA  \\\n",
       "0                                                 NaN                  \n",
       "1                                                 NaN                  \n",
       "2                                                 NaN                  \n",
       "3                                                 NaN                  \n",
       "4                                                 NaN                  \n",
       "5                                                 7.0                  \n",
       "6                                                 7.0                  \n",
       "7                                                 7.0                  \n",
       "8                                                 7.0                  \n",
       "9                                                 NaN                  \n",
       "10                                                NaN                  \n",
       "11                                                NaN                  \n",
       "12                                                NaN                  \n",
       "13                                                NaN                  \n",
       "14                                                NaN                  \n",
       "15                                                7.0                  \n",
       "16                                                7.0                  \n",
       "17                                                7.0                  \n",
       "18                                                7.0                  \n",
       "19                                                7.0                  \n",
       "20                                                2.0                  \n",
       "21                                                2.0                  \n",
       "22                                                2.0                  \n",
       "23                                                2.0                  \n",
       "24                                                2.0                  \n",
       "\n",
       "    v10c - FINANCIAMIENTO DE LA COMPRA O CONSTRUCCIÓN DE LA VIVIENDA  \\\n",
       "0                                                 NaN                  \n",
       "1                                                 NaN                  \n",
       "2                                                 NaN                  \n",
       "3                                                 NaN                  \n",
       "4                                                 NaN                  \n",
       "5                                                 NaN                  \n",
       "6                                                 NaN                  \n",
       "7                                                 NaN                  \n",
       "8                                                 NaN                  \n",
       "9                                                 NaN                  \n",
       "10                                                NaN                  \n",
       "11                                                NaN                  \n",
       "12                                                NaN                  \n",
       "13                                                NaN                  \n",
       "14                                                NaN                  \n",
       "15                                                NaN                  \n",
       "16                                                NaN                  \n",
       "17                                                NaN                  \n",
       "18                                                NaN                  \n",
       "19                                                NaN                  \n",
       "20                                                NaN                  \n",
       "21                                                NaN                  \n",
       "22                                                NaN                  \n",
       "23                                                NaN                  \n",
       "24                                                NaN                  \n",
       "\n",
       "    v10d - FINANCIAMIENTO DE LA COMPRA O CONSTRUCCIÓN DE LA VIVIENDA  \\\n",
       "0                                                 NaN                  \n",
       "1                                                 NaN                  \n",
       "2                                                 NaN                  \n",
       "3                                                 NaN                  \n",
       "4                                                 NaN                  \n",
       "5                                                 NaN                  \n",
       "6                                                 NaN                  \n",
       "7                                                 NaN                  \n",
       "8                                                 NaN                  \n",
       "9                                                 NaN                  \n",
       "10                                                NaN                  \n",
       "11                                                NaN                  \n",
       "12                                                NaN                  \n",
       "13                                                NaN                  \n",
       "14                                                NaN                  \n",
       "15                                                NaN                  \n",
       "16                                                NaN                  \n",
       "17                                                NaN                  \n",
       "18                                                NaN                  \n",
       "19                                                NaN                  \n",
       "20                                                NaN                  \n",
       "21                                                NaN                  \n",
       "22                                                NaN                  \n",
       "23                                                NaN                  \n",
       "24                                                NaN                  \n",
       "\n",
       "    v10e - FINANCIAMIENTO DE LA COMPRA O CONSTRUCCIÓN DE LA VIVIENDA  \\\n",
       "0                                                 NaN                  \n",
       "1                                                 NaN                  \n",
       "2                                                 NaN                  \n",
       "3                                                 NaN                  \n",
       "4                                                 NaN                  \n",
       "5                                                 NaN                  \n",
       "6                                                 NaN                  \n",
       "7                                                 NaN                  \n",
       "8                                                 NaN                  \n",
       "9                                                 NaN                  \n",
       "10                                                NaN                  \n",
       "11                                                NaN                  \n",
       "12                                                NaN                  \n",
       "13                                                NaN                  \n",
       "14                                                NaN                  \n",
       "15                                                NaN                  \n",
       "16                                                NaN                  \n",
       "17                                                NaN                  \n",
       "18                                                NaN                  \n",
       "19                                                NaN                  \n",
       "20                                                NaN                  \n",
       "21                                                NaN                  \n",
       "22                                                NaN                  \n",
       "23                                                NaN                  \n",
       "24                                                NaN                  \n",
       "\n",
       "    v10f - FINANCIAMIENTO DE LA COMPRA O CONSTRUCCIÓN DE LA VIVIENDA  \n",
       "0                                                 NaN                 \n",
       "1                                                 NaN                 \n",
       "2                                                 NaN                 \n",
       "3                                                 NaN                 \n",
       "4                                                 NaN                 \n",
       "5                                                 NaN                 \n",
       "6                                                 NaN                 \n",
       "7                                                 NaN                 \n",
       "8                                                 NaN                 \n",
       "9                                                 NaN                 \n",
       "10                                                NaN                 \n",
       "11                                                NaN                 \n",
       "12                                                NaN                 \n",
       "13                                                NaN                 \n",
       "14                                                NaN                 \n",
       "15                                                NaN                 \n",
       "16                                                NaN                 \n",
       "17                                                NaN                 \n",
       "18                                                NaN                 \n",
       "19                                                NaN                 \n",
       "20                                                NaN                 \n",
       "21                                                NaN                 \n",
       "22                                                NaN                 \n",
       "23                                                NaN                 \n",
       "24                                                NaN                 "
      ]
     },
     "execution_count": 39,
     "metadata": {},
     "output_type": "execute_result"
    }
   ],
   "source": [
    "df[df.columns[15:21]][:25]"
   ]
  },
  {
   "cell_type": "code",
   "execution_count": 40,
   "id": "f8991043",
   "metadata": {
    "scrolled": false
   },
   "outputs": [],
   "source": [
    "var = 'FINANCIAMIENTO DE VIVIENDA (COMPRA O CONSTRUCCION)'\n",
    "ls = (var+ ': AHORROS'), (var + ': CREDITO HIPOTECARIO/BANCARIO'), (var+':CREDITO DE PRESTAMISTA'),(var+ ': PRESTAMO DE FAMILIAR/ AMIGX'), (var+ ': PRESTAMO DE UNX DESCONOCIDX'), (var+ ': HERENCIA'),(var + ': OTROS')\n",
    "subset = df[df.columns[15:21]]"
   ]
  },
  {
   "cell_type": "code",
   "execution_count": 41,
   "id": "6d3b8b76",
   "metadata": {
    "scrolled": false
   },
   "outputs": [],
   "source": [
    "subset = subset.astype(pd.CategoricalDtype())\n",
    "a = pd.get_dummies(subset, prefix=['','','','','',''])\n",
    "b = a.groupby(a.columns[:], axis= 1).sum()\n",
    "b.columns = ls"
   ]
  },
  {
   "cell_type": "code",
   "execution_count": 42,
   "id": "431eccad",
   "metadata": {},
   "outputs": [],
   "source": [
    "df[b.columns[:]] = b[b.columns[:]]\n",
    "df = df.drop(df[df.columns[15:21]], axis = 1)"
   ]
  },
  {
   "cell_type": "code",
   "execution_count": 43,
   "id": "fa6ad18e",
   "metadata": {},
   "outputs": [],
   "source": [
    "# df.columns"
   ]
  },
  {
   "cell_type": "code",
   "execution_count": 44,
   "id": "d0ee5066",
   "metadata": {},
   "outputs": [],
   "source": [
    "cols = list(df.columns[:15]) + list(df.columns[-7:]) + list(df.columns[15:-7])\n",
    "df = df[cols]\n",
    "# df.columns"
   ]
  },
  {
   "cell_type": "code",
   "execution_count": 45,
   "id": "186defa9",
   "metadata": {},
   "outputs": [],
   "source": [
    "## TRANSFORMO LA VARIABLE 'RECIBIÓ EL ÚLTIMO AÑO ALIMENTOS' (A-B-C)\n",
    "## EN 'FINANCIAMIENTO DE LA COMPRA O CONSTRUCCIÓN DE LA VIVIENDA' (ORGANISMO PUBLICO, OORGANIZACION SIN FINES DE LUCRO\n",
    "## OBRA SOCIAL O SINDICATO, INSTITUCION RELIGIOSA, OTRA, PERSONA QUE NO VIVE EN EL HOGAR)"
   ]
  },
  {
   "cell_type": "code",
   "execution_count": 46,
   "id": "129c7d9e",
   "metadata": {},
   "outputs": [
    {
     "data": {
      "text/plain": [
       "'v62 - RECIBIÓ EL ÚLTIMO AÑO ALIMENTOS'"
      ]
     },
     "execution_count": 46,
     "metadata": {},
     "output_type": "execute_result"
    }
   ],
   "source": [
    "df.columns[73]"
   ]
  },
  {
   "cell_type": "code",
   "execution_count": 47,
   "id": "365a5489",
   "metadata": {},
   "outputs": [
    {
     "data": {
      "text/plain": [
       "Index(['V62a - ORGANISMO, INSTITUCIÓN, PERSONA QUE OTROGÓ ALIMENTOS',\n",
       "       'v62b - ORGANISMO, INSTITUCIÓN, PERSONA QUE OTROGÓ ALIMENTOS',\n",
       "       'v62c - ORGANISMO, INSTITUCIÓN, PERSONA QUE OTROGÓ ALIMENTOS'],\n",
       "      dtype='object')"
      ]
     },
     "execution_count": 47,
     "metadata": {},
     "output_type": "execute_result"
    }
   ],
   "source": [
    "df.columns[74:77]"
   ]
  },
  {
   "cell_type": "code",
   "execution_count": 48,
   "id": "c933eabb",
   "metadata": {},
   "outputs": [
    {
     "data": {
      "text/plain": [
       "('v62 - RECIBIÓ EL ÚLTIMO AÑO ALIMENTOS POR ORGANISMO PUBLICO',\n",
       " 'v62 - RECIBIÓ EL ÚLTIMO AÑO ALIMENTOS POR ORGANIZACION SIN FINES DE LUCRO',\n",
       " 'v62 - RECIBIÓ EL ÚLTIMO AÑO ALIMENTOS POR OBRA SOCIAL O SINDICATO',\n",
       " 'v62 - RECIBIÓ EL ÚLTIMO AÑO ALIMENTOS POR INSTITUCION RELIGIOSA',\n",
       " 'v62 - RECIBIÓ EL ÚLTIMO AÑO ALIMENTOS POR OTRA',\n",
       " 'v62 - RECIBIÓ EL ÚLTIMO AÑO ALIMENTOS POR PERSONA QUE NO VIVE EN EL HOGAR')"
      ]
     },
     "execution_count": 48,
     "metadata": {},
     "output_type": "execute_result"
    }
   ],
   "source": [
    "var = df.columns[73]\n",
    "or_p_ = ' POR ORGANISMO PUBLICO'\n",
    "sfl_ = ' POR ORGANIZACION SIN FINES DE LUCRO'\n",
    "oss_ = ' POR OBRA SOCIAL O SINDICATO'\n",
    "i_rel_ = ' POR INSTITUCION RELIGIOSA'\n",
    "o_ = ' POR OTRA'\n",
    "p_ = ' POR PERSONA QUE NO VIVE EN EL HOGAR' \n",
    "ls = (var + or_p_ ), (var + sfl_ ), (var+ oss_), (var+ i_rel_), (var+ o_), (var+ p_)\n",
    "ls"
   ]
  },
  {
   "cell_type": "code",
   "execution_count": 49,
   "id": "3ea6b0da",
   "metadata": {
    "scrolled": true
   },
   "outputs": [],
   "source": [
    "subset = df[df.columns[74:77]]\n",
    "subset = subset.astype(pd.CategoricalDtype())\n",
    "a = pd.get_dummies(subset, prefix= ['', '', ''])\n",
    "b = a.groupby(a.columns[:], axis= 1).sum()\n",
    "b.columns = ls"
   ]
  },
  {
   "cell_type": "code",
   "execution_count": 50,
   "id": "51f24e6e",
   "metadata": {},
   "outputs": [
    {
     "data": {
      "text/html": [
       "<div>\n",
       "<style scoped>\n",
       "    .dataframe tbody tr th:only-of-type {\n",
       "        vertical-align: middle;\n",
       "    }\n",
       "\n",
       "    .dataframe tbody tr th {\n",
       "        vertical-align: top;\n",
       "    }\n",
       "\n",
       "    .dataframe thead th {\n",
       "        text-align: right;\n",
       "    }\n",
       "</style>\n",
       "<table border=\"1\" class=\"dataframe\">\n",
       "  <thead>\n",
       "    <tr style=\"text-align: right;\">\n",
       "      <th></th>\n",
       "      <th>V62a - ORGANISMO, INSTITUCIÓN, PERSONA QUE OTROGÓ ALIMENTOS</th>\n",
       "      <th>v62b - ORGANISMO, INSTITUCIÓN, PERSONA QUE OTROGÓ ALIMENTOS</th>\n",
       "      <th>v62c - ORGANISMO, INSTITUCIÓN, PERSONA QUE OTROGÓ ALIMENTOS</th>\n",
       "    </tr>\n",
       "  </thead>\n",
       "  <tbody>\n",
       "    <tr>\n",
       "      <th>0</th>\n",
       "      <td>NaN</td>\n",
       "      <td>NaN</td>\n",
       "      <td>NaN</td>\n",
       "    </tr>\n",
       "    <tr>\n",
       "      <th>1</th>\n",
       "      <td>NaN</td>\n",
       "      <td>NaN</td>\n",
       "      <td>NaN</td>\n",
       "    </tr>\n",
       "    <tr>\n",
       "      <th>2</th>\n",
       "      <td>NaN</td>\n",
       "      <td>NaN</td>\n",
       "      <td>NaN</td>\n",
       "    </tr>\n",
       "    <tr>\n",
       "      <th>3</th>\n",
       "      <td>NaN</td>\n",
       "      <td>NaN</td>\n",
       "      <td>NaN</td>\n",
       "    </tr>\n",
       "    <tr>\n",
       "      <th>4</th>\n",
       "      <td>NaN</td>\n",
       "      <td>NaN</td>\n",
       "      <td>NaN</td>\n",
       "    </tr>\n",
       "    <tr>\n",
       "      <th>5</th>\n",
       "      <td>NaN</td>\n",
       "      <td>NaN</td>\n",
       "      <td>NaN</td>\n",
       "    </tr>\n",
       "    <tr>\n",
       "      <th>6</th>\n",
       "      <td>NaN</td>\n",
       "      <td>NaN</td>\n",
       "      <td>NaN</td>\n",
       "    </tr>\n",
       "    <tr>\n",
       "      <th>7</th>\n",
       "      <td>NaN</td>\n",
       "      <td>NaN</td>\n",
       "      <td>NaN</td>\n",
       "    </tr>\n",
       "    <tr>\n",
       "      <th>8</th>\n",
       "      <td>NaN</td>\n",
       "      <td>NaN</td>\n",
       "      <td>NaN</td>\n",
       "    </tr>\n",
       "    <tr>\n",
       "      <th>9</th>\n",
       "      <td>NaN</td>\n",
       "      <td>NaN</td>\n",
       "      <td>NaN</td>\n",
       "    </tr>\n",
       "    <tr>\n",
       "      <th>10</th>\n",
       "      <td>NaN</td>\n",
       "      <td>NaN</td>\n",
       "      <td>NaN</td>\n",
       "    </tr>\n",
       "    <tr>\n",
       "      <th>11</th>\n",
       "      <td>NaN</td>\n",
       "      <td>NaN</td>\n",
       "      <td>NaN</td>\n",
       "    </tr>\n",
       "    <tr>\n",
       "      <th>12</th>\n",
       "      <td>NaN</td>\n",
       "      <td>NaN</td>\n",
       "      <td>NaN</td>\n",
       "    </tr>\n",
       "    <tr>\n",
       "      <th>13</th>\n",
       "      <td>NaN</td>\n",
       "      <td>NaN</td>\n",
       "      <td>NaN</td>\n",
       "    </tr>\n",
       "    <tr>\n",
       "      <th>14</th>\n",
       "      <td>NaN</td>\n",
       "      <td>NaN</td>\n",
       "      <td>NaN</td>\n",
       "    </tr>\n",
       "    <tr>\n",
       "      <th>15</th>\n",
       "      <td>NaN</td>\n",
       "      <td>NaN</td>\n",
       "      <td>NaN</td>\n",
       "    </tr>\n",
       "    <tr>\n",
       "      <th>16</th>\n",
       "      <td>NaN</td>\n",
       "      <td>NaN</td>\n",
       "      <td>NaN</td>\n",
       "    </tr>\n",
       "    <tr>\n",
       "      <th>17</th>\n",
       "      <td>NaN</td>\n",
       "      <td>NaN</td>\n",
       "      <td>NaN</td>\n",
       "    </tr>\n",
       "    <tr>\n",
       "      <th>18</th>\n",
       "      <td>NaN</td>\n",
       "      <td>NaN</td>\n",
       "      <td>NaN</td>\n",
       "    </tr>\n",
       "    <tr>\n",
       "      <th>19</th>\n",
       "      <td>NaN</td>\n",
       "      <td>NaN</td>\n",
       "      <td>NaN</td>\n",
       "    </tr>\n",
       "    <tr>\n",
       "      <th>20</th>\n",
       "      <td>NaN</td>\n",
       "      <td>NaN</td>\n",
       "      <td>NaN</td>\n",
       "    </tr>\n",
       "    <tr>\n",
       "      <th>21</th>\n",
       "      <td>NaN</td>\n",
       "      <td>NaN</td>\n",
       "      <td>NaN</td>\n",
       "    </tr>\n",
       "    <tr>\n",
       "      <th>22</th>\n",
       "      <td>NaN</td>\n",
       "      <td>NaN</td>\n",
       "      <td>NaN</td>\n",
       "    </tr>\n",
       "    <tr>\n",
       "      <th>23</th>\n",
       "      <td>NaN</td>\n",
       "      <td>NaN</td>\n",
       "      <td>NaN</td>\n",
       "    </tr>\n",
       "    <tr>\n",
       "      <th>24</th>\n",
       "      <td>NaN</td>\n",
       "      <td>NaN</td>\n",
       "      <td>NaN</td>\n",
       "    </tr>\n",
       "    <tr>\n",
       "      <th>25</th>\n",
       "      <td>NaN</td>\n",
       "      <td>NaN</td>\n",
       "      <td>NaN</td>\n",
       "    </tr>\n",
       "    <tr>\n",
       "      <th>26</th>\n",
       "      <td>NaN</td>\n",
       "      <td>NaN</td>\n",
       "      <td>NaN</td>\n",
       "    </tr>\n",
       "    <tr>\n",
       "      <th>27</th>\n",
       "      <td>NaN</td>\n",
       "      <td>NaN</td>\n",
       "      <td>NaN</td>\n",
       "    </tr>\n",
       "    <tr>\n",
       "      <th>28</th>\n",
       "      <td>NaN</td>\n",
       "      <td>NaN</td>\n",
       "      <td>NaN</td>\n",
       "    </tr>\n",
       "    <tr>\n",
       "      <th>29</th>\n",
       "      <td>NaN</td>\n",
       "      <td>NaN</td>\n",
       "      <td>NaN</td>\n",
       "    </tr>\n",
       "    <tr>\n",
       "      <th>30</th>\n",
       "      <td>NaN</td>\n",
       "      <td>NaN</td>\n",
       "      <td>NaN</td>\n",
       "    </tr>\n",
       "    <tr>\n",
       "      <th>31</th>\n",
       "      <td>NaN</td>\n",
       "      <td>NaN</td>\n",
       "      <td>NaN</td>\n",
       "    </tr>\n",
       "    <tr>\n",
       "      <th>32</th>\n",
       "      <td>NaN</td>\n",
       "      <td>NaN</td>\n",
       "      <td>NaN</td>\n",
       "    </tr>\n",
       "    <tr>\n",
       "      <th>33</th>\n",
       "      <td>NaN</td>\n",
       "      <td>NaN</td>\n",
       "      <td>NaN</td>\n",
       "    </tr>\n",
       "    <tr>\n",
       "      <th>34</th>\n",
       "      <td>NaN</td>\n",
       "      <td>NaN</td>\n",
       "      <td>NaN</td>\n",
       "    </tr>\n",
       "    <tr>\n",
       "      <th>35</th>\n",
       "      <td>NaN</td>\n",
       "      <td>NaN</td>\n",
       "      <td>NaN</td>\n",
       "    </tr>\n",
       "    <tr>\n",
       "      <th>36</th>\n",
       "      <td>NaN</td>\n",
       "      <td>NaN</td>\n",
       "      <td>NaN</td>\n",
       "    </tr>\n",
       "    <tr>\n",
       "      <th>37</th>\n",
       "      <td>NaN</td>\n",
       "      <td>NaN</td>\n",
       "      <td>NaN</td>\n",
       "    </tr>\n",
       "    <tr>\n",
       "      <th>38</th>\n",
       "      <td>3.0</td>\n",
       "      <td>NaN</td>\n",
       "      <td>NaN</td>\n",
       "    </tr>\n",
       "    <tr>\n",
       "      <th>39</th>\n",
       "      <td>3.0</td>\n",
       "      <td>NaN</td>\n",
       "      <td>NaN</td>\n",
       "    </tr>\n",
       "    <tr>\n",
       "      <th>40</th>\n",
       "      <td>3.0</td>\n",
       "      <td>NaN</td>\n",
       "      <td>NaN</td>\n",
       "    </tr>\n",
       "    <tr>\n",
       "      <th>41</th>\n",
       "      <td>3.0</td>\n",
       "      <td>NaN</td>\n",
       "      <td>NaN</td>\n",
       "    </tr>\n",
       "    <tr>\n",
       "      <th>42</th>\n",
       "      <td>1.0</td>\n",
       "      <td>NaN</td>\n",
       "      <td>NaN</td>\n",
       "    </tr>\n",
       "    <tr>\n",
       "      <th>43</th>\n",
       "      <td>1.0</td>\n",
       "      <td>NaN</td>\n",
       "      <td>NaN</td>\n",
       "    </tr>\n",
       "  </tbody>\n",
       "</table>\n",
       "</div>"
      ],
      "text/plain": [
       "   V62a - ORGANISMO, INSTITUCIÓN, PERSONA QUE OTROGÓ ALIMENTOS  \\\n",
       "0                                                 NaN            \n",
       "1                                                 NaN            \n",
       "2                                                 NaN            \n",
       "3                                                 NaN            \n",
       "4                                                 NaN            \n",
       "5                                                 NaN            \n",
       "6                                                 NaN            \n",
       "7                                                 NaN            \n",
       "8                                                 NaN            \n",
       "9                                                 NaN            \n",
       "10                                                NaN            \n",
       "11                                                NaN            \n",
       "12                                                NaN            \n",
       "13                                                NaN            \n",
       "14                                                NaN            \n",
       "15                                                NaN            \n",
       "16                                                NaN            \n",
       "17                                                NaN            \n",
       "18                                                NaN            \n",
       "19                                                NaN            \n",
       "20                                                NaN            \n",
       "21                                                NaN            \n",
       "22                                                NaN            \n",
       "23                                                NaN            \n",
       "24                                                NaN            \n",
       "25                                                NaN            \n",
       "26                                                NaN            \n",
       "27                                                NaN            \n",
       "28                                                NaN            \n",
       "29                                                NaN            \n",
       "30                                                NaN            \n",
       "31                                                NaN            \n",
       "32                                                NaN            \n",
       "33                                                NaN            \n",
       "34                                                NaN            \n",
       "35                                                NaN            \n",
       "36                                                NaN            \n",
       "37                                                NaN            \n",
       "38                                                3.0            \n",
       "39                                                3.0            \n",
       "40                                                3.0            \n",
       "41                                                3.0            \n",
       "42                                                1.0            \n",
       "43                                                1.0            \n",
       "\n",
       "   v62b - ORGANISMO, INSTITUCIÓN, PERSONA QUE OTROGÓ ALIMENTOS  \\\n",
       "0                                                 NaN            \n",
       "1                                                 NaN            \n",
       "2                                                 NaN            \n",
       "3                                                 NaN            \n",
       "4                                                 NaN            \n",
       "5                                                 NaN            \n",
       "6                                                 NaN            \n",
       "7                                                 NaN            \n",
       "8                                                 NaN            \n",
       "9                                                 NaN            \n",
       "10                                                NaN            \n",
       "11                                                NaN            \n",
       "12                                                NaN            \n",
       "13                                                NaN            \n",
       "14                                                NaN            \n",
       "15                                                NaN            \n",
       "16                                                NaN            \n",
       "17                                                NaN            \n",
       "18                                                NaN            \n",
       "19                                                NaN            \n",
       "20                                                NaN            \n",
       "21                                                NaN            \n",
       "22                                                NaN            \n",
       "23                                                NaN            \n",
       "24                                                NaN            \n",
       "25                                                NaN            \n",
       "26                                                NaN            \n",
       "27                                                NaN            \n",
       "28                                                NaN            \n",
       "29                                                NaN            \n",
       "30                                                NaN            \n",
       "31                                                NaN            \n",
       "32                                                NaN            \n",
       "33                                                NaN            \n",
       "34                                                NaN            \n",
       "35                                                NaN            \n",
       "36                                                NaN            \n",
       "37                                                NaN            \n",
       "38                                                NaN            \n",
       "39                                                NaN            \n",
       "40                                                NaN            \n",
       "41                                                NaN            \n",
       "42                                                NaN            \n",
       "43                                                NaN            \n",
       "\n",
       "   v62c - ORGANISMO, INSTITUCIÓN, PERSONA QUE OTROGÓ ALIMENTOS  \n",
       "0                                                 NaN           \n",
       "1                                                 NaN           \n",
       "2                                                 NaN           \n",
       "3                                                 NaN           \n",
       "4                                                 NaN           \n",
       "5                                                 NaN           \n",
       "6                                                 NaN           \n",
       "7                                                 NaN           \n",
       "8                                                 NaN           \n",
       "9                                                 NaN           \n",
       "10                                                NaN           \n",
       "11                                                NaN           \n",
       "12                                                NaN           \n",
       "13                                                NaN           \n",
       "14                                                NaN           \n",
       "15                                                NaN           \n",
       "16                                                NaN           \n",
       "17                                                NaN           \n",
       "18                                                NaN           \n",
       "19                                                NaN           \n",
       "20                                                NaN           \n",
       "21                                                NaN           \n",
       "22                                                NaN           \n",
       "23                                                NaN           \n",
       "24                                                NaN           \n",
       "25                                                NaN           \n",
       "26                                                NaN           \n",
       "27                                                NaN           \n",
       "28                                                NaN           \n",
       "29                                                NaN           \n",
       "30                                                NaN           \n",
       "31                                                NaN           \n",
       "32                                                NaN           \n",
       "33                                                NaN           \n",
       "34                                                NaN           \n",
       "35                                                NaN           \n",
       "36                                                NaN           \n",
       "37                                                NaN           \n",
       "38                                                NaN           \n",
       "39                                                NaN           \n",
       "40                                                NaN           \n",
       "41                                                NaN           \n",
       "42                                                NaN           \n",
       "43                                                NaN           "
      ]
     },
     "execution_count": 50,
     "metadata": {},
     "output_type": "execute_result"
    }
   ],
   "source": [
    "subset.head(44)"
   ]
  },
  {
   "cell_type": "code",
   "execution_count": 51,
   "id": "e33ede78",
   "metadata": {
    "scrolled": false
   },
   "outputs": [
    {
     "data": {
      "text/html": [
       "<div>\n",
       "<style scoped>\n",
       "    .dataframe tbody tr th:only-of-type {\n",
       "        vertical-align: middle;\n",
       "    }\n",
       "\n",
       "    .dataframe tbody tr th {\n",
       "        vertical-align: top;\n",
       "    }\n",
       "\n",
       "    .dataframe thead th {\n",
       "        text-align: right;\n",
       "    }\n",
       "</style>\n",
       "<table border=\"1\" class=\"dataframe\">\n",
       "  <thead>\n",
       "    <tr style=\"text-align: right;\">\n",
       "      <th></th>\n",
       "      <th>v62 - RECIBIÓ EL ÚLTIMO AÑO ALIMENTOS POR ORGANISMO PUBLICO</th>\n",
       "      <th>v62 - RECIBIÓ EL ÚLTIMO AÑO ALIMENTOS POR ORGANIZACION SIN FINES DE LUCRO</th>\n",
       "      <th>v62 - RECIBIÓ EL ÚLTIMO AÑO ALIMENTOS POR OBRA SOCIAL O SINDICATO</th>\n",
       "      <th>v62 - RECIBIÓ EL ÚLTIMO AÑO ALIMENTOS POR INSTITUCION RELIGIOSA</th>\n",
       "      <th>v62 - RECIBIÓ EL ÚLTIMO AÑO ALIMENTOS POR OTRA</th>\n",
       "      <th>v62 - RECIBIÓ EL ÚLTIMO AÑO ALIMENTOS POR PERSONA QUE NO VIVE EN EL HOGAR</th>\n",
       "    </tr>\n",
       "  </thead>\n",
       "  <tbody>\n",
       "    <tr>\n",
       "      <th>0</th>\n",
       "      <td>0</td>\n",
       "      <td>0</td>\n",
       "      <td>0</td>\n",
       "      <td>0</td>\n",
       "      <td>0</td>\n",
       "      <td>0</td>\n",
       "    </tr>\n",
       "    <tr>\n",
       "      <th>1</th>\n",
       "      <td>0</td>\n",
       "      <td>0</td>\n",
       "      <td>0</td>\n",
       "      <td>0</td>\n",
       "      <td>0</td>\n",
       "      <td>0</td>\n",
       "    </tr>\n",
       "    <tr>\n",
       "      <th>2</th>\n",
       "      <td>0</td>\n",
       "      <td>0</td>\n",
       "      <td>0</td>\n",
       "      <td>0</td>\n",
       "      <td>0</td>\n",
       "      <td>0</td>\n",
       "    </tr>\n",
       "    <tr>\n",
       "      <th>3</th>\n",
       "      <td>0</td>\n",
       "      <td>0</td>\n",
       "      <td>0</td>\n",
       "      <td>0</td>\n",
       "      <td>0</td>\n",
       "      <td>0</td>\n",
       "    </tr>\n",
       "    <tr>\n",
       "      <th>4</th>\n",
       "      <td>0</td>\n",
       "      <td>0</td>\n",
       "      <td>0</td>\n",
       "      <td>0</td>\n",
       "      <td>0</td>\n",
       "      <td>0</td>\n",
       "    </tr>\n",
       "    <tr>\n",
       "      <th>5</th>\n",
       "      <td>0</td>\n",
       "      <td>0</td>\n",
       "      <td>0</td>\n",
       "      <td>0</td>\n",
       "      <td>0</td>\n",
       "      <td>0</td>\n",
       "    </tr>\n",
       "    <tr>\n",
       "      <th>6</th>\n",
       "      <td>0</td>\n",
       "      <td>0</td>\n",
       "      <td>0</td>\n",
       "      <td>0</td>\n",
       "      <td>0</td>\n",
       "      <td>0</td>\n",
       "    </tr>\n",
       "    <tr>\n",
       "      <th>7</th>\n",
       "      <td>0</td>\n",
       "      <td>0</td>\n",
       "      <td>0</td>\n",
       "      <td>0</td>\n",
       "      <td>0</td>\n",
       "      <td>0</td>\n",
       "    </tr>\n",
       "    <tr>\n",
       "      <th>8</th>\n",
       "      <td>0</td>\n",
       "      <td>0</td>\n",
       "      <td>0</td>\n",
       "      <td>0</td>\n",
       "      <td>0</td>\n",
       "      <td>0</td>\n",
       "    </tr>\n",
       "    <tr>\n",
       "      <th>9</th>\n",
       "      <td>0</td>\n",
       "      <td>0</td>\n",
       "      <td>0</td>\n",
       "      <td>0</td>\n",
       "      <td>0</td>\n",
       "      <td>0</td>\n",
       "    </tr>\n",
       "    <tr>\n",
       "      <th>10</th>\n",
       "      <td>0</td>\n",
       "      <td>0</td>\n",
       "      <td>0</td>\n",
       "      <td>0</td>\n",
       "      <td>0</td>\n",
       "      <td>0</td>\n",
       "    </tr>\n",
       "    <tr>\n",
       "      <th>11</th>\n",
       "      <td>0</td>\n",
       "      <td>0</td>\n",
       "      <td>0</td>\n",
       "      <td>0</td>\n",
       "      <td>0</td>\n",
       "      <td>0</td>\n",
       "    </tr>\n",
       "    <tr>\n",
       "      <th>12</th>\n",
       "      <td>0</td>\n",
       "      <td>0</td>\n",
       "      <td>0</td>\n",
       "      <td>0</td>\n",
       "      <td>0</td>\n",
       "      <td>0</td>\n",
       "    </tr>\n",
       "    <tr>\n",
       "      <th>13</th>\n",
       "      <td>0</td>\n",
       "      <td>0</td>\n",
       "      <td>0</td>\n",
       "      <td>0</td>\n",
       "      <td>0</td>\n",
       "      <td>0</td>\n",
       "    </tr>\n",
       "    <tr>\n",
       "      <th>14</th>\n",
       "      <td>0</td>\n",
       "      <td>0</td>\n",
       "      <td>0</td>\n",
       "      <td>0</td>\n",
       "      <td>0</td>\n",
       "      <td>0</td>\n",
       "    </tr>\n",
       "    <tr>\n",
       "      <th>15</th>\n",
       "      <td>0</td>\n",
       "      <td>0</td>\n",
       "      <td>0</td>\n",
       "      <td>0</td>\n",
       "      <td>0</td>\n",
       "      <td>0</td>\n",
       "    </tr>\n",
       "    <tr>\n",
       "      <th>16</th>\n",
       "      <td>0</td>\n",
       "      <td>0</td>\n",
       "      <td>0</td>\n",
       "      <td>0</td>\n",
       "      <td>0</td>\n",
       "      <td>0</td>\n",
       "    </tr>\n",
       "    <tr>\n",
       "      <th>17</th>\n",
       "      <td>0</td>\n",
       "      <td>0</td>\n",
       "      <td>0</td>\n",
       "      <td>0</td>\n",
       "      <td>0</td>\n",
       "      <td>0</td>\n",
       "    </tr>\n",
       "    <tr>\n",
       "      <th>18</th>\n",
       "      <td>0</td>\n",
       "      <td>0</td>\n",
       "      <td>0</td>\n",
       "      <td>0</td>\n",
       "      <td>0</td>\n",
       "      <td>0</td>\n",
       "    </tr>\n",
       "    <tr>\n",
       "      <th>19</th>\n",
       "      <td>0</td>\n",
       "      <td>0</td>\n",
       "      <td>0</td>\n",
       "      <td>0</td>\n",
       "      <td>0</td>\n",
       "      <td>0</td>\n",
       "    </tr>\n",
       "    <tr>\n",
       "      <th>20</th>\n",
       "      <td>0</td>\n",
       "      <td>0</td>\n",
       "      <td>0</td>\n",
       "      <td>0</td>\n",
       "      <td>0</td>\n",
       "      <td>0</td>\n",
       "    </tr>\n",
       "    <tr>\n",
       "      <th>21</th>\n",
       "      <td>0</td>\n",
       "      <td>0</td>\n",
       "      <td>0</td>\n",
       "      <td>0</td>\n",
       "      <td>0</td>\n",
       "      <td>0</td>\n",
       "    </tr>\n",
       "    <tr>\n",
       "      <th>22</th>\n",
       "      <td>0</td>\n",
       "      <td>0</td>\n",
       "      <td>0</td>\n",
       "      <td>0</td>\n",
       "      <td>0</td>\n",
       "      <td>0</td>\n",
       "    </tr>\n",
       "    <tr>\n",
       "      <th>23</th>\n",
       "      <td>0</td>\n",
       "      <td>0</td>\n",
       "      <td>0</td>\n",
       "      <td>0</td>\n",
       "      <td>0</td>\n",
       "      <td>0</td>\n",
       "    </tr>\n",
       "    <tr>\n",
       "      <th>24</th>\n",
       "      <td>0</td>\n",
       "      <td>0</td>\n",
       "      <td>0</td>\n",
       "      <td>0</td>\n",
       "      <td>0</td>\n",
       "      <td>0</td>\n",
       "    </tr>\n",
       "    <tr>\n",
       "      <th>25</th>\n",
       "      <td>0</td>\n",
       "      <td>0</td>\n",
       "      <td>0</td>\n",
       "      <td>0</td>\n",
       "      <td>0</td>\n",
       "      <td>0</td>\n",
       "    </tr>\n",
       "    <tr>\n",
       "      <th>26</th>\n",
       "      <td>0</td>\n",
       "      <td>0</td>\n",
       "      <td>0</td>\n",
       "      <td>0</td>\n",
       "      <td>0</td>\n",
       "      <td>0</td>\n",
       "    </tr>\n",
       "    <tr>\n",
       "      <th>27</th>\n",
       "      <td>0</td>\n",
       "      <td>0</td>\n",
       "      <td>0</td>\n",
       "      <td>0</td>\n",
       "      <td>0</td>\n",
       "      <td>0</td>\n",
       "    </tr>\n",
       "    <tr>\n",
       "      <th>28</th>\n",
       "      <td>0</td>\n",
       "      <td>0</td>\n",
       "      <td>0</td>\n",
       "      <td>0</td>\n",
       "      <td>0</td>\n",
       "      <td>0</td>\n",
       "    </tr>\n",
       "    <tr>\n",
       "      <th>29</th>\n",
       "      <td>0</td>\n",
       "      <td>0</td>\n",
       "      <td>0</td>\n",
       "      <td>0</td>\n",
       "      <td>0</td>\n",
       "      <td>0</td>\n",
       "    </tr>\n",
       "    <tr>\n",
       "      <th>30</th>\n",
       "      <td>0</td>\n",
       "      <td>0</td>\n",
       "      <td>0</td>\n",
       "      <td>0</td>\n",
       "      <td>0</td>\n",
       "      <td>0</td>\n",
       "    </tr>\n",
       "    <tr>\n",
       "      <th>31</th>\n",
       "      <td>0</td>\n",
       "      <td>0</td>\n",
       "      <td>0</td>\n",
       "      <td>0</td>\n",
       "      <td>0</td>\n",
       "      <td>0</td>\n",
       "    </tr>\n",
       "    <tr>\n",
       "      <th>32</th>\n",
       "      <td>0</td>\n",
       "      <td>0</td>\n",
       "      <td>0</td>\n",
       "      <td>0</td>\n",
       "      <td>0</td>\n",
       "      <td>0</td>\n",
       "    </tr>\n",
       "    <tr>\n",
       "      <th>33</th>\n",
       "      <td>0</td>\n",
       "      <td>0</td>\n",
       "      <td>0</td>\n",
       "      <td>0</td>\n",
       "      <td>0</td>\n",
       "      <td>0</td>\n",
       "    </tr>\n",
       "    <tr>\n",
       "      <th>34</th>\n",
       "      <td>0</td>\n",
       "      <td>0</td>\n",
       "      <td>0</td>\n",
       "      <td>0</td>\n",
       "      <td>0</td>\n",
       "      <td>0</td>\n",
       "    </tr>\n",
       "    <tr>\n",
       "      <th>35</th>\n",
       "      <td>0</td>\n",
       "      <td>0</td>\n",
       "      <td>0</td>\n",
       "      <td>0</td>\n",
       "      <td>0</td>\n",
       "      <td>0</td>\n",
       "    </tr>\n",
       "    <tr>\n",
       "      <th>36</th>\n",
       "      <td>0</td>\n",
       "      <td>0</td>\n",
       "      <td>0</td>\n",
       "      <td>0</td>\n",
       "      <td>0</td>\n",
       "      <td>0</td>\n",
       "    </tr>\n",
       "    <tr>\n",
       "      <th>37</th>\n",
       "      <td>0</td>\n",
       "      <td>0</td>\n",
       "      <td>0</td>\n",
       "      <td>0</td>\n",
       "      <td>0</td>\n",
       "      <td>0</td>\n",
       "    </tr>\n",
       "    <tr>\n",
       "      <th>38</th>\n",
       "      <td>0</td>\n",
       "      <td>0</td>\n",
       "      <td>1</td>\n",
       "      <td>0</td>\n",
       "      <td>0</td>\n",
       "      <td>0</td>\n",
       "    </tr>\n",
       "    <tr>\n",
       "      <th>39</th>\n",
       "      <td>0</td>\n",
       "      <td>0</td>\n",
       "      <td>1</td>\n",
       "      <td>0</td>\n",
       "      <td>0</td>\n",
       "      <td>0</td>\n",
       "    </tr>\n",
       "    <tr>\n",
       "      <th>40</th>\n",
       "      <td>0</td>\n",
       "      <td>0</td>\n",
       "      <td>1</td>\n",
       "      <td>0</td>\n",
       "      <td>0</td>\n",
       "      <td>0</td>\n",
       "    </tr>\n",
       "    <tr>\n",
       "      <th>41</th>\n",
       "      <td>0</td>\n",
       "      <td>0</td>\n",
       "      <td>1</td>\n",
       "      <td>0</td>\n",
       "      <td>0</td>\n",
       "      <td>0</td>\n",
       "    </tr>\n",
       "    <tr>\n",
       "      <th>42</th>\n",
       "      <td>1</td>\n",
       "      <td>0</td>\n",
       "      <td>0</td>\n",
       "      <td>0</td>\n",
       "      <td>0</td>\n",
       "      <td>0</td>\n",
       "    </tr>\n",
       "    <tr>\n",
       "      <th>43</th>\n",
       "      <td>1</td>\n",
       "      <td>0</td>\n",
       "      <td>0</td>\n",
       "      <td>0</td>\n",
       "      <td>0</td>\n",
       "      <td>0</td>\n",
       "    </tr>\n",
       "  </tbody>\n",
       "</table>\n",
       "</div>"
      ],
      "text/plain": [
       "    v62 - RECIBIÓ EL ÚLTIMO AÑO ALIMENTOS POR ORGANISMO PUBLICO  \\\n",
       "0                                                   0             \n",
       "1                                                   0             \n",
       "2                                                   0             \n",
       "3                                                   0             \n",
       "4                                                   0             \n",
       "5                                                   0             \n",
       "6                                                   0             \n",
       "7                                                   0             \n",
       "8                                                   0             \n",
       "9                                                   0             \n",
       "10                                                  0             \n",
       "11                                                  0             \n",
       "12                                                  0             \n",
       "13                                                  0             \n",
       "14                                                  0             \n",
       "15                                                  0             \n",
       "16                                                  0             \n",
       "17                                                  0             \n",
       "18                                                  0             \n",
       "19                                                  0             \n",
       "20                                                  0             \n",
       "21                                                  0             \n",
       "22                                                  0             \n",
       "23                                                  0             \n",
       "24                                                  0             \n",
       "25                                                  0             \n",
       "26                                                  0             \n",
       "27                                                  0             \n",
       "28                                                  0             \n",
       "29                                                  0             \n",
       "30                                                  0             \n",
       "31                                                  0             \n",
       "32                                                  0             \n",
       "33                                                  0             \n",
       "34                                                  0             \n",
       "35                                                  0             \n",
       "36                                                  0             \n",
       "37                                                  0             \n",
       "38                                                  0             \n",
       "39                                                  0             \n",
       "40                                                  0             \n",
       "41                                                  0             \n",
       "42                                                  1             \n",
       "43                                                  1             \n",
       "\n",
       "    v62 - RECIBIÓ EL ÚLTIMO AÑO ALIMENTOS POR ORGANIZACION SIN FINES DE LUCRO  \\\n",
       "0                                                   0                           \n",
       "1                                                   0                           \n",
       "2                                                   0                           \n",
       "3                                                   0                           \n",
       "4                                                   0                           \n",
       "5                                                   0                           \n",
       "6                                                   0                           \n",
       "7                                                   0                           \n",
       "8                                                   0                           \n",
       "9                                                   0                           \n",
       "10                                                  0                           \n",
       "11                                                  0                           \n",
       "12                                                  0                           \n",
       "13                                                  0                           \n",
       "14                                                  0                           \n",
       "15                                                  0                           \n",
       "16                                                  0                           \n",
       "17                                                  0                           \n",
       "18                                                  0                           \n",
       "19                                                  0                           \n",
       "20                                                  0                           \n",
       "21                                                  0                           \n",
       "22                                                  0                           \n",
       "23                                                  0                           \n",
       "24                                                  0                           \n",
       "25                                                  0                           \n",
       "26                                                  0                           \n",
       "27                                                  0                           \n",
       "28                                                  0                           \n",
       "29                                                  0                           \n",
       "30                                                  0                           \n",
       "31                                                  0                           \n",
       "32                                                  0                           \n",
       "33                                                  0                           \n",
       "34                                                  0                           \n",
       "35                                                  0                           \n",
       "36                                                  0                           \n",
       "37                                                  0                           \n",
       "38                                                  0                           \n",
       "39                                                  0                           \n",
       "40                                                  0                           \n",
       "41                                                  0                           \n",
       "42                                                  0                           \n",
       "43                                                  0                           \n",
       "\n",
       "    v62 - RECIBIÓ EL ÚLTIMO AÑO ALIMENTOS POR OBRA SOCIAL O SINDICATO  \\\n",
       "0                                                   0                   \n",
       "1                                                   0                   \n",
       "2                                                   0                   \n",
       "3                                                   0                   \n",
       "4                                                   0                   \n",
       "5                                                   0                   \n",
       "6                                                   0                   \n",
       "7                                                   0                   \n",
       "8                                                   0                   \n",
       "9                                                   0                   \n",
       "10                                                  0                   \n",
       "11                                                  0                   \n",
       "12                                                  0                   \n",
       "13                                                  0                   \n",
       "14                                                  0                   \n",
       "15                                                  0                   \n",
       "16                                                  0                   \n",
       "17                                                  0                   \n",
       "18                                                  0                   \n",
       "19                                                  0                   \n",
       "20                                                  0                   \n",
       "21                                                  0                   \n",
       "22                                                  0                   \n",
       "23                                                  0                   \n",
       "24                                                  0                   \n",
       "25                                                  0                   \n",
       "26                                                  0                   \n",
       "27                                                  0                   \n",
       "28                                                  0                   \n",
       "29                                                  0                   \n",
       "30                                                  0                   \n",
       "31                                                  0                   \n",
       "32                                                  0                   \n",
       "33                                                  0                   \n",
       "34                                                  0                   \n",
       "35                                                  0                   \n",
       "36                                                  0                   \n",
       "37                                                  0                   \n",
       "38                                                  1                   \n",
       "39                                                  1                   \n",
       "40                                                  1                   \n",
       "41                                                  1                   \n",
       "42                                                  0                   \n",
       "43                                                  0                   \n",
       "\n",
       "    v62 - RECIBIÓ EL ÚLTIMO AÑO ALIMENTOS POR INSTITUCION RELIGIOSA  \\\n",
       "0                                                   0                 \n",
       "1                                                   0                 \n",
       "2                                                   0                 \n",
       "3                                                   0                 \n",
       "4                                                   0                 \n",
       "5                                                   0                 \n",
       "6                                                   0                 \n",
       "7                                                   0                 \n",
       "8                                                   0                 \n",
       "9                                                   0                 \n",
       "10                                                  0                 \n",
       "11                                                  0                 \n",
       "12                                                  0                 \n",
       "13                                                  0                 \n",
       "14                                                  0                 \n",
       "15                                                  0                 \n",
       "16                                                  0                 \n",
       "17                                                  0                 \n",
       "18                                                  0                 \n",
       "19                                                  0                 \n",
       "20                                                  0                 \n",
       "21                                                  0                 \n",
       "22                                                  0                 \n",
       "23                                                  0                 \n",
       "24                                                  0                 \n",
       "25                                                  0                 \n",
       "26                                                  0                 \n",
       "27                                                  0                 \n",
       "28                                                  0                 \n",
       "29                                                  0                 \n",
       "30                                                  0                 \n",
       "31                                                  0                 \n",
       "32                                                  0                 \n",
       "33                                                  0                 \n",
       "34                                                  0                 \n",
       "35                                                  0                 \n",
       "36                                                  0                 \n",
       "37                                                  0                 \n",
       "38                                                  0                 \n",
       "39                                                  0                 \n",
       "40                                                  0                 \n",
       "41                                                  0                 \n",
       "42                                                  0                 \n",
       "43                                                  0                 \n",
       "\n",
       "    v62 - RECIBIÓ EL ÚLTIMO AÑO ALIMENTOS POR OTRA  \\\n",
       "0                                                0   \n",
       "1                                                0   \n",
       "2                                                0   \n",
       "3                                                0   \n",
       "4                                                0   \n",
       "5                                                0   \n",
       "6                                                0   \n",
       "7                                                0   \n",
       "8                                                0   \n",
       "9                                                0   \n",
       "10                                               0   \n",
       "11                                               0   \n",
       "12                                               0   \n",
       "13                                               0   \n",
       "14                                               0   \n",
       "15                                               0   \n",
       "16                                               0   \n",
       "17                                               0   \n",
       "18                                               0   \n",
       "19                                               0   \n",
       "20                                               0   \n",
       "21                                               0   \n",
       "22                                               0   \n",
       "23                                               0   \n",
       "24                                               0   \n",
       "25                                               0   \n",
       "26                                               0   \n",
       "27                                               0   \n",
       "28                                               0   \n",
       "29                                               0   \n",
       "30                                               0   \n",
       "31                                               0   \n",
       "32                                               0   \n",
       "33                                               0   \n",
       "34                                               0   \n",
       "35                                               0   \n",
       "36                                               0   \n",
       "37                                               0   \n",
       "38                                               0   \n",
       "39                                               0   \n",
       "40                                               0   \n",
       "41                                               0   \n",
       "42                                               0   \n",
       "43                                               0   \n",
       "\n",
       "    v62 - RECIBIÓ EL ÚLTIMO AÑO ALIMENTOS POR PERSONA QUE NO VIVE EN EL HOGAR  \n",
       "0                                                   0                          \n",
       "1                                                   0                          \n",
       "2                                                   0                          \n",
       "3                                                   0                          \n",
       "4                                                   0                          \n",
       "5                                                   0                          \n",
       "6                                                   0                          \n",
       "7                                                   0                          \n",
       "8                                                   0                          \n",
       "9                                                   0                          \n",
       "10                                                  0                          \n",
       "11                                                  0                          \n",
       "12                                                  0                          \n",
       "13                                                  0                          \n",
       "14                                                  0                          \n",
       "15                                                  0                          \n",
       "16                                                  0                          \n",
       "17                                                  0                          \n",
       "18                                                  0                          \n",
       "19                                                  0                          \n",
       "20                                                  0                          \n",
       "21                                                  0                          \n",
       "22                                                  0                          \n",
       "23                                                  0                          \n",
       "24                                                  0                          \n",
       "25                                                  0                          \n",
       "26                                                  0                          \n",
       "27                                                  0                          \n",
       "28                                                  0                          \n",
       "29                                                  0                          \n",
       "30                                                  0                          \n",
       "31                                                  0                          \n",
       "32                                                  0                          \n",
       "33                                                  0                          \n",
       "34                                                  0                          \n",
       "35                                                  0                          \n",
       "36                                                  0                          \n",
       "37                                                  0                          \n",
       "38                                                  0                          \n",
       "39                                                  0                          \n",
       "40                                                  0                          \n",
       "41                                                  0                          \n",
       "42                                                  0                          \n",
       "43                                                  0                          "
      ]
     },
     "execution_count": 51,
     "metadata": {},
     "output_type": "execute_result"
    }
   ],
   "source": [
    "b.head(44)"
   ]
  },
  {
   "cell_type": "code",
   "execution_count": 52,
   "id": "d9b31f7e",
   "metadata": {},
   "outputs": [],
   "source": [
    "df[b.columns[:]] = b[b.columns[:]]\n",
    "df = df.drop(df[df.columns[74:77]], axis=1)"
   ]
  },
  {
   "cell_type": "code",
   "execution_count": 53,
   "id": "c17f6de1",
   "metadata": {},
   "outputs": [
    {
     "data": {
      "text/plain": [
       "Index(['v62 - RECIBIÓ EL ÚLTIMO AÑO ALIMENTOS POR ORGANISMO PUBLICO',\n",
       "       'v62 - RECIBIÓ EL ÚLTIMO AÑO ALIMENTOS POR ORGANIZACION SIN FINES DE LUCRO',\n",
       "       'v62 - RECIBIÓ EL ÚLTIMO AÑO ALIMENTOS POR OBRA SOCIAL O SINDICATO',\n",
       "       'v62 - RECIBIÓ EL ÚLTIMO AÑO ALIMENTOS POR INSTITUCION RELIGIOSA',\n",
       "       'v62 - RECIBIÓ EL ÚLTIMO AÑO ALIMENTOS POR OTRA',\n",
       "       'v62 - RECIBIÓ EL ÚLTIMO AÑO ALIMENTOS POR PERSONA QUE NO VIVE EN EL HOGAR'],\n",
       "      dtype='object')"
      ]
     },
     "execution_count": 53,
     "metadata": {},
     "output_type": "execute_result"
    }
   ],
   "source": [
    "df.columns[-6:]"
   ]
  },
  {
   "cell_type": "code",
   "execution_count": 54,
   "id": "0002b6fa",
   "metadata": {},
   "outputs": [],
   "source": [
    "cols= list(df.columns[:74]) + list(df.columns[-6:]) + list(df.columns[74:-6])\n",
    "df = df[cols]\n",
    "# df.columns"
   ]
  },
  {
   "cell_type": "code",
   "execution_count": 55,
   "id": "01d5503c",
   "metadata": {
    "scrolled": true
   },
   "outputs": [
    {
     "data": {
      "text/plain": [
       "('v63 - RECIBIÓ EL ÚLTIMO AÑO TARJETA DE COMPRA EN SUPERMERCADOS POR ORGANISMO PUBLICO',\n",
       " 'v63 - RECIBIÓ EL ÚLTIMO AÑO TARJETA DE COMPRA EN SUPERMERCADOS POR ORGANIZACION SIN FINES DE LUCRO',\n",
       " 'v63 - RECIBIÓ EL ÚLTIMO AÑO TARJETA DE COMPRA EN SUPERMERCADOS POR OBRA SOCIAL O SINDICATO',\n",
       " 'v63 - RECIBIÓ EL ÚLTIMO AÑO TARJETA DE COMPRA EN SUPERMERCADOS POR INSTITUCION RELIGIOSA',\n",
       " 'v63 - RECIBIÓ EL ÚLTIMO AÑO TARJETA DE COMPRA EN SUPERMERCADOS POR OTRA',\n",
       " 'v63 - RECIBIÓ EL ÚLTIMO AÑO TARJETA DE COMPRA EN SUPERMERCADOS POR PERSONA QUE NO VIVE EN EL HOGAR')"
      ]
     },
     "execution_count": 55,
     "metadata": {},
     "output_type": "execute_result"
    }
   ],
   "source": [
    "var = df.columns[80]\n",
    "ls = (var + or_p_ ), (var + sfl_ ), (var + oss_), (var+ i_rel_), (var+ o_), (var+ p_)\n",
    "ls"
   ]
  },
  {
   "cell_type": "code",
   "execution_count": 56,
   "id": "e700012e",
   "metadata": {},
   "outputs": [],
   "source": [
    "subset = df[df.columns[81:83]]\n",
    "subset = subset.astype(pd.CategoricalDtype())\n",
    "a = pd.get_dummies(subset, prefix= ['',''])\n",
    "b = a.groupby(a.columns[:], axis= 1).sum()\n",
    "ls = (var + or_p_ ), (var + sfl_ ), (var+ oss_), (var+ o_), (var+ p_)\n",
    "b.columns = ls"
   ]
  },
  {
   "cell_type": "code",
   "execution_count": 57,
   "id": "cae108f1",
   "metadata": {},
   "outputs": [],
   "source": [
    "df[b.columns[:]] = b[b.columns]\n",
    "df = df.drop(df.columns[81:83], axis= 1)"
   ]
  },
  {
   "cell_type": "code",
   "execution_count": 58,
   "id": "d710e87f",
   "metadata": {},
   "outputs": [],
   "source": [
    "cols = list(df.columns[:81]) + list(df.columns[-5:]) + list(df.columns[81:-5])\n",
    "df = df[cols]\n",
    "# df.columns"
   ]
  },
  {
   "cell_type": "code",
   "execution_count": 59,
   "id": "05b60d67",
   "metadata": {
    "scrolled": true
   },
   "outputs": [
    {
     "data": {
      "text/plain": [
       "('v64 - RECIBIÓ EL ÚLTIMO AÑO COMIDA DE COMEDORES NO ESCOLARES POR ORGANISMO PUBLICO',\n",
       " 'v64 - RECIBIÓ EL ÚLTIMO AÑO COMIDA DE COMEDORES NO ESCOLARES POR ORGANIZACION SIN FINES DE LUCRO',\n",
       " 'v64 - RECIBIÓ EL ÚLTIMO AÑO COMIDA DE COMEDORES NO ESCOLARES POR OBRA SOCIAL O SINDICATO',\n",
       " 'v64 - RECIBIÓ EL ÚLTIMO AÑO COMIDA DE COMEDORES NO ESCOLARES POR INSTITUCION RELIGIOSA',\n",
       " 'v64 - RECIBIÓ EL ÚLTIMO AÑO COMIDA DE COMEDORES NO ESCOLARES POR OTRA',\n",
       " 'v64 - RECIBIÓ EL ÚLTIMO AÑO COMIDA DE COMEDORES NO ESCOLARES POR PERSONA QUE NO VIVE EN EL HOGAR')"
      ]
     },
     "execution_count": 59,
     "metadata": {},
     "output_type": "execute_result"
    }
   ],
   "source": [
    "var = df.columns[86]\n",
    "ls = (var + or_p_ ), (var + sfl_ ), (var + oss_), (var+ i_rel_), (var+ o_), (var+ p_)\n",
    "ls\n",
    "subset = df[df.columns[87:89]]\n",
    "subset = subset.astype(pd.CategoricalDtype())"
   ]
  },
  {
   "cell_type": "code",
   "execution_count": 60,
   "id": "1d3db32a",
   "metadata": {
    "scrolled": false
   },
   "outputs": [],
   "source": [
    "a = pd.get_dummies(subset, prefix= ['',''])\n",
    "b = a.groupby(a.columns[:], axis= 1).sum()\n",
    "b.columns = ls"
   ]
  },
  {
   "cell_type": "code",
   "execution_count": 61,
   "id": "11adc863",
   "metadata": {},
   "outputs": [],
   "source": [
    "df[b.columns] = b[b.columns[:]]"
   ]
  },
  {
   "cell_type": "code",
   "execution_count": 62,
   "id": "af4f7fae",
   "metadata": {},
   "outputs": [],
   "source": [
    "df = df.drop(df.columns[87:89], axis=1)"
   ]
  },
  {
   "cell_type": "code",
   "execution_count": 63,
   "id": "04fffcdb",
   "metadata": {},
   "outputs": [],
   "source": [
    "# df.columns[:87]"
   ]
  },
  {
   "cell_type": "code",
   "execution_count": 64,
   "id": "ce9d10c2",
   "metadata": {},
   "outputs": [],
   "source": [
    "cols = list(df.columns[:87]) + list(df.columns[-6:]) + list(df.columns[87:-6])\n",
    "df = df[cols]\n",
    "# df.columns"
   ]
  },
  {
   "cell_type": "code",
   "execution_count": 65,
   "id": "3efd71dc",
   "metadata": {},
   "outputs": [],
   "source": [
    "var = df.columns[93]\n",
    "subset = df[df.columns[94:96]]\n",
    "subset = subset.astype(pd.CategoricalDtype())"
   ]
  },
  {
   "cell_type": "code",
   "execution_count": 66,
   "id": "6ec6eae4",
   "metadata": {
    "scrolled": true
   },
   "outputs": [],
   "source": [
    "a = pd.get_dummies(subset, prefix= ['',''] )\n",
    "b = a.groupby(a.columns[:], axis= 1).sum()\n",
    "ls = [(var + or_p_ ), (var + sfl_ ), (var + oss_), (var+ i_rel_), (var+ o_), (var+ p_)]\n",
    "ls.remove(ls[2])\n",
    "b.columns = ls"
   ]
  },
  {
   "cell_type": "code",
   "execution_count": 67,
   "id": "2c878421",
   "metadata": {},
   "outputs": [],
   "source": [
    "# subset.loc[subset[['v65a - ORGANISMO, INSTITUCIÓN, PERSONA QUE OTRGÓ COMIDA EN COMEDORES ESCOLARES',\n",
    "#                                    'v65b - ORGANISMO, INSTITUCIÓN, PERSONA QUE OTROGÓ COMIDA EN COMEDORES ESCOLARES']].count(axis=1) >= 1]"
   ]
  },
  {
   "cell_type": "code",
   "execution_count": 68,
   "id": "6954c2cd",
   "metadata": {},
   "outputs": [],
   "source": [
    "# b.loc[(b != 0).any(axis=1)]"
   ]
  },
  {
   "cell_type": "code",
   "execution_count": 69,
   "id": "c79c5afa",
   "metadata": {},
   "outputs": [],
   "source": [
    "df.loc[:, b.columns] = b.loc[:, b.columns[:]]"
   ]
  },
  {
   "cell_type": "code",
   "execution_count": 70,
   "id": "43d6c60a",
   "metadata": {},
   "outputs": [],
   "source": [
    "df = df.drop(df[df.columns[94:96]], axis= 1)"
   ]
  },
  {
   "cell_type": "code",
   "execution_count": 71,
   "id": "3f305566",
   "metadata": {},
   "outputs": [],
   "source": [
    "cols = list(df.columns[:94])+ list(df.columns[-5:]) + list(df.columns[94:-5])"
   ]
  },
  {
   "cell_type": "code",
   "execution_count": 72,
   "id": "2484c81d",
   "metadata": {},
   "outputs": [],
   "source": [
    "df = df[cols]\n",
    "# df.columns"
   ]
  },
  {
   "cell_type": "code",
   "execution_count": 73,
   "id": "ce308761",
   "metadata": {
    "scrolled": true
   },
   "outputs": [
    {
     "data": {
      "text/plain": [
       "['v66 - RECIBIÓ EL ÚLTIMO AÑO VIANDA EN ESCUELA POR ORGANISMO PUBLICO',\n",
       " 'v66 - RECIBIÓ EL ÚLTIMO AÑO VIANDA EN ESCUELA POR ORGANIZACION SIN FINES DE LUCRO',\n",
       " 'v66 - RECIBIÓ EL ÚLTIMO AÑO VIANDA EN ESCUELA POR OBRA SOCIAL O SINDICATO',\n",
       " 'v66 - RECIBIÓ EL ÚLTIMO AÑO VIANDA EN ESCUELA POR INSTITUCION RELIGIOSA',\n",
       " 'v66 - RECIBIÓ EL ÚLTIMO AÑO VIANDA EN ESCUELA POR OTRA',\n",
       " 'v66 - RECIBIÓ EL ÚLTIMO AÑO VIANDA EN ESCUELA POR PERSONA QUE NO VIVE EN EL HOGAR']"
      ]
     },
     "execution_count": 73,
     "metadata": {},
     "output_type": "execute_result"
    }
   ],
   "source": [
    "var = df.columns[99]\n",
    "ls = [(var + or_p_ ), (var + sfl_ ), (var + oss_), (var+ i_rel_), (var+ o_), (var+ p_)]\n",
    "ls\n",
    "subset = df[df.columns[100:102]]\n",
    "subset = subset.astype(pd.CategoricalDtype())"
   ]
  },
  {
   "cell_type": "code",
   "execution_count": 74,
   "id": "6ed7434b",
   "metadata": {
    "scrolled": true
   },
   "outputs": [],
   "source": [
    "a = pd.get_dummies(subset, prefix= ['',''])\n",
    "b = a.groupby(a.columns[:], axis = 1).sum()\n",
    "ls = [(var + or_p_ ), (var + sfl_ ), (var + oss_), (var+ i_rel_), (var+ o_), (var+ p_)]\n",
    "ls.remove(ls[2])\n",
    "b.columns = ls"
   ]
  },
  {
   "cell_type": "code",
   "execution_count": 75,
   "id": "46c6b512",
   "metadata": {},
   "outputs": [],
   "source": [
    "# b.loc[(b != 0).any(axis=1)]"
   ]
  },
  {
   "cell_type": "code",
   "execution_count": 76,
   "id": "631330ba",
   "metadata": {},
   "outputs": [],
   "source": [
    "# subset.loc[subset[['V66a - ORGANISMO, INSTITUCIÒN, PERSONA QUE OTRGÓ VIANDA EN ESCUELA',\n",
    "#                                    'v66b - ORGANISMO, INSTITUCIÓN, PERSONA QUE OTROGÓ VIANDA EN ESCUELA']].count(axis=1) >= 1]"
   ]
  },
  {
   "cell_type": "code",
   "execution_count": 77,
   "id": "904e0e42",
   "metadata": {},
   "outputs": [],
   "source": [
    "df.loc[:, b.columns] = b.loc[:, b.columns[:]]"
   ]
  },
  {
   "cell_type": "code",
   "execution_count": 78,
   "id": "d662c1f8",
   "metadata": {},
   "outputs": [],
   "source": [
    "df = df.drop(df.columns[100:102], axis= 1)"
   ]
  },
  {
   "cell_type": "code",
   "execution_count": 79,
   "id": "ed2f98ab",
   "metadata": {},
   "outputs": [],
   "source": [
    "cols = list(df.columns[:100]) + list(df.columns[-5:]) + list(df.columns[100:-5])\n",
    "df = df[cols]"
   ]
  },
  {
   "cell_type": "code",
   "execution_count": 80,
   "id": "b74f3a04",
   "metadata": {},
   "outputs": [],
   "source": [
    "var = df.columns[105]\n",
    "ls = [(var + or_p_ ), (var + sfl_ ), (var + oss_), (var+ i_rel_), (var+ o_), (var+ p_)]\n",
    "subset = df[df.columns[106:107]]\n",
    "subset = subset.astype(pd.CategoricalDtype())"
   ]
  },
  {
   "cell_type": "code",
   "execution_count": 81,
   "id": "87fedb58",
   "metadata": {
    "scrolled": true
   },
   "outputs": [],
   "source": [
    "a = pd.get_dummies(subset, prefix= [''])\n",
    "b = a.groupby(a.columns[:], axis=1).sum()\n",
    "b.columns = ls"
   ]
  },
  {
   "cell_type": "code",
   "execution_count": 82,
   "id": "d09c6941",
   "metadata": {},
   "outputs": [],
   "source": [
    "# subset.loc[subset[['v67a - ORGANISMO, INSTITUCIÓN, PERSONA QUE OTROGÓ COLCHONES, FRAZADAS']].count(axis=1) >= 1]"
   ]
  },
  {
   "cell_type": "code",
   "execution_count": 83,
   "id": "5052dfef",
   "metadata": {},
   "outputs": [],
   "source": [
    "# b.loc[(b != 0).any(axis=1)]"
   ]
  },
  {
   "cell_type": "code",
   "execution_count": 84,
   "id": "efdfd9e4",
   "metadata": {},
   "outputs": [],
   "source": [
    "df.loc[:, b.columns] = b.loc[:, b.columns[:]]"
   ]
  },
  {
   "cell_type": "code",
   "execution_count": 85,
   "id": "cb8920e2",
   "metadata": {},
   "outputs": [],
   "source": [
    "df = df.drop(df[df.columns[106:107]], axis=1)"
   ]
  },
  {
   "cell_type": "code",
   "execution_count": 86,
   "id": "84a4e314",
   "metadata": {},
   "outputs": [],
   "source": [
    "cols= list(df.columns[:106]) + list(df.columns[-6:]) + list(df.columns[106:-6])\n",
    "df = df[cols]\n",
    "# df.columns"
   ]
  },
  {
   "cell_type": "code",
   "execution_count": 87,
   "id": "eec463d8",
   "metadata": {
    "scrolled": true
   },
   "outputs": [],
   "source": [
    "var = df.columns[112]\n",
    "ls = [(var + or_p_ ), (var + sfl_ ), (var + oss_), (var+ i_rel_), (var+ o_), (var+ p_)]\n",
    "subset= df[df.columns[113:116]]\n",
    "subset = subset.astype(pd.CategoricalDtype())"
   ]
  },
  {
   "cell_type": "code",
   "execution_count": 88,
   "id": "8926c284",
   "metadata": {
    "scrolled": false
   },
   "outputs": [],
   "source": [
    "a = pd.get_dummies(subset, prefix= ['','',''])\n",
    "b = a.groupby(a.columns[:], axis= 1).sum()\n",
    "b.columns = ls"
   ]
  },
  {
   "cell_type": "code",
   "execution_count": 89,
   "id": "b15798aa",
   "metadata": {},
   "outputs": [],
   "source": [
    "df.loc[:, b.columns] = b.loc[:, b.columns[:]]"
   ]
  },
  {
   "cell_type": "code",
   "execution_count": 90,
   "id": "0a25ddaa",
   "metadata": {},
   "outputs": [],
   "source": [
    "# subset.loc[subset[['v68a - ORGANISMO, INSTITUCIÓN, PERSONA QUE OTROGÓ GUARDAPOLVOS, ÚTILES ESCOLARES', 'v68b - ORGANISMO, INSTITUCIÓN, PERSONA QUE OTORGÓ GUARDAPOLVOS, ÚTILES ESCOLARES',\n",
    "#                   'v68c - ORGANISMO, INSTITUCIÓN, PERSONA QUE OTORGÓ GUARDAPOLVOS, ÚTILES ESCOLARES']].count(axis=1) >= 1]"
   ]
  },
  {
   "cell_type": "code",
   "execution_count": 91,
   "id": "67017819",
   "metadata": {},
   "outputs": [],
   "source": [
    "# b.loc[(b != 0).any(axis=1)]"
   ]
  },
  {
   "cell_type": "code",
   "execution_count": 92,
   "id": "dd742b4c",
   "metadata": {},
   "outputs": [],
   "source": [
    "df = df.drop(df.columns[113:116], axis= 1)"
   ]
  },
  {
   "cell_type": "code",
   "execution_count": 93,
   "id": "0b2a2caa",
   "metadata": {},
   "outputs": [],
   "source": [
    "cols= list(df.columns[:113]) + list(df.columns[-6:]) + list(df.columns[113:-6])\n",
    "df = df[cols]\n",
    "# df.columns"
   ]
  },
  {
   "cell_type": "code",
   "execution_count": 94,
   "id": "b5d440dd",
   "metadata": {},
   "outputs": [],
   "source": [
    "var = df.columns[119]\n",
    "ls = [(var + or_p_ ), (var + sfl_ ), (var + oss_), (var+ i_rel_), (var+ o_), (var+ p_)]\n",
    "subset = df[df.columns[120:122]]\n",
    "subset = subset.astype(pd.CategoricalDtype())\n",
    "a = pd.get_dummies(subset, prefix = ['',''])\n",
    "b = a.groupby(a.columns[:], axis= 1).sum()\n",
    "b.columns = ls"
   ]
  },
  {
   "cell_type": "code",
   "execution_count": 95,
   "id": "1025ed7e",
   "metadata": {},
   "outputs": [],
   "source": [
    "df.loc[:, b.columns] = b.loc[:, b.columns[:]]"
   ]
  },
  {
   "cell_type": "code",
   "execution_count": 96,
   "id": "8ad93c85",
   "metadata": {},
   "outputs": [
    {
     "data": {
      "text/html": [
       "<div>\n",
       "<style scoped>\n",
       "    .dataframe tbody tr th:only-of-type {\n",
       "        vertical-align: middle;\n",
       "    }\n",
       "\n",
       "    .dataframe tbody tr th {\n",
       "        vertical-align: top;\n",
       "    }\n",
       "\n",
       "    .dataframe thead th {\n",
       "        text-align: right;\n",
       "    }\n",
       "</style>\n",
       "<table border=\"1\" class=\"dataframe\">\n",
       "  <thead>\n",
       "    <tr style=\"text-align: right;\">\n",
       "      <th></th>\n",
       "      <th>v69a - ORGANISMO, INSTITUCIÓN, PERSONA QUE OTORGÓ MEDICAMENTOS</th>\n",
       "      <th>v69b - ORGANISMO, INSTITUCIÓN, PERSONA QUE OTROGÓ MEDICAMENTOS</th>\n",
       "    </tr>\n",
       "  </thead>\n",
       "  <tbody>\n",
       "    <tr>\n",
       "      <th>25</th>\n",
       "      <td>1.0</td>\n",
       "      <td>NaN</td>\n",
       "    </tr>\n",
       "    <tr>\n",
       "      <th>26</th>\n",
       "      <td>1.0</td>\n",
       "      <td>NaN</td>\n",
       "    </tr>\n",
       "    <tr>\n",
       "      <th>27</th>\n",
       "      <td>1.0</td>\n",
       "      <td>NaN</td>\n",
       "    </tr>\n",
       "    <tr>\n",
       "      <th>28</th>\n",
       "      <td>1.0</td>\n",
       "      <td>NaN</td>\n",
       "    </tr>\n",
       "    <tr>\n",
       "      <th>29</th>\n",
       "      <td>1.0</td>\n",
       "      <td>NaN</td>\n",
       "    </tr>\n",
       "    <tr>\n",
       "      <th>...</th>\n",
       "      <td>...</td>\n",
       "      <td>...</td>\n",
       "    </tr>\n",
       "    <tr>\n",
       "      <th>27302</th>\n",
       "      <td>1.0</td>\n",
       "      <td>NaN</td>\n",
       "    </tr>\n",
       "    <tr>\n",
       "      <th>27303</th>\n",
       "      <td>1.0</td>\n",
       "      <td>NaN</td>\n",
       "    </tr>\n",
       "    <tr>\n",
       "      <th>27304</th>\n",
       "      <td>1.0</td>\n",
       "      <td>NaN</td>\n",
       "    </tr>\n",
       "    <tr>\n",
       "      <th>27591</th>\n",
       "      <td>3.0</td>\n",
       "      <td>NaN</td>\n",
       "    </tr>\n",
       "    <tr>\n",
       "      <th>27592</th>\n",
       "      <td>3.0</td>\n",
       "      <td>NaN</td>\n",
       "    </tr>\n",
       "  </tbody>\n",
       "</table>\n",
       "<p>3833 rows × 2 columns</p>\n",
       "</div>"
      ],
      "text/plain": [
       "      v69a - ORGANISMO, INSTITUCIÓN, PERSONA QUE OTORGÓ MEDICAMENTOS  \\\n",
       "25                                                   1.0               \n",
       "26                                                   1.0               \n",
       "27                                                   1.0               \n",
       "28                                                   1.0               \n",
       "29                                                   1.0               \n",
       "...                                                  ...               \n",
       "27302                                                1.0               \n",
       "27303                                                1.0               \n",
       "27304                                                1.0               \n",
       "27591                                                3.0               \n",
       "27592                                                3.0               \n",
       "\n",
       "      v69b - ORGANISMO, INSTITUCIÓN, PERSONA QUE OTROGÓ MEDICAMENTOS  \n",
       "25                                                   NaN              \n",
       "26                                                   NaN              \n",
       "27                                                   NaN              \n",
       "28                                                   NaN              \n",
       "29                                                   NaN              \n",
       "...                                                  ...              \n",
       "27302                                                NaN              \n",
       "27303                                                NaN              \n",
       "27304                                                NaN              \n",
       "27591                                                NaN              \n",
       "27592                                                NaN              \n",
       "\n",
       "[3833 rows x 2 columns]"
      ]
     },
     "execution_count": 96,
     "metadata": {},
     "output_type": "execute_result"
    }
   ],
   "source": [
    "subset.loc[subset[['v69a - ORGANISMO, INSTITUCIÓN, PERSONA QUE OTORGÓ MEDICAMENTOS', 'v69b - ORGANISMO, INSTITUCIÓN, PERSONA QUE OTROGÓ MEDICAMENTOS']].count(axis=1) >= 1]"
   ]
  },
  {
   "cell_type": "code",
   "execution_count": 97,
   "id": "1ad23210",
   "metadata": {},
   "outputs": [
    {
     "data": {
      "text/html": [
       "<div>\n",
       "<style scoped>\n",
       "    .dataframe tbody tr th:only-of-type {\n",
       "        vertical-align: middle;\n",
       "    }\n",
       "\n",
       "    .dataframe tbody tr th {\n",
       "        vertical-align: top;\n",
       "    }\n",
       "\n",
       "    .dataframe thead th {\n",
       "        text-align: right;\n",
       "    }\n",
       "</style>\n",
       "<table border=\"1\" class=\"dataframe\">\n",
       "  <thead>\n",
       "    <tr style=\"text-align: right;\">\n",
       "      <th></th>\n",
       "      <th>v69 - RECIBIÓ EL ÚLTIMO AÑO MEDICAMENTOS POR ORGANISMO PUBLICO</th>\n",
       "      <th>v69 - RECIBIÓ EL ÚLTIMO AÑO MEDICAMENTOS POR ORGANIZACION SIN FINES DE LUCRO</th>\n",
       "      <th>v69 - RECIBIÓ EL ÚLTIMO AÑO MEDICAMENTOS POR OBRA SOCIAL O SINDICATO</th>\n",
       "      <th>v69 - RECIBIÓ EL ÚLTIMO AÑO MEDICAMENTOS POR INSTITUCION RELIGIOSA</th>\n",
       "      <th>v69 - RECIBIÓ EL ÚLTIMO AÑO MEDICAMENTOS POR OTRA</th>\n",
       "      <th>v69 - RECIBIÓ EL ÚLTIMO AÑO MEDICAMENTOS POR PERSONA QUE NO VIVE EN EL HOGAR</th>\n",
       "    </tr>\n",
       "  </thead>\n",
       "  <tbody>\n",
       "    <tr>\n",
       "      <th>25</th>\n",
       "      <td>1</td>\n",
       "      <td>0</td>\n",
       "      <td>0</td>\n",
       "      <td>0</td>\n",
       "      <td>0</td>\n",
       "      <td>0</td>\n",
       "    </tr>\n",
       "    <tr>\n",
       "      <th>26</th>\n",
       "      <td>1</td>\n",
       "      <td>0</td>\n",
       "      <td>0</td>\n",
       "      <td>0</td>\n",
       "      <td>0</td>\n",
       "      <td>0</td>\n",
       "    </tr>\n",
       "    <tr>\n",
       "      <th>27</th>\n",
       "      <td>1</td>\n",
       "      <td>0</td>\n",
       "      <td>0</td>\n",
       "      <td>0</td>\n",
       "      <td>0</td>\n",
       "      <td>0</td>\n",
       "    </tr>\n",
       "    <tr>\n",
       "      <th>28</th>\n",
       "      <td>1</td>\n",
       "      <td>0</td>\n",
       "      <td>0</td>\n",
       "      <td>0</td>\n",
       "      <td>0</td>\n",
       "      <td>0</td>\n",
       "    </tr>\n",
       "    <tr>\n",
       "      <th>29</th>\n",
       "      <td>1</td>\n",
       "      <td>0</td>\n",
       "      <td>0</td>\n",
       "      <td>0</td>\n",
       "      <td>0</td>\n",
       "      <td>0</td>\n",
       "    </tr>\n",
       "    <tr>\n",
       "      <th>...</th>\n",
       "      <td>...</td>\n",
       "      <td>...</td>\n",
       "      <td>...</td>\n",
       "      <td>...</td>\n",
       "      <td>...</td>\n",
       "      <td>...</td>\n",
       "    </tr>\n",
       "    <tr>\n",
       "      <th>27302</th>\n",
       "      <td>1</td>\n",
       "      <td>0</td>\n",
       "      <td>0</td>\n",
       "      <td>0</td>\n",
       "      <td>0</td>\n",
       "      <td>0</td>\n",
       "    </tr>\n",
       "    <tr>\n",
       "      <th>27303</th>\n",
       "      <td>1</td>\n",
       "      <td>0</td>\n",
       "      <td>0</td>\n",
       "      <td>0</td>\n",
       "      <td>0</td>\n",
       "      <td>0</td>\n",
       "    </tr>\n",
       "    <tr>\n",
       "      <th>27304</th>\n",
       "      <td>1</td>\n",
       "      <td>0</td>\n",
       "      <td>0</td>\n",
       "      <td>0</td>\n",
       "      <td>0</td>\n",
       "      <td>0</td>\n",
       "    </tr>\n",
       "    <tr>\n",
       "      <th>27591</th>\n",
       "      <td>0</td>\n",
       "      <td>0</td>\n",
       "      <td>1</td>\n",
       "      <td>0</td>\n",
       "      <td>0</td>\n",
       "      <td>0</td>\n",
       "    </tr>\n",
       "    <tr>\n",
       "      <th>27592</th>\n",
       "      <td>0</td>\n",
       "      <td>0</td>\n",
       "      <td>1</td>\n",
       "      <td>0</td>\n",
       "      <td>0</td>\n",
       "      <td>0</td>\n",
       "    </tr>\n",
       "  </tbody>\n",
       "</table>\n",
       "<p>3833 rows × 6 columns</p>\n",
       "</div>"
      ],
      "text/plain": [
       "       v69 - RECIBIÓ EL ÚLTIMO AÑO MEDICAMENTOS POR ORGANISMO PUBLICO  \\\n",
       "25                                                     1                \n",
       "26                                                     1                \n",
       "27                                                     1                \n",
       "28                                                     1                \n",
       "29                                                     1                \n",
       "...                                                  ...                \n",
       "27302                                                  1                \n",
       "27303                                                  1                \n",
       "27304                                                  1                \n",
       "27591                                                  0                \n",
       "27592                                                  0                \n",
       "\n",
       "       v69 - RECIBIÓ EL ÚLTIMO AÑO MEDICAMENTOS POR ORGANIZACION SIN FINES DE LUCRO  \\\n",
       "25                                                     0                              \n",
       "26                                                     0                              \n",
       "27                                                     0                              \n",
       "28                                                     0                              \n",
       "29                                                     0                              \n",
       "...                                                  ...                              \n",
       "27302                                                  0                              \n",
       "27303                                                  0                              \n",
       "27304                                                  0                              \n",
       "27591                                                  0                              \n",
       "27592                                                  0                              \n",
       "\n",
       "       v69 - RECIBIÓ EL ÚLTIMO AÑO MEDICAMENTOS POR OBRA SOCIAL O SINDICATO  \\\n",
       "25                                                     0                      \n",
       "26                                                     0                      \n",
       "27                                                     0                      \n",
       "28                                                     0                      \n",
       "29                                                     0                      \n",
       "...                                                  ...                      \n",
       "27302                                                  0                      \n",
       "27303                                                  0                      \n",
       "27304                                                  0                      \n",
       "27591                                                  1                      \n",
       "27592                                                  1                      \n",
       "\n",
       "       v69 - RECIBIÓ EL ÚLTIMO AÑO MEDICAMENTOS POR INSTITUCION RELIGIOSA  \\\n",
       "25                                                     0                    \n",
       "26                                                     0                    \n",
       "27                                                     0                    \n",
       "28                                                     0                    \n",
       "29                                                     0                    \n",
       "...                                                  ...                    \n",
       "27302                                                  0                    \n",
       "27303                                                  0                    \n",
       "27304                                                  0                    \n",
       "27591                                                  0                    \n",
       "27592                                                  0                    \n",
       "\n",
       "       v69 - RECIBIÓ EL ÚLTIMO AÑO MEDICAMENTOS POR OTRA  \\\n",
       "25                                                     0   \n",
       "26                                                     0   \n",
       "27                                                     0   \n",
       "28                                                     0   \n",
       "29                                                     0   \n",
       "...                                                  ...   \n",
       "27302                                                  0   \n",
       "27303                                                  0   \n",
       "27304                                                  0   \n",
       "27591                                                  0   \n",
       "27592                                                  0   \n",
       "\n",
       "       v69 - RECIBIÓ EL ÚLTIMO AÑO MEDICAMENTOS POR PERSONA QUE NO VIVE EN EL HOGAR  \n",
       "25                                                     0                             \n",
       "26                                                     0                             \n",
       "27                                                     0                             \n",
       "28                                                     0                             \n",
       "29                                                     0                             \n",
       "...                                                  ...                             \n",
       "27302                                                  0                             \n",
       "27303                                                  0                             \n",
       "27304                                                  0                             \n",
       "27591                                                  0                             \n",
       "27592                                                  0                             \n",
       "\n",
       "[3833 rows x 6 columns]"
      ]
     },
     "execution_count": 97,
     "metadata": {},
     "output_type": "execute_result"
    }
   ],
   "source": [
    "b.loc[(b != 0).any(axis=1)]"
   ]
  },
  {
   "cell_type": "code",
   "execution_count": 98,
   "id": "7f0cb4df",
   "metadata": {},
   "outputs": [],
   "source": [
    "df = df.drop(df.columns[120:122], axis=1)"
   ]
  },
  {
   "cell_type": "code",
   "execution_count": 99,
   "id": "2951a197",
   "metadata": {},
   "outputs": [],
   "source": [
    "cols= list(df.columns[:120]) + list(df.columns[-6:])+ list(df.columns[120:-6])\n",
    "df= df[cols]\n",
    "# df.columns"
   ]
  },
  {
   "cell_type": "code",
   "execution_count": 100,
   "id": "fe07b2d7",
   "metadata": {
    "scrolled": true
   },
   "outputs": [
    {
     "data": {
      "text/plain": [
       "['v70 - RECIBIÓ EL ÚLTIMO AÑO VESTIMENTA, CALZADO POR ORGANISMO PUBLICO',\n",
       " 'v70 - RECIBIÓ EL ÚLTIMO AÑO VESTIMENTA, CALZADO POR ORGANIZACION SIN FINES DE LUCRO',\n",
       " 'v70 - RECIBIÓ EL ÚLTIMO AÑO VESTIMENTA, CALZADO POR OBRA SOCIAL O SINDICATO',\n",
       " 'v70 - RECIBIÓ EL ÚLTIMO AÑO VESTIMENTA, CALZADO POR INSTITUCION RELIGIOSA',\n",
       " 'v70 - RECIBIÓ EL ÚLTIMO AÑO VESTIMENTA, CALZADO POR OTRA',\n",
       " 'v70 - RECIBIÓ EL ÚLTIMO AÑO VESTIMENTA, CALZADO POR PERSONA QUE NO VIVE EN EL HOGAR']"
      ]
     },
     "execution_count": 100,
     "metadata": {},
     "output_type": "execute_result"
    }
   ],
   "source": [
    "var = df.columns[126]\n",
    "ls = [(var + or_p_ ), (var + sfl_ ), (var + oss_), (var+ i_rel_), (var+ o_), (var+ p_)]\n",
    "ls\n",
    "subset = df[df.columns[127:130]]\n",
    "subset = subset.astype(pd.CategoricalDtype())\n",
    "a = pd.get_dummies(subset, prefix= ['','',''])\n",
    "b = a.groupby(a.columns[:], axis=1).sum()\n",
    "b.columns = ls"
   ]
  },
  {
   "cell_type": "code",
   "execution_count": 101,
   "id": "7cb5a497",
   "metadata": {},
   "outputs": [],
   "source": [
    "# subset.loc[subset[['v70a - ORGANISMO, INSTITUCIÓN, PERSONA QUE OTROGÓ VESTIMENTA, CALZADO',\n",
    "#        'v70b - ORGANISMO, INSTITUCIÓN, PERSONA QUE OTROGÓ VESTIMENTA, CALZADO',\n",
    "#        'v70c - ORGANISMO, INSTITUCIÓN, PERSONA QUE OTROGÓ VESTIMENTA, CALZADO']].count(axis=1) >= 1]"
   ]
  },
  {
   "cell_type": "code",
   "execution_count": 102,
   "id": "8ce6f40f",
   "metadata": {},
   "outputs": [],
   "source": [
    "# b.loc[(b != 0).any(axis=1)]"
   ]
  },
  {
   "cell_type": "code",
   "execution_count": 103,
   "id": "315c9695",
   "metadata": {},
   "outputs": [],
   "source": [
    "df.loc[:, b.columns] = b.loc[:, b.columns[:]]\n",
    "df = df.drop(df[df.columns[127:130]], axis=1)"
   ]
  },
  {
   "cell_type": "code",
   "execution_count": 104,
   "id": "26bf716b",
   "metadata": {},
   "outputs": [],
   "source": [
    "cols= list(df.columns[:127]) + list(df.columns[-6:]) + list(df.columns[127:-6])\n",
    "df= df[cols]"
   ]
  },
  {
   "cell_type": "code",
   "execution_count": 105,
   "id": "4bd500fe",
   "metadata": {},
   "outputs": [],
   "source": [
    "# df.columns[126:]"
   ]
  },
  {
   "cell_type": "code",
   "execution_count": 106,
   "id": "5dec571d",
   "metadata": {},
   "outputs": [
    {
     "data": {
      "text/plain": [
       "Index(['v103a - POSESIÓN DE TARJETAS DE DÉBITO, CRÉDITO O COMPRA',\n",
       "       'v103b - POSESIÓN DE TARJETAS DE DÉBITO, CRÉDITO O COMPRA',\n",
       "       'v103c - POSESIÓN DE TARJETAS DE DÉBITO, CRÉDITO O COMPRA'],\n",
       "      dtype='object')"
      ]
     },
     "execution_count": 106,
     "metadata": {},
     "output_type": "execute_result"
    }
   ],
   "source": [
    "df.columns[166:169]"
   ]
  },
  {
   "cell_type": "code",
   "execution_count": 107,
   "id": "dbcb2fde",
   "metadata": {
    "scrolled": false
   },
   "outputs": [
    {
     "data": {
      "text/plain": [
       "['POSESION DE TARJETA: Maestro/Visa Electron',\n",
       " 'POSESION DE TARJETA: Maestro, Visa, American Express, Diners, Naranja, Cabal, otras',\n",
       " 'POSESION DE TARJETA: Emitida por cadenas comerciales',\n",
       " 'POSESION DE TARJETA: No tiene']"
      ]
     },
     "execution_count": 107,
     "metadata": {},
     "output_type": "execute_result"
    },
    {
     "data": {
      "text/html": [
       "<div>\n",
       "<style scoped>\n",
       "    .dataframe tbody tr th:only-of-type {\n",
       "        vertical-align: middle;\n",
       "    }\n",
       "\n",
       "    .dataframe tbody tr th {\n",
       "        vertical-align: top;\n",
       "    }\n",
       "\n",
       "    .dataframe thead th {\n",
       "        text-align: right;\n",
       "    }\n",
       "</style>\n",
       "<table border=\"1\" class=\"dataframe\">\n",
       "  <thead>\n",
       "    <tr style=\"text-align: right;\">\n",
       "      <th></th>\n",
       "      <th>v103a - POSESIÓN DE TARJETAS DE DÉBITO, CRÉDITO O COMPRA</th>\n",
       "      <th>v103b - POSESIÓN DE TARJETAS DE DÉBITO, CRÉDITO O COMPRA</th>\n",
       "      <th>v103c - POSESIÓN DE TARJETAS DE DÉBITO, CRÉDITO O COMPRA</th>\n",
       "    </tr>\n",
       "  </thead>\n",
       "  <tbody>\n",
       "    <tr>\n",
       "      <th>0</th>\n",
       "      <td>1.0</td>\n",
       "      <td>2.0</td>\n",
       "      <td>NaN</td>\n",
       "    </tr>\n",
       "    <tr>\n",
       "      <th>1</th>\n",
       "      <td>1.0</td>\n",
       "      <td>2.0</td>\n",
       "      <td>NaN</td>\n",
       "    </tr>\n",
       "    <tr>\n",
       "      <th>2</th>\n",
       "      <td>1.0</td>\n",
       "      <td>2.0</td>\n",
       "      <td>NaN</td>\n",
       "    </tr>\n",
       "    <tr>\n",
       "      <th>3</th>\n",
       "      <td>1.0</td>\n",
       "      <td>2.0</td>\n",
       "      <td>NaN</td>\n",
       "    </tr>\n",
       "    <tr>\n",
       "      <th>4</th>\n",
       "      <td>1.0</td>\n",
       "      <td>2.0</td>\n",
       "      <td>NaN</td>\n",
       "    </tr>\n",
       "  </tbody>\n",
       "</table>\n",
       "</div>"
      ],
      "text/plain": [
       "   v103a - POSESIÓN DE TARJETAS DE DÉBITO, CRÉDITO O COMPRA  \\\n",
       "0                                                1.0          \n",
       "1                                                1.0          \n",
       "2                                                1.0          \n",
       "3                                                1.0          \n",
       "4                                                1.0          \n",
       "\n",
       "   v103b - POSESIÓN DE TARJETAS DE DÉBITO, CRÉDITO O COMPRA  \\\n",
       "0                                                2.0          \n",
       "1                                                2.0          \n",
       "2                                                2.0          \n",
       "3                                                2.0          \n",
       "4                                                2.0          \n",
       "\n",
       "   v103c - POSESIÓN DE TARJETAS DE DÉBITO, CRÉDITO O COMPRA  \n",
       "0                                                NaN         \n",
       "1                                                NaN         \n",
       "2                                                NaN         \n",
       "3                                                NaN         \n",
       "4                                                NaN         "
      ]
     },
     "execution_count": 107,
     "metadata": {},
     "output_type": "execute_result"
    }
   ],
   "source": [
    "var = 'POSESION DE TARJETA'\n",
    "mv_= ': Maestro/Visa Electron'\n",
    "mvae_ = ': Maestro, Visa, American Express, Diners, Naranja, Cabal, otras'\n",
    "com_ = ': Emitida por cadenas comerciales'\n",
    "n_ = ': No tiene'\n",
    "ls = [(var+mv_), (var+mvae_), (var+com_), (var+n_)]\n",
    "ls\n",
    "subset = df[df.columns[166:169]]\n",
    "subset.head()"
   ]
  },
  {
   "cell_type": "code",
   "execution_count": 108,
   "id": "78384a9c",
   "metadata": {
    "scrolled": true
   },
   "outputs": [],
   "source": [
    "subset = subset.astype(pd.CategoricalDtype())\n",
    "a = pd.get_dummies(subset, prefix= ['','',''])\n",
    "b = a.groupby(a.columns[:], axis=1).sum()\n",
    "b.columns = ls"
   ]
  },
  {
   "cell_type": "code",
   "execution_count": 109,
   "id": "39051b29",
   "metadata": {},
   "outputs": [],
   "source": [
    "# subset.loc[subset[['v103a - POSESIÓN DE TARJETAS DE DÉBITO, CRÉDITO O COMPRA',\n",
    "#        'v103b - POSESIÓN DE TARJETAS DE DÉBITO, CRÉDITO O COMPRA',\n",
    "#        'v103c - POSESIÓN DE TARJETAS DE DÉBITO, CRÉDITO O COMPRA']].count(axis=1) >= 1]"
   ]
  },
  {
   "cell_type": "code",
   "execution_count": 110,
   "id": "6f78a992",
   "metadata": {},
   "outputs": [],
   "source": [
    "# b.loc[(b != 0).any(axis=1)]"
   ]
  },
  {
   "cell_type": "code",
   "execution_count": 111,
   "id": "044423e1",
   "metadata": {},
   "outputs": [
    {
     "data": {
      "text/plain": [
       "Index(['v103a - POSESIÓN DE TARJETAS DE DÉBITO, CRÉDITO O COMPRA',\n",
       "       'v103b - POSESIÓN DE TARJETAS DE DÉBITO, CRÉDITO O COMPRA',\n",
       "       'v103c - POSESIÓN DE TARJETAS DE DÉBITO, CRÉDITO O COMPRA'],\n",
       "      dtype='object')"
      ]
     },
     "execution_count": 111,
     "metadata": {},
     "output_type": "execute_result"
    }
   ],
   "source": [
    "df.columns[166:169]"
   ]
  },
  {
   "cell_type": "code",
   "execution_count": 112,
   "id": "024a5e6f",
   "metadata": {},
   "outputs": [],
   "source": [
    "df.loc[:, b.columns] = b.loc[:, b.columns[:]]\n",
    "df = df.drop(df[df.columns[166:169]], axis= 1)"
   ]
  },
  {
   "cell_type": "code",
   "execution_count": 113,
   "id": "2e9f1876",
   "metadata": {},
   "outputs": [],
   "source": [
    "cols = list(df.columns[:166]) + list(df.columns[-4:]) + list(df.columns[166:-4])\n",
    "df = df[cols]"
   ]
  },
  {
   "cell_type": "code",
   "execution_count": 114,
   "id": "332ae07c",
   "metadata": {
    "scrolled": true
   },
   "outputs": [
    {
     "data": {
      "text/plain": [
       "['v104 - OBTENCIÓN DE PRÉSTAMOS: HIPOTECARIO para compra o refaccion de la vivienda',\n",
       " 'v104 - OBTENCIÓN DE PRÉSTAMOS: PRENDARIO para compra de vehiculos o maquinaria',\n",
       " 'v104 - OBTENCIÓN DE PRÉSTAMOS: MICROCREDITO para la produccion',\n",
       " 'v104 - OBTENCIÓN DE PRÉSTAMOS: PESONAL)',\n",
       " 'v104 - OBTENCIÓN DE PRÉSTAMOS: A SOLA FIRMA / CON RECIBO DE SUELDO O TARJETA DE CREDITO',\n",
       " 'v104 - OBTENCIÓN DE PRÉSTAMOS: OTRO']"
      ]
     },
     "execution_count": 114,
     "metadata": {},
     "output_type": "execute_result"
    }
   ],
   "source": [
    "var= df.columns[170]\n",
    "hip_ = ': HIPOTECARIO para compra o refaccion de la vivienda'\n",
    "pren_ = ': PRENDARIO para compra de vehiculos o maquinaria'\n",
    "micro_ = ': MICROCREDITO para la produccion'\n",
    "pers_ = ': PESONAL)'\n",
    "sf_ = ': A SOLA FIRMA / CON RECIBO DE SUELDO O TARJETA DE CREDITO'\n",
    "ot_ = ': OTRO'\n",
    "ls = [(var+ hip_), (var+pren_), (var+micro_), (var+pers_), (var+sf_), (var+ot_)]\n",
    "ls"
   ]
  },
  {
   "cell_type": "code",
   "execution_count": 115,
   "id": "0e846e68",
   "metadata": {},
   "outputs": [],
   "source": [
    "subset = df[df.columns[171:174]]\n",
    "subset = subset.astype(pd.CategoricalDtype())"
   ]
  },
  {
   "cell_type": "code",
   "execution_count": 116,
   "id": "adb03476",
   "metadata": {},
   "outputs": [],
   "source": [
    "a= pd.get_dummies(subset, prefix=['','',''])\n",
    "b= a.groupby(a.columns[:], axis=1).sum()\n",
    "b.columns = ls"
   ]
  },
  {
   "cell_type": "code",
   "execution_count": 117,
   "id": "16ed66eb",
   "metadata": {},
   "outputs": [
    {
     "data": {
      "text/html": [
       "<div>\n",
       "<style scoped>\n",
       "    .dataframe tbody tr th:only-of-type {\n",
       "        vertical-align: middle;\n",
       "    }\n",
       "\n",
       "    .dataframe tbody tr th {\n",
       "        vertical-align: top;\n",
       "    }\n",
       "\n",
       "    .dataframe thead th {\n",
       "        text-align: right;\n",
       "    }\n",
       "</style>\n",
       "<table border=\"1\" class=\"dataframe\">\n",
       "  <thead>\n",
       "    <tr style=\"text-align: right;\">\n",
       "      <th></th>\n",
       "      <th>v105a - TIPO DE PRÉSTAMO OBTENIDO</th>\n",
       "      <th>v105b - TIPO DE PRÉSTAMO OBTENIDO</th>\n",
       "      <th>v105c - TIPO DE PRÉSTAMO OBTENIDO</th>\n",
       "    </tr>\n",
       "  </thead>\n",
       "  <tbody>\n",
       "    <tr>\n",
       "      <th>20</th>\n",
       "      <td>1.0</td>\n",
       "      <td>NaN</td>\n",
       "      <td>NaN</td>\n",
       "    </tr>\n",
       "    <tr>\n",
       "      <th>21</th>\n",
       "      <td>1.0</td>\n",
       "      <td>NaN</td>\n",
       "      <td>NaN</td>\n",
       "    </tr>\n",
       "    <tr>\n",
       "      <th>22</th>\n",
       "      <td>1.0</td>\n",
       "      <td>NaN</td>\n",
       "      <td>NaN</td>\n",
       "    </tr>\n",
       "    <tr>\n",
       "      <th>23</th>\n",
       "      <td>1.0</td>\n",
       "      <td>NaN</td>\n",
       "      <td>NaN</td>\n",
       "    </tr>\n",
       "    <tr>\n",
       "      <th>24</th>\n",
       "      <td>1.0</td>\n",
       "      <td>NaN</td>\n",
       "      <td>NaN</td>\n",
       "    </tr>\n",
       "    <tr>\n",
       "      <th>...</th>\n",
       "      <td>...</td>\n",
       "      <td>...</td>\n",
       "      <td>...</td>\n",
       "    </tr>\n",
       "    <tr>\n",
       "      <th>27608</th>\n",
       "      <td>4.0</td>\n",
       "      <td>NaN</td>\n",
       "      <td>NaN</td>\n",
       "    </tr>\n",
       "    <tr>\n",
       "      <th>27609</th>\n",
       "      <td>4.0</td>\n",
       "      <td>NaN</td>\n",
       "      <td>NaN</td>\n",
       "    </tr>\n",
       "    <tr>\n",
       "      <th>27610</th>\n",
       "      <td>4.0</td>\n",
       "      <td>NaN</td>\n",
       "      <td>NaN</td>\n",
       "    </tr>\n",
       "    <tr>\n",
       "      <th>27611</th>\n",
       "      <td>4.0</td>\n",
       "      <td>NaN</td>\n",
       "      <td>NaN</td>\n",
       "    </tr>\n",
       "    <tr>\n",
       "      <th>27612</th>\n",
       "      <td>4.0</td>\n",
       "      <td>NaN</td>\n",
       "      <td>NaN</td>\n",
       "    </tr>\n",
       "  </tbody>\n",
       "</table>\n",
       "<p>8528 rows × 3 columns</p>\n",
       "</div>"
      ],
      "text/plain": [
       "      v105a - TIPO DE PRÉSTAMO OBTENIDO v105b - TIPO DE PRÉSTAMO OBTENIDO  \\\n",
       "20                                  1.0                               NaN   \n",
       "21                                  1.0                               NaN   \n",
       "22                                  1.0                               NaN   \n",
       "23                                  1.0                               NaN   \n",
       "24                                  1.0                               NaN   \n",
       "...                                 ...                               ...   \n",
       "27608                               4.0                               NaN   \n",
       "27609                               4.0                               NaN   \n",
       "27610                               4.0                               NaN   \n",
       "27611                               4.0                               NaN   \n",
       "27612                               4.0                               NaN   \n",
       "\n",
       "      v105c - TIPO DE PRÉSTAMO OBTENIDO  \n",
       "20                                  NaN  \n",
       "21                                  NaN  \n",
       "22                                  NaN  \n",
       "23                                  NaN  \n",
       "24                                  NaN  \n",
       "...                                 ...  \n",
       "27608                               NaN  \n",
       "27609                               NaN  \n",
       "27610                               NaN  \n",
       "27611                               NaN  \n",
       "27612                               NaN  \n",
       "\n",
       "[8528 rows x 3 columns]"
      ]
     },
     "execution_count": 117,
     "metadata": {},
     "output_type": "execute_result"
    }
   ],
   "source": [
    "subset.loc[subset[['v105a - TIPO DE PRÉSTAMO OBTENIDO',\n",
    "       'v105b - TIPO DE PRÉSTAMO OBTENIDO',\n",
    "       'v105c - TIPO DE PRÉSTAMO OBTENIDO']].count(axis=1) >= 1]"
   ]
  },
  {
   "cell_type": "code",
   "execution_count": 118,
   "id": "1a584226",
   "metadata": {},
   "outputs": [
    {
     "data": {
      "text/html": [
       "<div>\n",
       "<style scoped>\n",
       "    .dataframe tbody tr th:only-of-type {\n",
       "        vertical-align: middle;\n",
       "    }\n",
       "\n",
       "    .dataframe tbody tr th {\n",
       "        vertical-align: top;\n",
       "    }\n",
       "\n",
       "    .dataframe thead th {\n",
       "        text-align: right;\n",
       "    }\n",
       "</style>\n",
       "<table border=\"1\" class=\"dataframe\">\n",
       "  <thead>\n",
       "    <tr style=\"text-align: right;\">\n",
       "      <th></th>\n",
       "      <th>v104 - OBTENCIÓN DE PRÉSTAMOS: HIPOTECARIO para compra o refaccion de la vivienda</th>\n",
       "      <th>v104 - OBTENCIÓN DE PRÉSTAMOS: PRENDARIO para compra de vehiculos o maquinaria</th>\n",
       "      <th>v104 - OBTENCIÓN DE PRÉSTAMOS: MICROCREDITO para la produccion</th>\n",
       "      <th>v104 - OBTENCIÓN DE PRÉSTAMOS: PESONAL)</th>\n",
       "      <th>v104 - OBTENCIÓN DE PRÉSTAMOS: A SOLA FIRMA / CON RECIBO DE SUELDO O TARJETA DE CREDITO</th>\n",
       "      <th>v104 - OBTENCIÓN DE PRÉSTAMOS: OTRO</th>\n",
       "    </tr>\n",
       "  </thead>\n",
       "  <tbody>\n",
       "    <tr>\n",
       "      <th>20</th>\n",
       "      <td>1</td>\n",
       "      <td>0</td>\n",
       "      <td>0</td>\n",
       "      <td>0</td>\n",
       "      <td>0</td>\n",
       "      <td>0</td>\n",
       "    </tr>\n",
       "    <tr>\n",
       "      <th>21</th>\n",
       "      <td>1</td>\n",
       "      <td>0</td>\n",
       "      <td>0</td>\n",
       "      <td>0</td>\n",
       "      <td>0</td>\n",
       "      <td>0</td>\n",
       "    </tr>\n",
       "    <tr>\n",
       "      <th>22</th>\n",
       "      <td>1</td>\n",
       "      <td>0</td>\n",
       "      <td>0</td>\n",
       "      <td>0</td>\n",
       "      <td>0</td>\n",
       "      <td>0</td>\n",
       "    </tr>\n",
       "    <tr>\n",
       "      <th>23</th>\n",
       "      <td>1</td>\n",
       "      <td>0</td>\n",
       "      <td>0</td>\n",
       "      <td>0</td>\n",
       "      <td>0</td>\n",
       "      <td>0</td>\n",
       "    </tr>\n",
       "    <tr>\n",
       "      <th>24</th>\n",
       "      <td>1</td>\n",
       "      <td>0</td>\n",
       "      <td>0</td>\n",
       "      <td>0</td>\n",
       "      <td>0</td>\n",
       "      <td>0</td>\n",
       "    </tr>\n",
       "    <tr>\n",
       "      <th>...</th>\n",
       "      <td>...</td>\n",
       "      <td>...</td>\n",
       "      <td>...</td>\n",
       "      <td>...</td>\n",
       "      <td>...</td>\n",
       "      <td>...</td>\n",
       "    </tr>\n",
       "    <tr>\n",
       "      <th>27608</th>\n",
       "      <td>0</td>\n",
       "      <td>0</td>\n",
       "      <td>0</td>\n",
       "      <td>1</td>\n",
       "      <td>0</td>\n",
       "      <td>0</td>\n",
       "    </tr>\n",
       "    <tr>\n",
       "      <th>27609</th>\n",
       "      <td>0</td>\n",
       "      <td>0</td>\n",
       "      <td>0</td>\n",
       "      <td>1</td>\n",
       "      <td>0</td>\n",
       "      <td>0</td>\n",
       "    </tr>\n",
       "    <tr>\n",
       "      <th>27610</th>\n",
       "      <td>0</td>\n",
       "      <td>0</td>\n",
       "      <td>0</td>\n",
       "      <td>1</td>\n",
       "      <td>0</td>\n",
       "      <td>0</td>\n",
       "    </tr>\n",
       "    <tr>\n",
       "      <th>27611</th>\n",
       "      <td>0</td>\n",
       "      <td>0</td>\n",
       "      <td>0</td>\n",
       "      <td>1</td>\n",
       "      <td>0</td>\n",
       "      <td>0</td>\n",
       "    </tr>\n",
       "    <tr>\n",
       "      <th>27612</th>\n",
       "      <td>0</td>\n",
       "      <td>0</td>\n",
       "      <td>0</td>\n",
       "      <td>1</td>\n",
       "      <td>0</td>\n",
       "      <td>0</td>\n",
       "    </tr>\n",
       "  </tbody>\n",
       "</table>\n",
       "<p>8528 rows × 6 columns</p>\n",
       "</div>"
      ],
      "text/plain": [
       "       v104 - OBTENCIÓN DE PRÉSTAMOS: HIPOTECARIO para compra o refaccion de la vivienda  \\\n",
       "20                                                     1                                   \n",
       "21                                                     1                                   \n",
       "22                                                     1                                   \n",
       "23                                                     1                                   \n",
       "24                                                     1                                   \n",
       "...                                                  ...                                   \n",
       "27608                                                  0                                   \n",
       "27609                                                  0                                   \n",
       "27610                                                  0                                   \n",
       "27611                                                  0                                   \n",
       "27612                                                  0                                   \n",
       "\n",
       "       v104 - OBTENCIÓN DE PRÉSTAMOS: PRENDARIO para compra de vehiculos o maquinaria  \\\n",
       "20                                                     0                                \n",
       "21                                                     0                                \n",
       "22                                                     0                                \n",
       "23                                                     0                                \n",
       "24                                                     0                                \n",
       "...                                                  ...                                \n",
       "27608                                                  0                                \n",
       "27609                                                  0                                \n",
       "27610                                                  0                                \n",
       "27611                                                  0                                \n",
       "27612                                                  0                                \n",
       "\n",
       "       v104 - OBTENCIÓN DE PRÉSTAMOS: MICROCREDITO para la produccion  \\\n",
       "20                                                     0                \n",
       "21                                                     0                \n",
       "22                                                     0                \n",
       "23                                                     0                \n",
       "24                                                     0                \n",
       "...                                                  ...                \n",
       "27608                                                  0                \n",
       "27609                                                  0                \n",
       "27610                                                  0                \n",
       "27611                                                  0                \n",
       "27612                                                  0                \n",
       "\n",
       "       v104 - OBTENCIÓN DE PRÉSTAMOS: PESONAL)  \\\n",
       "20                                           0   \n",
       "21                                           0   \n",
       "22                                           0   \n",
       "23                                           0   \n",
       "24                                           0   \n",
       "...                                        ...   \n",
       "27608                                        1   \n",
       "27609                                        1   \n",
       "27610                                        1   \n",
       "27611                                        1   \n",
       "27612                                        1   \n",
       "\n",
       "       v104 - OBTENCIÓN DE PRÉSTAMOS: A SOLA FIRMA / CON RECIBO DE SUELDO O TARJETA DE CREDITO  \\\n",
       "20                                                     0                                         \n",
       "21                                                     0                                         \n",
       "22                                                     0                                         \n",
       "23                                                     0                                         \n",
       "24                                                     0                                         \n",
       "...                                                  ...                                         \n",
       "27608                                                  0                                         \n",
       "27609                                                  0                                         \n",
       "27610                                                  0                                         \n",
       "27611                                                  0                                         \n",
       "27612                                                  0                                         \n",
       "\n",
       "       v104 - OBTENCIÓN DE PRÉSTAMOS: OTRO  \n",
       "20                                       0  \n",
       "21                                       0  \n",
       "22                                       0  \n",
       "23                                       0  \n",
       "24                                       0  \n",
       "...                                    ...  \n",
       "27608                                    0  \n",
       "27609                                    0  \n",
       "27610                                    0  \n",
       "27611                                    0  \n",
       "27612                                    0  \n",
       "\n",
       "[8528 rows x 6 columns]"
      ]
     },
     "execution_count": 118,
     "metadata": {},
     "output_type": "execute_result"
    }
   ],
   "source": [
    "b.loc[(b != 0).any(axis=1)]"
   ]
  },
  {
   "cell_type": "code",
   "execution_count": 119,
   "id": "ad1935c1",
   "metadata": {},
   "outputs": [],
   "source": [
    "df.loc[:, b.columns]=b.loc[:, b.columns[:]]\n",
    "df= df.drop(df.columns[171:174], axis=1)"
   ]
  },
  {
   "cell_type": "code",
   "execution_count": 120,
   "id": "f63784c6",
   "metadata": {},
   "outputs": [],
   "source": [
    "cols = list(df.columns[:171]) + list(df.columns[-6:]) + list(df.columns[171:-6])\n",
    "df = df[cols]"
   ]
  },
  {
   "cell_type": "code",
   "execution_count": 121,
   "id": "7c9a96d8",
   "metadata": {},
   "outputs": [],
   "source": [
    "# df.columns"
   ]
  },
  {
   "cell_type": "code",
   "execution_count": 122,
   "id": "b4051e6a",
   "metadata": {},
   "outputs": [],
   "source": [
    "#########################################################################\n",
    "#########################################################################\n",
    "############################ BLOQUE INGRESOS ############################\n",
    "#########################################################################\n",
    "#########################################################################"
   ]
  },
  {
   "cell_type": "code",
   "execution_count": 123,
   "id": "77fca7ac",
   "metadata": {},
   "outputs": [],
   "source": [
    "# Junto 'INGRESO EN DINERO TOTAL DEL HOGAR EL MES PASADO'\n",
    "# ( ¿Cuánto fue el ingreso en dinero total del hogar el mes pasado?)\n",
    "# Con 'INGRESO EN DINERO TOTAL DEL HOGAR EL MES PASADO (SÓLO PARA QUIENES NS/NR)'\n",
    "# (¿Podría decirme donde se ubican los ingresos totales mensuales de este hogar?)\n",
    "\n",
    "subset = df[df.columns[198:200]]\n",
    "# subset.head(100)"
   ]
  },
  {
   "cell_type": "code",
   "execution_count": 124,
   "id": "6580e272",
   "metadata": {},
   "outputs": [],
   "source": [
    "# subset = subset.fillna('nan')"
   ]
  },
  {
   "cell_type": "code",
   "execution_count": 125,
   "id": "19dcaf89",
   "metadata": {},
   "outputs": [
    {
     "name": "stderr",
     "output_type": "stream",
     "text": [
      "/var/folders/hv/qq39tb313dj3rr8nmr93yr_r0000gn/T/ipykernel_89278/282548866.py:1: SettingWithCopyWarning: \n",
      "A value is trying to be set on a copy of a slice from a DataFrame.\n",
      "Try using .loc[row_indexer,col_indexer] = value instead\n",
      "\n",
      "See the caveats in the documentation: https://pandas.pydata.org/pandas-docs/stable/user_guide/indexing.html#returning-a-view-versus-a-copy\n",
      "  subset['new'] = subset.iloc[:,1].where(subset.iloc[:,0].isna() , subset.iloc[:,0])\n"
     ]
    }
   ],
   "source": [
    "subset['new'] = subset.iloc[:,1].where(subset.iloc[:,0].isna() , subset.iloc[:,0])"
   ]
  },
  {
   "cell_type": "code",
   "execution_count": 126,
   "id": "86a16b0d",
   "metadata": {},
   "outputs": [],
   "source": [
    "ingreso_cat_ = list(range(1,13))"
   ]
  },
  {
   "cell_type": "code",
   "execution_count": 127,
   "id": "72040f30",
   "metadata": {},
   "outputs": [],
   "source": [
    "ingreso_avg_ = [2000, 3500, 5000, 7000, 9000, 12500, 14500, 17000, 19000, 22500, 27500, 40000]"
   ]
  },
  {
   "cell_type": "code",
   "execution_count": 128,
   "id": "a95c75d4",
   "metadata": {},
   "outputs": [
    {
     "data": {
      "text/plain": [
       "[1, 2, 3, 4, 5, 6, 7, 8, 9, 10, 11, 12]"
      ]
     },
     "execution_count": 128,
     "metadata": {},
     "output_type": "execute_result"
    },
    {
     "data": {
      "text/plain": [
       "[2000, 3500, 5000, 7000, 9000, 12500, 14500, 17000, 19000, 22500, 27500, 40000]"
      ]
     },
     "execution_count": 128,
     "metadata": {},
     "output_type": "execute_result"
    },
    {
     "data": {
      "text/plain": [
       "True"
      ]
     },
     "execution_count": 128,
     "metadata": {},
     "output_type": "execute_result"
    }
   ],
   "source": [
    "ingreso_cat_\n",
    "ingreso_avg_\n",
    "len(ingreso_cat_) == len(ingreso_avg_)"
   ]
  },
  {
   "cell_type": "code",
   "execution_count": 129,
   "id": "4084a62e",
   "metadata": {},
   "outputs": [],
   "source": [
    "for (i,j) in zip(ingreso_cat_, ingreso_avg_):\n",
    "    subset.loc[subset.iloc[:,2] == i, subset.columns[2]]= j"
   ]
  },
  {
   "cell_type": "code",
   "execution_count": 130,
   "id": "a4571963",
   "metadata": {},
   "outputs": [],
   "source": [
    "# subset.head(20)"
   ]
  },
  {
   "cell_type": "code",
   "execution_count": 131,
   "id": "0aadb1e7",
   "metadata": {},
   "outputs": [],
   "source": [
    "# df['v235 - INGRESO EN DINERO TOTAL DEL HOGAR EL MES PASADO'] = subset.iloc[:,-1]\n",
    "# df['v235 - INGRESO EN DINERO TOTAL DEL HOGAR EL MES PASADO'][0:20]"
   ]
  },
  {
   "cell_type": "code",
   "execution_count": 132,
   "id": "192e7663",
   "metadata": {},
   "outputs": [],
   "source": [
    "# df['v235 - INGRESO EN DINERO TOTAL DEL HOGAR EL MES PASADO'] = df['v235 - INGRESO EN DINERO TOTAL DEL HOGAR EL MES PASADO'].astype(float)"
   ]
  },
  {
   "cell_type": "code",
   "execution_count": 133,
   "id": "a08b7822",
   "metadata": {},
   "outputs": [
    {
     "data": {
      "text/plain": [
       "<AxesSubplot:>"
      ]
     },
     "execution_count": 133,
     "metadata": {},
     "output_type": "execute_result"
    },
    {
     "data": {
      "text/plain": [
       "Text(0.5, 0, 'Value')"
      ]
     },
     "execution_count": 133,
     "metadata": {},
     "output_type": "execute_result"
    },
    {
     "data": {
      "text/plain": [
       "Text(0, 0.5, 'Frequency')"
      ]
     },
     "execution_count": 133,
     "metadata": {},
     "output_type": "execute_result"
    },
    {
     "data": {
      "text/plain": [
       "Text(0.5, 1.0, 'Histogram of Column Values')"
      ]
     },
     "execution_count": 133,
     "metadata": {},
     "output_type": "execute_result"
    },
    {
     "data": {
      "text/plain": [
       "([<matplotlib.axis.XTick at 0x7fdd24c68ac0>,\n",
       "  <matplotlib.axis.XTick at 0x7fdd24c68a90>,\n",
       "  <matplotlib.axis.XTick at 0x7fdd24c68970>,\n",
       "  <matplotlib.axis.XTick at 0x7fdd24e1a460>,\n",
       "  <matplotlib.axis.XTick at 0x7fdd24e1acd0>,\n",
       "  <matplotlib.axis.XTick at 0x7fdd24e26070>,\n",
       "  <matplotlib.axis.XTick at 0x7fdd24e266a0>,\n",
       "  <matplotlib.axis.XTick at 0x7fdd24e26df0>,\n",
       "  <matplotlib.axis.XTick at 0x7fdd24e2b580>],\n",
       " [Text(0, 0, ''),\n",
       "  Text(0, 0, ''),\n",
       "  Text(0, 0, ''),\n",
       "  Text(0, 0, ''),\n",
       "  Text(0, 0, ''),\n",
       "  Text(0, 0, ''),\n",
       "  Text(0, 0, ''),\n",
       "  Text(0, 0, ''),\n",
       "  Text(0, 0, '')])"
      ]
     },
     "execution_count": 133,
     "metadata": {},
     "output_type": "execute_result"
    },
    {
     "data": {
      "image/png": "[encoded data removed]",
      "text/plain": [
       "<Figure size 640x480 with 1 Axes>"
      ]
     },
     "metadata": {},
     "output_type": "display_data"
    }
   ],
   "source": [
    "# Plot histogram of column values\n",
    "df['v235 - INGRESO EN DINERO TOTAL DEL HOGAR EL MES PASADO'].hist(bins=15, range=(0, 45000))\n",
    "\n",
    "plt.xlabel('Value')\n",
    "plt.ylabel('Frequency')\n",
    "plt.title('Histogram of Column Values')\n",
    "\n",
    "plt.xticks(range(0, 45000, 5000), rotation=45) \n",
    "\n",
    "plt.show()"
   ]
  },
  {
   "cell_type": "code",
   "execution_count": 134,
   "id": "0e6fa44a",
   "metadata": {},
   "outputs": [
    {
     "data": {
      "text/plain": [
       "22787   NaN\n",
       "22788   NaN\n",
       "22789   NaN\n",
       "22790   NaN\n",
       "22791   NaN\n",
       "22792   NaN\n",
       "22793   NaN\n",
       "22794   NaN\n",
       "22795   NaN\n",
       "22796   NaN\n",
       "22797   NaN\n",
       "22798   NaN\n",
       "22800   NaN\n",
       "22801   NaN\n",
       "22802   NaN\n",
       "22803   NaN\n",
       "22804   NaN\n",
       "22805   NaN\n",
       "22806   NaN\n",
       "22807   NaN\n",
       "22808   NaN\n",
       "22809   NaN\n",
       "22810   NaN\n",
       "22819   NaN\n",
       "22820   NaN\n",
       "22828   NaN\n",
       "22829   NaN\n",
       "22830   NaN\n",
       "22831   NaN\n",
       "22836   NaN\n",
       "Name: v235 - INGRESO EN DINERO TOTAL DEL HOGAR EL MES PASADO, dtype: float64"
      ]
     },
     "execution_count": 134,
     "metadata": {},
     "output_type": "execute_result"
    },
    {
     "name": "stdout",
     "output_type": "stream",
     "text": [
      "Number of NaN values: 10075\n"
     ]
    }
   ],
   "source": [
    "# sorted(valores[:])\n",
    "values = df['v235 - INGRESO EN DINERO TOTAL DEL HOGAR EL MES PASADO'].sort_values()\n",
    "values[-2300:-2270]\n",
    "print(\"Number of NaN values:\", df['v235 - INGRESO EN DINERO TOTAL DEL HOGAR EL MES PASADO'].isna().sum())"
   ]
  },
  {
   "cell_type": "code",
   "execution_count": 135,
   "id": "f1fe8308",
   "metadata": {},
   "outputs": [
    {
     "data": {
      "text/plain": [
       "'v236 - INGRESO EN DINERO TOTAL DEL HOGAR EL MES PASADO (SÓLO PARA QUIENES NS/NR)'"
      ]
     },
     "execution_count": 135,
     "metadata": {},
     "output_type": "execute_result"
    }
   ],
   "source": [
    "df.columns[199]\n",
    "df = df.drop(df.columns[199], axis=1)"
   ]
  },
  {
   "cell_type": "code",
   "execution_count": 136,
   "id": "4aaeb08d",
   "metadata": {},
   "outputs": [],
   "source": [
    "# df[df.columns[198:200]][0:100] # evaluar cuál conservar"
   ]
  },
  {
   "cell_type": "code",
   "execution_count": 137,
   "id": "c9c8d68d",
   "metadata": {},
   "outputs": [
    {
     "data": {
      "text/plain": [
       "Index(['v218 - INGRESOS DEL HOGAR: INGRESOS LABORALES',\n",
       "       'v219 - INGRESOS DEL HOGAR: PROGRAMAS DE EMPLEO',\n",
       "       'v220 - INGRESOS DEL HOGAR: JUBILACIÓN',\n",
       "       'v221 - INGRESOS DEL HOGARL ALGÚN OTRO TIPO DE PENSIÓN ESPECÍFICA',\n",
       "       'v222 - INGRESOS DEL HOGAR: INDEMNIZACIÓN POR DESPIDO',\n",
       "       'v223 - INGRESOS DEL HOGAR: SEGURO DE DESEMPLEO',\n",
       "       'v224 - INGRESOS DEL HOGAR: AUH',\n",
       "       'v225 - INGRESOS DEL HOGAR: SUBSIDIO O AYUDA SOCIAL EN DINERO',\n",
       "       'v226 - INGRESOS DEL HOGAR: ALQUILER DE UNA PROPIEDAD',\n",
       "       'v227 - INGRESOS DEL HOGAR: GANANCIA DE ALGÚN NEGOCIO QUE NO ES SU TRABAJO',\n",
       "       'v228 - INGRESOS DEL HOGAR: INTERÉS POR PLAZO FIJO O INVERSIÓN',\n",
       "       'v229 - INGRESOS DEL HOGAR: BECA DE ESTUDIOS',\n",
       "       'v230 - INGRESOS DEL HOGAR: CUOTA ALIMENTARIA',\n",
       "       'v231 - INGRESOS DEL HOGAR: AYUDA EN DINERO DE PERSONAS QUE NO VIVEN EN EL HOGAR',\n",
       "       'v232 - INGRESOS EN EFECTIVO POR LIMOSNAS, JUEGOS DE AZAR, LOTERÍA, ETC.',\n",
       "       'v233 - INGRESOS DEL HOGAR: INGRESOS EN EFECTIVO POR AYUDA DE LOS NIÑXS QUE PIDEN O HACE ALGUNA CHANGA O TRABAJO',\n",
       "       'v234 - CANTIDAD DE APORTANTES DE INGRESOS MONETARIOS QUE VIVEN EN ESTE HOGAR',\n",
       "       'v235 - INGRESO EN DINERO TOTAL DEL HOGAR EL MES PASADO',\n",
       "       'v235i - INGRESO EN DINERO TOTAL DEL HOGAR EL MES PASADO (IMPUTADO)',\n",
       "       'v235i_d - GRUPOS DECÍLICOS DE INGRESO EN DINERO TOTAL DEL HOGAR EL MES PASADO (IMPUTADO)',\n",
       "       'ITHPC - INGRESO TOTAL DEL HOGAR (IMPUTADO) PER CÁPITA',\n",
       "       'ITHPC_d - GRUPOS DECÍLICOS DE INGRESO TOTAL DEL HOGAR (IMPUTADO) PER CÀPITA',\n",
       "       'v237 - APRECIACIÓN SOBRE INGRESOS DEL HOGAR'],\n",
       "      dtype='object')"
      ]
     },
     "execution_count": 137,
     "metadata": {},
     "output_type": "execute_result"
    }
   ],
   "source": [
    "# INGRESOS DEL HOGAR\n",
    "df.columns[181:204]"
   ]
  },
  {
   "cell_type": "code",
   "execution_count": 138,
   "id": "f3195201",
   "metadata": {},
   "outputs": [
    {
     "data": {
      "text/plain": [
       "Index(['v213a - PERCPCIÓN DE INGRESOS EN OCUPACIÓN PRINCIPAL DEL MES PASADO',\n",
       "       'v213b - MONTO DE INGRESO NETO EN OCUPACIÓN PRINCIPAL DEL MES PASADO',\n",
       "       'v213bi - MONTO DE INGRESO NETO EN OCUPACIÓN PRINCIPAL DEL MES PASADO (IMPUTADO)',\n",
       "       'v214a - PERCEPCIÓN DE INGRESOS EN OTRAS OCUPACIONES DEL MES PASADO',\n",
       "       'v214b - MONTO DE INGRESO NETO EN OTRAS OCUPACIONES DEL MES PASADO',\n",
       "       'v214bi - MONTO DE INGRESO NETO EN OTRAS OCUPACIONES DEL MES PASADO (IMPUTADO)',\n",
       "       'ITLi - MONTO DE INGRESO TOTAL LABORAL',\n",
       "       'ITLi_d - GRUPO DECÍLICO DE MONTO DE INGRESO TOTAL LABORAL',\n",
       "       'v215a - PERCEPCIÓN DE INGRESOS POR JUBILACIONES O PENSIONES EL MES PASADO',\n",
       "       'v215b - MONTO DE INGRESO POR JUBILACIONES O PENSIONES EL MES PASADO',\n",
       "       'v215bi - MONTO DE INGRESO POR JUBILACIONES O PENSIONES EL MES PASADO (IMPUTADO)',\n",
       "       'v216a - PERCEPCIÓN DE INGRESOS POR PENSIONES SOCIALES, AHU U OTROS PLANES SOCIALES EL MES PASADO',\n",
       "       'v216b - MONTO DE INGRESO POR PENSIONES SOCIALES, AHU U OTROS PLANES SOCIALES EL MES PASADO',\n",
       "       'v216bi - MONTO DE INGRESO POR PENSIONES SOCIALES, AHU U OTRO PLANES SOCIALES EL MES PASADO (IMPUTADO)',\n",
       "       'v217a - PERCEPCIÓN DE OTROS INGRESOS EL MES PASADO',\n",
       "       'v217b - MONTO DE INGRESOS EL MES PASADO',\n",
       "       'v217bi - MONTO DE OTROS INGRESOS EL MES PASADO (IMPUTADO)', 'ITI',\n",
       "       'ITI_d - GRUPO DECÍLICO DE MONTO DE INGRESO TOTAL INDIVIDUAL'],\n",
       "      dtype='object')"
      ]
     },
     "execution_count": 138,
     "metadata": {},
     "output_type": "execute_result"
    }
   ],
   "source": [
    "# INGRESO DE LAS PERSONAS\n",
    "df.columns[390:]"
   ]
  },
  {
   "cell_type": "code",
   "execution_count": 139,
   "id": "5a7a584f",
   "metadata": {},
   "outputs": [
    {
     "data": {
      "text/plain": [
       "Index(['v213a - PERCPCIÓN DE INGRESOS EN OCUPACIÓN PRINCIPAL DEL MES PASADO',\n",
       "       'v213b - MONTO DE INGRESO NETO EN OCUPACIÓN PRINCIPAL DEL MES PASADO',\n",
       "       'v213bi - MONTO DE INGRESO NETO EN OCUPACIÓN PRINCIPAL DEL MES PASADO (IMPUTADO)',\n",
       "       'v214a - PERCEPCIÓN DE INGRESOS EN OTRAS OCUPACIONES DEL MES PASADO'],\n",
       "      dtype='object')"
      ]
     },
     "execution_count": 139,
     "metadata": {},
     "output_type": "execute_result"
    },
    {
     "data": {
      "text/plain": [
       "10896"
      ]
     },
     "execution_count": 139,
     "metadata": {},
     "output_type": "execute_result"
    },
    {
     "data": {
      "text/plain": [
       "7922"
      ]
     },
     "execution_count": 139,
     "metadata": {},
     "output_type": "execute_result"
    },
    {
     "data": {
      "text/plain": [
       "26371"
      ]
     },
     "execution_count": 139,
     "metadata": {},
     "output_type": "execute_result"
    }
   ],
   "source": [
    "df.columns[390:394]\n",
    "df['v213a - PERCPCIÓN DE INGRESOS EN OCUPACIÓN PRINCIPAL DEL MES PASADO'].count()\n",
    "df['v213b - MONTO DE INGRESO NETO EN OCUPACIÓN PRINCIPAL DEL MES PASADO'].count()\n",
    "df['v213bi - MONTO DE INGRESO NETO EN OCUPACIÓN PRINCIPAL DEL MES PASADO (IMPUTADO)'].count()\n",
    "filtered = df[df['v213a - PERCPCIÓN DE INGRESOS EN OCUPACIÓN PRINCIPAL DEL MES PASADO'].notna() & df['v213b - MONTO DE INGRESO NETO EN OCUPACIÓN PRINCIPAL DEL MES PASADO'].isna()]\n",
    "filtered = filtered[['v213a - PERCPCIÓN DE INGRESOS EN OCUPACIÓN PRINCIPAL DEL MES PASADO', 'v213b - MONTO DE INGRESO NETO EN OCUPACIÓN PRINCIPAL DEL MES PASADO', 'v213bi - MONTO DE INGRESO NETO EN OCUPACIÓN PRINCIPAL DEL MES PASADO (IMPUTADO)']]\n",
    "# filtered.head(50)"
   ]
  },
  {
   "cell_type": "code",
   "execution_count": 140,
   "id": "9feed85c",
   "metadata": {},
   "outputs": [
    {
     "data": {
      "text/html": [
       "<div>\n",
       "<style scoped>\n",
       "    .dataframe tbody tr th:only-of-type {\n",
       "        vertical-align: middle;\n",
       "    }\n",
       "\n",
       "    .dataframe tbody tr th {\n",
       "        vertical-align: top;\n",
       "    }\n",
       "\n",
       "    .dataframe thead th {\n",
       "        text-align: right;\n",
       "    }\n",
       "</style>\n",
       "<table border=\"1\" class=\"dataframe\">\n",
       "  <thead>\n",
       "    <tr style=\"text-align: right;\">\n",
       "      <th></th>\n",
       "      <th>v218 - INGRESOS DEL HOGAR: INGRESOS LABORALES</th>\n",
       "      <th>v219 - INGRESOS DEL HOGAR: PROGRAMAS DE EMPLEO</th>\n",
       "      <th>v220 - INGRESOS DEL HOGAR: JUBILACIÓN</th>\n",
       "      <th>v221 - INGRESOS DEL HOGARL ALGÚN OTRO TIPO DE PENSIÓN ESPECÍFICA</th>\n",
       "      <th>v222 - INGRESOS DEL HOGAR: INDEMNIZACIÓN POR DESPIDO</th>\n",
       "      <th>v223 - INGRESOS DEL HOGAR: SEGURO DE DESEMPLEO</th>\n",
       "      <th>v224 - INGRESOS DEL HOGAR: AUH</th>\n",
       "      <th>v225 - INGRESOS DEL HOGAR: SUBSIDIO O AYUDA SOCIAL EN DINERO</th>\n",
       "      <th>v226 - INGRESOS DEL HOGAR: ALQUILER DE UNA PROPIEDAD</th>\n",
       "      <th>v227 - INGRESOS DEL HOGAR: GANANCIA DE ALGÚN NEGOCIO QUE NO ES SU TRABAJO</th>\n",
       "      <th>v228 - INGRESOS DEL HOGAR: INTERÉS POR PLAZO FIJO O INVERSIÓN</th>\n",
       "      <th>v229 - INGRESOS DEL HOGAR: BECA DE ESTUDIOS</th>\n",
       "      <th>v230 - INGRESOS DEL HOGAR: CUOTA ALIMENTARIA</th>\n",
       "      <th>v231 - INGRESOS DEL HOGAR: AYUDA EN DINERO DE PERSONAS QUE NO VIVEN EN EL HOGAR</th>\n",
       "      <th>v232 - INGRESOS EN EFECTIVO POR LIMOSNAS, JUEGOS DE AZAR, LOTERÍA, ETC.</th>\n",
       "      <th>v233 - INGRESOS DEL HOGAR: INGRESOS EN EFECTIVO POR AYUDA DE LOS NIÑXS QUE PIDEN O HACE ALGUNA CHANGA O TRABAJO</th>\n",
       "      <th>v234 - CANTIDAD DE APORTANTES DE INGRESOS MONETARIOS QUE VIVEN EN ESTE HOGAR</th>\n",
       "      <th>v235 - INGRESO EN DINERO TOTAL DEL HOGAR EL MES PASADO</th>\n",
       "      <th>v235i - INGRESO EN DINERO TOTAL DEL HOGAR EL MES PASADO (IMPUTADO)</th>\n",
       "      <th>v235i_d - GRUPOS DECÍLICOS DE INGRESO EN DINERO TOTAL DEL HOGAR EL MES PASADO (IMPUTADO)</th>\n",
       "      <th>ITHPC - INGRESO TOTAL DEL HOGAR (IMPUTADO) PER CÁPITA</th>\n",
       "      <th>ITHPC_d - GRUPOS DECÍLICOS DE INGRESO TOTAL DEL HOGAR (IMPUTADO) PER CÀPITA</th>\n",
       "      <th>v213a - PERCPCIÓN DE INGRESOS EN OCUPACIÓN PRINCIPAL DEL MES PASADO</th>\n",
       "      <th>v213b - MONTO DE INGRESO NETO EN OCUPACIÓN PRINCIPAL DEL MES PASADO</th>\n",
       "      <th>v213bi - MONTO DE INGRESO NETO EN OCUPACIÓN PRINCIPAL DEL MES PASADO (IMPUTADO)</th>\n",
       "      <th>v214a - PERCEPCIÓN DE INGRESOS EN OTRAS OCUPACIONES DEL MES PASADO</th>\n",
       "      <th>v214b - MONTO DE INGRESO NETO EN OTRAS OCUPACIONES DEL MES PASADO</th>\n",
       "      <th>v214bi - MONTO DE INGRESO NETO EN OTRAS OCUPACIONES DEL MES PASADO (IMPUTADO)</th>\n",
       "      <th>ITLi - MONTO DE INGRESO TOTAL LABORAL</th>\n",
       "      <th>ITLi_d - GRUPO DECÍLICO DE MONTO DE INGRESO TOTAL LABORAL</th>\n",
       "      <th>v215a - PERCEPCIÓN DE INGRESOS POR JUBILACIONES O PENSIONES EL MES PASADO</th>\n",
       "      <th>v215b - MONTO DE INGRESO POR JUBILACIONES O PENSIONES EL MES PASADO</th>\n",
       "      <th>v215bi - MONTO DE INGRESO POR JUBILACIONES O PENSIONES EL MES PASADO (IMPUTADO)</th>\n",
       "      <th>v216a - PERCEPCIÓN DE INGRESOS POR PENSIONES SOCIALES, AHU U OTROS PLANES SOCIALES EL MES PASADO</th>\n",
       "      <th>v216b - MONTO DE INGRESO POR PENSIONES SOCIALES, AHU U OTROS PLANES SOCIALES EL MES PASADO</th>\n",
       "      <th>v216bi - MONTO DE INGRESO POR PENSIONES SOCIALES, AHU U OTRO PLANES SOCIALES EL MES PASADO (IMPUTADO)</th>\n",
       "      <th>v217a - PERCEPCIÓN DE OTROS INGRESOS EL MES PASADO</th>\n",
       "      <th>v217b - MONTO DE INGRESOS EL MES PASADO</th>\n",
       "      <th>v217bi - MONTO DE OTROS INGRESOS EL MES PASADO (IMPUTADO)</th>\n",
       "      <th>ITI</th>\n",
       "      <th>ITI_d - GRUPO DECÍLICO DE MONTO DE INGRESO TOTAL INDIVIDUAL</th>\n",
       "    </tr>\n",
       "  </thead>\n",
       "  <tbody>\n",
       "    <tr>\n",
       "      <th>0</th>\n",
       "      <td>1.0</td>\n",
       "      <td>2.0</td>\n",
       "      <td>2.0</td>\n",
       "      <td>2.0</td>\n",
       "      <td>2.0</td>\n",
       "      <td>2.0</td>\n",
       "      <td>2.0</td>\n",
       "      <td>2.0</td>\n",
       "      <td>2.0</td>\n",
       "      <td>2.0</td>\n",
       "      <td>2.0</td>\n",
       "      <td>2.0</td>\n",
       "      <td>2.0</td>\n",
       "      <td>2.0</td>\n",
       "      <td>2.0</td>\n",
       "      <td>2.0</td>\n",
       "      <td>2.0</td>\n",
       "      <td>8500.0</td>\n",
       "      <td>8500.0</td>\n",
       "      <td>4.0</td>\n",
       "      <td>1700.000000</td>\n",
       "      <td>2.0</td>\n",
       "      <td>1.0</td>\n",
       "      <td>4500.0</td>\n",
       "      <td>4500.0</td>\n",
       "      <td>0.0</td>\n",
       "      <td>NaN</td>\n",
       "      <td>0.0</td>\n",
       "      <td>4500.0</td>\n",
       "      <td>5.0</td>\n",
       "      <td>0.0</td>\n",
       "      <td>NaN</td>\n",
       "      <td>0.0</td>\n",
       "      <td>0.0</td>\n",
       "      <td>NaN</td>\n",
       "      <td>0.0</td>\n",
       "      <td>0.0</td>\n",
       "      <td>NaN</td>\n",
       "      <td>0.0</td>\n",
       "      <td>4500.0</td>\n",
       "      <td>6.0</td>\n",
       "    </tr>\n",
       "    <tr>\n",
       "      <th>1</th>\n",
       "      <td>1.0</td>\n",
       "      <td>2.0</td>\n",
       "      <td>2.0</td>\n",
       "      <td>2.0</td>\n",
       "      <td>2.0</td>\n",
       "      <td>2.0</td>\n",
       "      <td>2.0</td>\n",
       "      <td>2.0</td>\n",
       "      <td>2.0</td>\n",
       "      <td>2.0</td>\n",
       "      <td>2.0</td>\n",
       "      <td>2.0</td>\n",
       "      <td>2.0</td>\n",
       "      <td>2.0</td>\n",
       "      <td>2.0</td>\n",
       "      <td>2.0</td>\n",
       "      <td>2.0</td>\n",
       "      <td>8500.0</td>\n",
       "      <td>8500.0</td>\n",
       "      <td>4.0</td>\n",
       "      <td>1700.000000</td>\n",
       "      <td>2.0</td>\n",
       "      <td>1.0</td>\n",
       "      <td>4000.0</td>\n",
       "      <td>4000.0</td>\n",
       "      <td>0.0</td>\n",
       "      <td>NaN</td>\n",
       "      <td>0.0</td>\n",
       "      <td>4000.0</td>\n",
       "      <td>4.0</td>\n",
       "      <td>0.0</td>\n",
       "      <td>NaN</td>\n",
       "      <td>0.0</td>\n",
       "      <td>0.0</td>\n",
       "      <td>NaN</td>\n",
       "      <td>0.0</td>\n",
       "      <td>0.0</td>\n",
       "      <td>NaN</td>\n",
       "      <td>0.0</td>\n",
       "      <td>4000.0</td>\n",
       "      <td>5.0</td>\n",
       "    </tr>\n",
       "    <tr>\n",
       "      <th>2</th>\n",
       "      <td>1.0</td>\n",
       "      <td>2.0</td>\n",
       "      <td>2.0</td>\n",
       "      <td>2.0</td>\n",
       "      <td>2.0</td>\n",
       "      <td>2.0</td>\n",
       "      <td>2.0</td>\n",
       "      <td>2.0</td>\n",
       "      <td>2.0</td>\n",
       "      <td>2.0</td>\n",
       "      <td>2.0</td>\n",
       "      <td>2.0</td>\n",
       "      <td>2.0</td>\n",
       "      <td>2.0</td>\n",
       "      <td>2.0</td>\n",
       "      <td>2.0</td>\n",
       "      <td>2.0</td>\n",
       "      <td>8500.0</td>\n",
       "      <td>8500.0</td>\n",
       "      <td>4.0</td>\n",
       "      <td>1700.000000</td>\n",
       "      <td>2.0</td>\n",
       "      <td>NaN</td>\n",
       "      <td>NaN</td>\n",
       "      <td>0.0</td>\n",
       "      <td>NaN</td>\n",
       "      <td>NaN</td>\n",
       "      <td>0.0</td>\n",
       "      <td>NaN</td>\n",
       "      <td>NaN</td>\n",
       "      <td>0.0</td>\n",
       "      <td>NaN</td>\n",
       "      <td>0.0</td>\n",
       "      <td>0.0</td>\n",
       "      <td>NaN</td>\n",
       "      <td>0.0</td>\n",
       "      <td>0.0</td>\n",
       "      <td>NaN</td>\n",
       "      <td>0.0</td>\n",
       "      <td>NaN</td>\n",
       "      <td>NaN</td>\n",
       "    </tr>\n",
       "    <tr>\n",
       "      <th>3</th>\n",
       "      <td>1.0</td>\n",
       "      <td>2.0</td>\n",
       "      <td>2.0</td>\n",
       "      <td>2.0</td>\n",
       "      <td>2.0</td>\n",
       "      <td>2.0</td>\n",
       "      <td>2.0</td>\n",
       "      <td>2.0</td>\n",
       "      <td>2.0</td>\n",
       "      <td>2.0</td>\n",
       "      <td>2.0</td>\n",
       "      <td>2.0</td>\n",
       "      <td>2.0</td>\n",
       "      <td>2.0</td>\n",
       "      <td>2.0</td>\n",
       "      <td>2.0</td>\n",
       "      <td>2.0</td>\n",
       "      <td>8500.0</td>\n",
       "      <td>8500.0</td>\n",
       "      <td>4.0</td>\n",
       "      <td>1700.000000</td>\n",
       "      <td>2.0</td>\n",
       "      <td>NaN</td>\n",
       "      <td>NaN</td>\n",
       "      <td>0.0</td>\n",
       "      <td>NaN</td>\n",
       "      <td>NaN</td>\n",
       "      <td>0.0</td>\n",
       "      <td>NaN</td>\n",
       "      <td>NaN</td>\n",
       "      <td>0.0</td>\n",
       "      <td>NaN</td>\n",
       "      <td>0.0</td>\n",
       "      <td>0.0</td>\n",
       "      <td>NaN</td>\n",
       "      <td>0.0</td>\n",
       "      <td>0.0</td>\n",
       "      <td>NaN</td>\n",
       "      <td>0.0</td>\n",
       "      <td>NaN</td>\n",
       "      <td>NaN</td>\n",
       "    </tr>\n",
       "    <tr>\n",
       "      <th>4</th>\n",
       "      <td>1.0</td>\n",
       "      <td>2.0</td>\n",
       "      <td>2.0</td>\n",
       "      <td>2.0</td>\n",
       "      <td>2.0</td>\n",
       "      <td>2.0</td>\n",
       "      <td>2.0</td>\n",
       "      <td>2.0</td>\n",
       "      <td>2.0</td>\n",
       "      <td>2.0</td>\n",
       "      <td>2.0</td>\n",
       "      <td>2.0</td>\n",
       "      <td>2.0</td>\n",
       "      <td>2.0</td>\n",
       "      <td>2.0</td>\n",
       "      <td>2.0</td>\n",
       "      <td>2.0</td>\n",
       "      <td>8500.0</td>\n",
       "      <td>8500.0</td>\n",
       "      <td>4.0</td>\n",
       "      <td>1700.000000</td>\n",
       "      <td>2.0</td>\n",
       "      <td>NaN</td>\n",
       "      <td>NaN</td>\n",
       "      <td>0.0</td>\n",
       "      <td>NaN</td>\n",
       "      <td>NaN</td>\n",
       "      <td>0.0</td>\n",
       "      <td>NaN</td>\n",
       "      <td>NaN</td>\n",
       "      <td>0.0</td>\n",
       "      <td>NaN</td>\n",
       "      <td>0.0</td>\n",
       "      <td>0.0</td>\n",
       "      <td>NaN</td>\n",
       "      <td>0.0</td>\n",
       "      <td>0.0</td>\n",
       "      <td>NaN</td>\n",
       "      <td>0.0</td>\n",
       "      <td>NaN</td>\n",
       "      <td>NaN</td>\n",
       "    </tr>\n",
       "    <tr>\n",
       "      <th>...</th>\n",
       "      <td>...</td>\n",
       "      <td>...</td>\n",
       "      <td>...</td>\n",
       "      <td>...</td>\n",
       "      <td>...</td>\n",
       "      <td>...</td>\n",
       "      <td>...</td>\n",
       "      <td>...</td>\n",
       "      <td>...</td>\n",
       "      <td>...</td>\n",
       "      <td>...</td>\n",
       "      <td>...</td>\n",
       "      <td>...</td>\n",
       "      <td>...</td>\n",
       "      <td>...</td>\n",
       "      <td>...</td>\n",
       "      <td>...</td>\n",
       "      <td>...</td>\n",
       "      <td>...</td>\n",
       "      <td>...</td>\n",
       "      <td>...</td>\n",
       "      <td>...</td>\n",
       "      <td>...</td>\n",
       "      <td>...</td>\n",
       "      <td>...</td>\n",
       "      <td>...</td>\n",
       "      <td>...</td>\n",
       "      <td>...</td>\n",
       "      <td>...</td>\n",
       "      <td>...</td>\n",
       "      <td>...</td>\n",
       "      <td>...</td>\n",
       "      <td>...</td>\n",
       "      <td>...</td>\n",
       "      <td>...</td>\n",
       "      <td>...</td>\n",
       "      <td>...</td>\n",
       "      <td>...</td>\n",
       "      <td>...</td>\n",
       "      <td>...</td>\n",
       "      <td>...</td>\n",
       "    </tr>\n",
       "    <tr>\n",
       "      <th>27615</th>\n",
       "      <td>1.0</td>\n",
       "      <td>2.0</td>\n",
       "      <td>2.0</td>\n",
       "      <td>2.0</td>\n",
       "      <td>2.0</td>\n",
       "      <td>2.0</td>\n",
       "      <td>2.0</td>\n",
       "      <td>2.0</td>\n",
       "      <td>2.0</td>\n",
       "      <td>2.0</td>\n",
       "      <td>2.0</td>\n",
       "      <td>2.0</td>\n",
       "      <td>2.0</td>\n",
       "      <td>2.0</td>\n",
       "      <td>2.0</td>\n",
       "      <td>2.0</td>\n",
       "      <td>2.0</td>\n",
       "      <td>33804.0</td>\n",
       "      <td>37185.0</td>\n",
       "      <td>10.0</td>\n",
       "      <td>5312.142857</td>\n",
       "      <td>7.0</td>\n",
       "      <td>NaN</td>\n",
       "      <td>NaN</td>\n",
       "      <td>0.0</td>\n",
       "      <td>NaN</td>\n",
       "      <td>NaN</td>\n",
       "      <td>0.0</td>\n",
       "      <td>NaN</td>\n",
       "      <td>NaN</td>\n",
       "      <td>0.0</td>\n",
       "      <td>NaN</td>\n",
       "      <td>0.0</td>\n",
       "      <td>0.0</td>\n",
       "      <td>NaN</td>\n",
       "      <td>0.0</td>\n",
       "      <td>0.0</td>\n",
       "      <td>NaN</td>\n",
       "      <td>0.0</td>\n",
       "      <td>NaN</td>\n",
       "      <td>NaN</td>\n",
       "    </tr>\n",
       "    <tr>\n",
       "      <th>27616</th>\n",
       "      <td>1.0</td>\n",
       "      <td>2.0</td>\n",
       "      <td>2.0</td>\n",
       "      <td>2.0</td>\n",
       "      <td>2.0</td>\n",
       "      <td>2.0</td>\n",
       "      <td>2.0</td>\n",
       "      <td>2.0</td>\n",
       "      <td>2.0</td>\n",
       "      <td>2.0</td>\n",
       "      <td>2.0</td>\n",
       "      <td>2.0</td>\n",
       "      <td>2.0</td>\n",
       "      <td>2.0</td>\n",
       "      <td>2.0</td>\n",
       "      <td>2.0</td>\n",
       "      <td>2.0</td>\n",
       "      <td>33804.0</td>\n",
       "      <td>37185.0</td>\n",
       "      <td>10.0</td>\n",
       "      <td>5312.142857</td>\n",
       "      <td>7.0</td>\n",
       "      <td>NaN</td>\n",
       "      <td>NaN</td>\n",
       "      <td>0.0</td>\n",
       "      <td>NaN</td>\n",
       "      <td>NaN</td>\n",
       "      <td>0.0</td>\n",
       "      <td>NaN</td>\n",
       "      <td>NaN</td>\n",
       "      <td>0.0</td>\n",
       "      <td>NaN</td>\n",
       "      <td>0.0</td>\n",
       "      <td>0.0</td>\n",
       "      <td>NaN</td>\n",
       "      <td>0.0</td>\n",
       "      <td>0.0</td>\n",
       "      <td>NaN</td>\n",
       "      <td>0.0</td>\n",
       "      <td>NaN</td>\n",
       "      <td>NaN</td>\n",
       "    </tr>\n",
       "    <tr>\n",
       "      <th>27617</th>\n",
       "      <td>1.0</td>\n",
       "      <td>2.0</td>\n",
       "      <td>2.0</td>\n",
       "      <td>2.0</td>\n",
       "      <td>2.0</td>\n",
       "      <td>2.0</td>\n",
       "      <td>2.0</td>\n",
       "      <td>2.0</td>\n",
       "      <td>2.0</td>\n",
       "      <td>2.0</td>\n",
       "      <td>2.0</td>\n",
       "      <td>2.0</td>\n",
       "      <td>2.0</td>\n",
       "      <td>2.0</td>\n",
       "      <td>2.0</td>\n",
       "      <td>2.0</td>\n",
       "      <td>2.0</td>\n",
       "      <td>33804.0</td>\n",
       "      <td>37185.0</td>\n",
       "      <td>10.0</td>\n",
       "      <td>5312.142857</td>\n",
       "      <td>7.0</td>\n",
       "      <td>NaN</td>\n",
       "      <td>NaN</td>\n",
       "      <td>0.0</td>\n",
       "      <td>NaN</td>\n",
       "      <td>NaN</td>\n",
       "      <td>0.0</td>\n",
       "      <td>NaN</td>\n",
       "      <td>NaN</td>\n",
       "      <td>0.0</td>\n",
       "      <td>NaN</td>\n",
       "      <td>0.0</td>\n",
       "      <td>0.0</td>\n",
       "      <td>NaN</td>\n",
       "      <td>0.0</td>\n",
       "      <td>0.0</td>\n",
       "      <td>NaN</td>\n",
       "      <td>0.0</td>\n",
       "      <td>NaN</td>\n",
       "      <td>NaN</td>\n",
       "    </tr>\n",
       "    <tr>\n",
       "      <th>27618</th>\n",
       "      <td>1.0</td>\n",
       "      <td>2.0</td>\n",
       "      <td>2.0</td>\n",
       "      <td>2.0</td>\n",
       "      <td>2.0</td>\n",
       "      <td>2.0</td>\n",
       "      <td>2.0</td>\n",
       "      <td>2.0</td>\n",
       "      <td>2.0</td>\n",
       "      <td>2.0</td>\n",
       "      <td>2.0</td>\n",
       "      <td>2.0</td>\n",
       "      <td>2.0</td>\n",
       "      <td>2.0</td>\n",
       "      <td>2.0</td>\n",
       "      <td>2.0</td>\n",
       "      <td>2.0</td>\n",
       "      <td>33804.0</td>\n",
       "      <td>37185.0</td>\n",
       "      <td>10.0</td>\n",
       "      <td>5312.142857</td>\n",
       "      <td>7.0</td>\n",
       "      <td>NaN</td>\n",
       "      <td>NaN</td>\n",
       "      <td>0.0</td>\n",
       "      <td>NaN</td>\n",
       "      <td>NaN</td>\n",
       "      <td>0.0</td>\n",
       "      <td>NaN</td>\n",
       "      <td>NaN</td>\n",
       "      <td>0.0</td>\n",
       "      <td>NaN</td>\n",
       "      <td>0.0</td>\n",
       "      <td>0.0</td>\n",
       "      <td>NaN</td>\n",
       "      <td>0.0</td>\n",
       "      <td>0.0</td>\n",
       "      <td>NaN</td>\n",
       "      <td>0.0</td>\n",
       "      <td>NaN</td>\n",
       "      <td>NaN</td>\n",
       "    </tr>\n",
       "    <tr>\n",
       "      <th>27619</th>\n",
       "      <td>1.0</td>\n",
       "      <td>2.0</td>\n",
       "      <td>2.0</td>\n",
       "      <td>2.0</td>\n",
       "      <td>2.0</td>\n",
       "      <td>2.0</td>\n",
       "      <td>2.0</td>\n",
       "      <td>2.0</td>\n",
       "      <td>2.0</td>\n",
       "      <td>2.0</td>\n",
       "      <td>2.0</td>\n",
       "      <td>2.0</td>\n",
       "      <td>2.0</td>\n",
       "      <td>2.0</td>\n",
       "      <td>2.0</td>\n",
       "      <td>2.0</td>\n",
       "      <td>2.0</td>\n",
       "      <td>33804.0</td>\n",
       "      <td>37185.0</td>\n",
       "      <td>10.0</td>\n",
       "      <td>5312.142857</td>\n",
       "      <td>7.0</td>\n",
       "      <td>NaN</td>\n",
       "      <td>NaN</td>\n",
       "      <td>0.0</td>\n",
       "      <td>NaN</td>\n",
       "      <td>NaN</td>\n",
       "      <td>0.0</td>\n",
       "      <td>NaN</td>\n",
       "      <td>NaN</td>\n",
       "      <td>0.0</td>\n",
       "      <td>NaN</td>\n",
       "      <td>0.0</td>\n",
       "      <td>0.0</td>\n",
       "      <td>NaN</td>\n",
       "      <td>0.0</td>\n",
       "      <td>0.0</td>\n",
       "      <td>NaN</td>\n",
       "      <td>0.0</td>\n",
       "      <td>NaN</td>\n",
       "      <td>NaN</td>\n",
       "    </tr>\n",
       "  </tbody>\n",
       "</table>\n",
       "<p>27620 rows × 41 columns</p>\n",
       "</div>"
      ],
      "text/plain": [
       "       v218 - INGRESOS DEL HOGAR: INGRESOS LABORALES  \\\n",
       "0                                                1.0   \n",
       "1                                                1.0   \n",
       "2                                                1.0   \n",
       "3                                                1.0   \n",
       "4                                                1.0   \n",
       "...                                              ...   \n",
       "27615                                            1.0   \n",
       "27616                                            1.0   \n",
       "27617                                            1.0   \n",
       "27618                                            1.0   \n",
       "27619                                            1.0   \n",
       "\n",
       "       v219 - INGRESOS DEL HOGAR: PROGRAMAS DE EMPLEO  \\\n",
       "0                                                 2.0   \n",
       "1                                                 2.0   \n",
       "2                                                 2.0   \n",
       "3                                                 2.0   \n",
       "4                                                 2.0   \n",
       "...                                               ...   \n",
       "27615                                             2.0   \n",
       "27616                                             2.0   \n",
       "27617                                             2.0   \n",
       "27618                                             2.0   \n",
       "27619                                             2.0   \n",
       "\n",
       "       v220 - INGRESOS DEL HOGAR: JUBILACIÓN  \\\n",
       "0                                        2.0   \n",
       "1                                        2.0   \n",
       "2                                        2.0   \n",
       "3                                        2.0   \n",
       "4                                        2.0   \n",
       "...                                      ...   \n",
       "27615                                    2.0   \n",
       "27616                                    2.0   \n",
       "27617                                    2.0   \n",
       "27618                                    2.0   \n",
       "27619                                    2.0   \n",
       "\n",
       "       v221 - INGRESOS DEL HOGARL ALGÚN OTRO TIPO DE PENSIÓN ESPECÍFICA  \\\n",
       "0                                                    2.0                  \n",
       "1                                                    2.0                  \n",
       "2                                                    2.0                  \n",
       "3                                                    2.0                  \n",
       "4                                                    2.0                  \n",
       "...                                                  ...                  \n",
       "27615                                                2.0                  \n",
       "27616                                                2.0                  \n",
       "27617                                                2.0                  \n",
       "27618                                                2.0                  \n",
       "27619                                                2.0                  \n",
       "\n",
       "       v222 - INGRESOS DEL HOGAR: INDEMNIZACIÓN POR DESPIDO  \\\n",
       "0                                                    2.0      \n",
       "1                                                    2.0      \n",
       "2                                                    2.0      \n",
       "3                                                    2.0      \n",
       "4                                                    2.0      \n",
       "...                                                  ...      \n",
       "27615                                                2.0      \n",
       "27616                                                2.0      \n",
       "27617                                                2.0      \n",
       "27618                                                2.0      \n",
       "27619                                                2.0      \n",
       "\n",
       "       v223 - INGRESOS DEL HOGAR: SEGURO DE DESEMPLEO  \\\n",
       "0                                                 2.0   \n",
       "1                                                 2.0   \n",
       "2                                                 2.0   \n",
       "3                                                 2.0   \n",
       "4                                                 2.0   \n",
       "...                                               ...   \n",
       "27615                                             2.0   \n",
       "27616                                             2.0   \n",
       "27617                                             2.0   \n",
       "27618                                             2.0   \n",
       "27619                                             2.0   \n",
       "\n",
       "       v224 - INGRESOS DEL HOGAR: AUH  \\\n",
       "0                                 2.0   \n",
       "1                                 2.0   \n",
       "2                                 2.0   \n",
       "3                                 2.0   \n",
       "4                                 2.0   \n",
       "...                               ...   \n",
       "27615                             2.0   \n",
       "27616                             2.0   \n",
       "27617                             2.0   \n",
       "27618                             2.0   \n",
       "27619                             2.0   \n",
       "\n",
       "       v225 - INGRESOS DEL HOGAR: SUBSIDIO O AYUDA SOCIAL EN DINERO  \\\n",
       "0                                                    2.0              \n",
       "1                                                    2.0              \n",
       "2                                                    2.0              \n",
       "3                                                    2.0              \n",
       "4                                                    2.0              \n",
       "...                                                  ...              \n",
       "27615                                                2.0              \n",
       "27616                                                2.0              \n",
       "27617                                                2.0              \n",
       "27618                                                2.0              \n",
       "27619                                                2.0              \n",
       "\n",
       "       v226 - INGRESOS DEL HOGAR: ALQUILER DE UNA PROPIEDAD  \\\n",
       "0                                                    2.0      \n",
       "1                                                    2.0      \n",
       "2                                                    2.0      \n",
       "3                                                    2.0      \n",
       "4                                                    2.0      \n",
       "...                                                  ...      \n",
       "27615                                                2.0      \n",
       "27616                                                2.0      \n",
       "27617                                                2.0      \n",
       "27618                                                2.0      \n",
       "27619                                                2.0      \n",
       "\n",
       "       v227 - INGRESOS DEL HOGAR: GANANCIA DE ALGÚN NEGOCIO QUE NO ES SU TRABAJO  \\\n",
       "0                                                    2.0                           \n",
       "1                                                    2.0                           \n",
       "2                                                    2.0                           \n",
       "3                                                    2.0                           \n",
       "4                                                    2.0                           \n",
       "...                                                  ...                           \n",
       "27615                                                2.0                           \n",
       "27616                                                2.0                           \n",
       "27617                                                2.0                           \n",
       "27618                                                2.0                           \n",
       "27619                                                2.0                           \n",
       "\n",
       "       v228 - INGRESOS DEL HOGAR: INTERÉS POR PLAZO FIJO O INVERSIÓN  \\\n",
       "0                                                    2.0               \n",
       "1                                                    2.0               \n",
       "2                                                    2.0               \n",
       "3                                                    2.0               \n",
       "4                                                    2.0               \n",
       "...                                                  ...               \n",
       "27615                                                2.0               \n",
       "27616                                                2.0               \n",
       "27617                                                2.0               \n",
       "27618                                                2.0               \n",
       "27619                                                2.0               \n",
       "\n",
       "       v229 - INGRESOS DEL HOGAR: BECA DE ESTUDIOS  \\\n",
       "0                                              2.0   \n",
       "1                                              2.0   \n",
       "2                                              2.0   \n",
       "3                                              2.0   \n",
       "4                                              2.0   \n",
       "...                                            ...   \n",
       "27615                                          2.0   \n",
       "27616                                          2.0   \n",
       "27617                                          2.0   \n",
       "27618                                          2.0   \n",
       "27619                                          2.0   \n",
       "\n",
       "       v230 - INGRESOS DEL HOGAR: CUOTA ALIMENTARIA  \\\n",
       "0                                               2.0   \n",
       "1                                               2.0   \n",
       "2                                               2.0   \n",
       "3                                               2.0   \n",
       "4                                               2.0   \n",
       "...                                             ...   \n",
       "27615                                           2.0   \n",
       "27616                                           2.0   \n",
       "27617                                           2.0   \n",
       "27618                                           2.0   \n",
       "27619                                           2.0   \n",
       "\n",
       "       v231 - INGRESOS DEL HOGAR: AYUDA EN DINERO DE PERSONAS QUE NO VIVEN EN EL HOGAR  \\\n",
       "0                                                    2.0                                 \n",
       "1                                                    2.0                                 \n",
       "2                                                    2.0                                 \n",
       "3                                                    2.0                                 \n",
       "4                                                    2.0                                 \n",
       "...                                                  ...                                 \n",
       "27615                                                2.0                                 \n",
       "27616                                                2.0                                 \n",
       "27617                                                2.0                                 \n",
       "27618                                                2.0                                 \n",
       "27619                                                2.0                                 \n",
       "\n",
       "       v232 - INGRESOS EN EFECTIVO POR LIMOSNAS, JUEGOS DE AZAR, LOTERÍA, ETC.  \\\n",
       "0                                                    2.0                         \n",
       "1                                                    2.0                         \n",
       "2                                                    2.0                         \n",
       "3                                                    2.0                         \n",
       "4                                                    2.0                         \n",
       "...                                                  ...                         \n",
       "27615                                                2.0                         \n",
       "27616                                                2.0                         \n",
       "27617                                                2.0                         \n",
       "27618                                                2.0                         \n",
       "27619                                                2.0                         \n",
       "\n",
       "       v233 - INGRESOS DEL HOGAR: INGRESOS EN EFECTIVO POR AYUDA DE LOS NIÑXS QUE PIDEN O HACE ALGUNA CHANGA O TRABAJO  \\\n",
       "0                                                    2.0                                                                 \n",
       "1                                                    2.0                                                                 \n",
       "2                                                    2.0                                                                 \n",
       "3                                                    2.0                                                                 \n",
       "4                                                    2.0                                                                 \n",
       "...                                                  ...                                                                 \n",
       "27615                                                2.0                                                                 \n",
       "27616                                                2.0                                                                 \n",
       "27617                                                2.0                                                                 \n",
       "27618                                                2.0                                                                 \n",
       "27619                                                2.0                                                                 \n",
       "\n",
       "       v234 - CANTIDAD DE APORTANTES DE INGRESOS MONETARIOS QUE VIVEN EN ESTE HOGAR  \\\n",
       "0                                                    2.0                              \n",
       "1                                                    2.0                              \n",
       "2                                                    2.0                              \n",
       "3                                                    2.0                              \n",
       "4                                                    2.0                              \n",
       "...                                                  ...                              \n",
       "27615                                                2.0                              \n",
       "27616                                                2.0                              \n",
       "27617                                                2.0                              \n",
       "27618                                                2.0                              \n",
       "27619                                                2.0                              \n",
       "\n",
       "       v235 - INGRESO EN DINERO TOTAL DEL HOGAR EL MES PASADO  \\\n",
       "0                                                 8500.0        \n",
       "1                                                 8500.0        \n",
       "2                                                 8500.0        \n",
       "3                                                 8500.0        \n",
       "4                                                 8500.0        \n",
       "...                                                  ...        \n",
       "27615                                            33804.0        \n",
       "27616                                            33804.0        \n",
       "27617                                            33804.0        \n",
       "27618                                            33804.0        \n",
       "27619                                            33804.0        \n",
       "\n",
       "       v235i - INGRESO EN DINERO TOTAL DEL HOGAR EL MES PASADO (IMPUTADO)  \\\n",
       "0                                                 8500.0                    \n",
       "1                                                 8500.0                    \n",
       "2                                                 8500.0                    \n",
       "3                                                 8500.0                    \n",
       "4                                                 8500.0                    \n",
       "...                                                  ...                    \n",
       "27615                                            37185.0                    \n",
       "27616                                            37185.0                    \n",
       "27617                                            37185.0                    \n",
       "27618                                            37185.0                    \n",
       "27619                                            37185.0                    \n",
       "\n",
       "       v235i_d - GRUPOS DECÍLICOS DE INGRESO EN DINERO TOTAL DEL HOGAR EL MES PASADO (IMPUTADO)  \\\n",
       "0                                                    4.0                                          \n",
       "1                                                    4.0                                          \n",
       "2                                                    4.0                                          \n",
       "3                                                    4.0                                          \n",
       "4                                                    4.0                                          \n",
       "...                                                  ...                                          \n",
       "27615                                               10.0                                          \n",
       "27616                                               10.0                                          \n",
       "27617                                               10.0                                          \n",
       "27618                                               10.0                                          \n",
       "27619                                               10.0                                          \n",
       "\n",
       "       ITHPC - INGRESO TOTAL DEL HOGAR (IMPUTADO) PER CÁPITA  \\\n",
       "0                                            1700.000000       \n",
       "1                                            1700.000000       \n",
       "2                                            1700.000000       \n",
       "3                                            1700.000000       \n",
       "4                                            1700.000000       \n",
       "...                                                  ...       \n",
       "27615                                        5312.142857       \n",
       "27616                                        5312.142857       \n",
       "27617                                        5312.142857       \n",
       "27618                                        5312.142857       \n",
       "27619                                        5312.142857       \n",
       "\n",
       "       ITHPC_d - GRUPOS DECÍLICOS DE INGRESO TOTAL DEL HOGAR (IMPUTADO) PER CÀPITA  \\\n",
       "0                                                    2.0                             \n",
       "1                                                    2.0                             \n",
       "2                                                    2.0                             \n",
       "3                                                    2.0                             \n",
       "4                                                    2.0                             \n",
       "...                                                  ...                             \n",
       "27615                                                7.0                             \n",
       "27616                                                7.0                             \n",
       "27617                                                7.0                             \n",
       "27618                                                7.0                             \n",
       "27619                                                7.0                             \n",
       "\n",
       "       v213a - PERCPCIÓN DE INGRESOS EN OCUPACIÓN PRINCIPAL DEL MES PASADO  \\\n",
       "0                                                    1.0                     \n",
       "1                                                    1.0                     \n",
       "2                                                    NaN                     \n",
       "3                                                    NaN                     \n",
       "4                                                    NaN                     \n",
       "...                                                  ...                     \n",
       "27615                                                NaN                     \n",
       "27616                                                NaN                     \n",
       "27617                                                NaN                     \n",
       "27618                                                NaN                     \n",
       "27619                                                NaN                     \n",
       "\n",
       "       v213b - MONTO DE INGRESO NETO EN OCUPACIÓN PRINCIPAL DEL MES PASADO  \\\n",
       "0                                                 4500.0                     \n",
       "1                                                 4000.0                     \n",
       "2                                                    NaN                     \n",
       "3                                                    NaN                     \n",
       "4                                                    NaN                     \n",
       "...                                                  ...                     \n",
       "27615                                                NaN                     \n",
       "27616                                                NaN                     \n",
       "27617                                                NaN                     \n",
       "27618                                                NaN                     \n",
       "27619                                                NaN                     \n",
       "\n",
       "       v213bi - MONTO DE INGRESO NETO EN OCUPACIÓN PRINCIPAL DEL MES PASADO (IMPUTADO)  \\\n",
       "0                                                 4500.0                                 \n",
       "1                                                 4000.0                                 \n",
       "2                                                    0.0                                 \n",
       "3                                                    0.0                                 \n",
       "4                                                    0.0                                 \n",
       "...                                                  ...                                 \n",
       "27615                                                0.0                                 \n",
       "27616                                                0.0                                 \n",
       "27617                                                0.0                                 \n",
       "27618                                                0.0                                 \n",
       "27619                                                0.0                                 \n",
       "\n",
       "       v214a - PERCEPCIÓN DE INGRESOS EN OTRAS OCUPACIONES DEL MES PASADO  \\\n",
       "0                                                    0.0                    \n",
       "1                                                    0.0                    \n",
       "2                                                    NaN                    \n",
       "3                                                    NaN                    \n",
       "4                                                    NaN                    \n",
       "...                                                  ...                    \n",
       "27615                                                NaN                    \n",
       "27616                                                NaN                    \n",
       "27617                                                NaN                    \n",
       "27618                                                NaN                    \n",
       "27619                                                NaN                    \n",
       "\n",
       "       v214b - MONTO DE INGRESO NETO EN OTRAS OCUPACIONES DEL MES PASADO  \\\n",
       "0                                                    NaN                   \n",
       "1                                                    NaN                   \n",
       "2                                                    NaN                   \n",
       "3                                                    NaN                   \n",
       "4                                                    NaN                   \n",
       "...                                                  ...                   \n",
       "27615                                                NaN                   \n",
       "27616                                                NaN                   \n",
       "27617                                                NaN                   \n",
       "27618                                                NaN                   \n",
       "27619                                                NaN                   \n",
       "\n",
       "       v214bi - MONTO DE INGRESO NETO EN OTRAS OCUPACIONES DEL MES PASADO (IMPUTADO)  \\\n",
       "0                                                    0.0                               \n",
       "1                                                    0.0                               \n",
       "2                                                    0.0                               \n",
       "3                                                    0.0                               \n",
       "4                                                    0.0                               \n",
       "...                                                  ...                               \n",
       "27615                                                0.0                               \n",
       "27616                                                0.0                               \n",
       "27617                                                0.0                               \n",
       "27618                                                0.0                               \n",
       "27619                                                0.0                               \n",
       "\n",
       "       ITLi - MONTO DE INGRESO TOTAL LABORAL  \\\n",
       "0                                     4500.0   \n",
       "1                                     4000.0   \n",
       "2                                        NaN   \n",
       "3                                        NaN   \n",
       "4                                        NaN   \n",
       "...                                      ...   \n",
       "27615                                    NaN   \n",
       "27616                                    NaN   \n",
       "27617                                    NaN   \n",
       "27618                                    NaN   \n",
       "27619                                    NaN   \n",
       "\n",
       "       ITLi_d - GRUPO DECÍLICO DE MONTO DE INGRESO TOTAL LABORAL  \\\n",
       "0                                                    5.0           \n",
       "1                                                    4.0           \n",
       "2                                                    NaN           \n",
       "3                                                    NaN           \n",
       "4                                                    NaN           \n",
       "...                                                  ...           \n",
       "27615                                                NaN           \n",
       "27616                                                NaN           \n",
       "27617                                                NaN           \n",
       "27618                                                NaN           \n",
       "27619                                                NaN           \n",
       "\n",
       "       v215a - PERCEPCIÓN DE INGRESOS POR JUBILACIONES O PENSIONES EL MES PASADO  \\\n",
       "0                                                    0.0                           \n",
       "1                                                    0.0                           \n",
       "2                                                    0.0                           \n",
       "3                                                    0.0                           \n",
       "4                                                    0.0                           \n",
       "...                                                  ...                           \n",
       "27615                                                0.0                           \n",
       "27616                                                0.0                           \n",
       "27617                                                0.0                           \n",
       "27618                                                0.0                           \n",
       "27619                                                0.0                           \n",
       "\n",
       "       v215b - MONTO DE INGRESO POR JUBILACIONES O PENSIONES EL MES PASADO  \\\n",
       "0                                                    NaN                     \n",
       "1                                                    NaN                     \n",
       "2                                                    NaN                     \n",
       "3                                                    NaN                     \n",
       "4                                                    NaN                     \n",
       "...                                                  ...                     \n",
       "27615                                                NaN                     \n",
       "27616                                                NaN                     \n",
       "27617                                                NaN                     \n",
       "27618                                                NaN                     \n",
       "27619                                                NaN                     \n",
       "\n",
       "       v215bi - MONTO DE INGRESO POR JUBILACIONES O PENSIONES EL MES PASADO (IMPUTADO)  \\\n",
       "0                                                    0.0                                 \n",
       "1                                                    0.0                                 \n",
       "2                                                    0.0                                 \n",
       "3                                                    0.0                                 \n",
       "4                                                    0.0                                 \n",
       "...                                                  ...                                 \n",
       "27615                                                0.0                                 \n",
       "27616                                                0.0                                 \n",
       "27617                                                0.0                                 \n",
       "27618                                                0.0                                 \n",
       "27619                                                0.0                                 \n",
       "\n",
       "       v216a - PERCEPCIÓN DE INGRESOS POR PENSIONES SOCIALES, AHU U OTROS PLANES SOCIALES EL MES PASADO  \\\n",
       "0                                                    0.0                                                  \n",
       "1                                                    0.0                                                  \n",
       "2                                                    0.0                                                  \n",
       "3                                                    0.0                                                  \n",
       "4                                                    0.0                                                  \n",
       "...                                                  ...                                                  \n",
       "27615                                                0.0                                                  \n",
       "27616                                                0.0                                                  \n",
       "27617                                                0.0                                                  \n",
       "27618                                                0.0                                                  \n",
       "27619                                                0.0                                                  \n",
       "\n",
       "       v216b - MONTO DE INGRESO POR PENSIONES SOCIALES, AHU U OTROS PLANES SOCIALES EL MES PASADO  \\\n",
       "0                                                    NaN                                            \n",
       "1                                                    NaN                                            \n",
       "2                                                    NaN                                            \n",
       "3                                                    NaN                                            \n",
       "4                                                    NaN                                            \n",
       "...                                                  ...                                            \n",
       "27615                                                NaN                                            \n",
       "27616                                                NaN                                            \n",
       "27617                                                NaN                                            \n",
       "27618                                                NaN                                            \n",
       "27619                                                NaN                                            \n",
       "\n",
       "       v216bi - MONTO DE INGRESO POR PENSIONES SOCIALES, AHU U OTRO PLANES SOCIALES EL MES PASADO (IMPUTADO)  \\\n",
       "0                                                    0.0                                                       \n",
       "1                                                    0.0                                                       \n",
       "2                                                    0.0                                                       \n",
       "3                                                    0.0                                                       \n",
       "4                                                    0.0                                                       \n",
       "...                                                  ...                                                       \n",
       "27615                                                0.0                                                       \n",
       "27616                                                0.0                                                       \n",
       "27617                                                0.0                                                       \n",
       "27618                                                0.0                                                       \n",
       "27619                                                0.0                                                       \n",
       "\n",
       "       v217a - PERCEPCIÓN DE OTROS INGRESOS EL MES PASADO  \\\n",
       "0                                                    0.0    \n",
       "1                                                    0.0    \n",
       "2                                                    0.0    \n",
       "3                                                    0.0    \n",
       "4                                                    0.0    \n",
       "...                                                  ...    \n",
       "27615                                                0.0    \n",
       "27616                                                0.0    \n",
       "27617                                                0.0    \n",
       "27618                                                0.0    \n",
       "27619                                                0.0    \n",
       "\n",
       "       v217b - MONTO DE INGRESOS EL MES PASADO  \\\n",
       "0                                          NaN   \n",
       "1                                          NaN   \n",
       "2                                          NaN   \n",
       "3                                          NaN   \n",
       "4                                          NaN   \n",
       "...                                        ...   \n",
       "27615                                      NaN   \n",
       "27616                                      NaN   \n",
       "27617                                      NaN   \n",
       "27618                                      NaN   \n",
       "27619                                      NaN   \n",
       "\n",
       "       v217bi - MONTO DE OTROS INGRESOS EL MES PASADO (IMPUTADO)     ITI  \\\n",
       "0                                                    0.0          4500.0   \n",
       "1                                                    0.0          4000.0   \n",
       "2                                                    0.0             NaN   \n",
       "3                                                    0.0             NaN   \n",
       "4                                                    0.0             NaN   \n",
       "...                                                  ...             ...   \n",
       "27615                                                0.0             NaN   \n",
       "27616                                                0.0             NaN   \n",
       "27617                                                0.0             NaN   \n",
       "27618                                                0.0             NaN   \n",
       "27619                                                0.0             NaN   \n",
       "\n",
       "       ITI_d - GRUPO DECÍLICO DE MONTO DE INGRESO TOTAL INDIVIDUAL  \n",
       "0                                                    6.0            \n",
       "1                                                    5.0            \n",
       "2                                                    NaN            \n",
       "3                                                    NaN            \n",
       "4                                                    NaN            \n",
       "...                                                  ...            \n",
       "27615                                                NaN            \n",
       "27616                                                NaN            \n",
       "27617                                                NaN            \n",
       "27618                                                NaN            \n",
       "27619                                                NaN            \n",
       "\n",
       "[27620 rows x 41 columns]"
      ]
     },
     "execution_count": 140,
     "metadata": {},
     "output_type": "execute_result"
    }
   ],
   "source": [
    "# ingresos del hogar\n",
    "subset1 = df[df.columns[181:203]]\n",
    "# ingresos de personas:\n",
    "subset2 = df[df.columns[390:]]\n",
    "\n",
    "# Concatenar los dos subsets horizontalmente\n",
    "ingresos = pd.concat([subset1, subset2], axis=1)\n",
    "ingresos"
   ]
  },
  {
   "cell_type": "code",
   "execution_count": 141,
   "id": "d328aa83",
   "metadata": {},
   "outputs": [],
   "source": [
    "ingresos_filtrados = ingresos[ingresos['v213a - PERCPCIÓN DE INGRESOS EN OCUPACIÓN PRINCIPAL DEL MES PASADO'].notna() & df['v213b - MONTO DE INGRESO NETO EN OCUPACIÓN PRINCIPAL DEL MES PASADO'].isna()]\n",
    "# ingresos_filtrados"
   ]
  },
  {
   "cell_type": "code",
   "execution_count": 142,
   "id": "296a7d7d",
   "metadata": {},
   "outputs": [],
   "source": [
    "#########################################################################\n",
    "#########################################################################\n",
    "##################### VARIABLES INTERGENERACIONALES #####################\n",
    "#########################################################################\n",
    "#########################################################################"
   ]
  },
  {
   "cell_type": "code",
   "execution_count": 143,
   "id": "b0ad2f67",
   "metadata": {},
   "outputs": [
    {
     "data": {
      "text/plain": [
       "Index(['v238a - PSH: PARENTESCO CON PSH DE HOGAR A LOS 15 AÑOS',\n",
       "       'v239a - PSH: LUGAR DE NACIMIENTO DE PSH DE HOGAR A LOS 15 AÑOS',\n",
       "       'v240a - PSH: MÁXIMO NIVEL EDUCATIVO DEL PSH DE HOGAR A LOS 15 AÑOS',\n",
       "       'v241a - PFINALIDAD DE NIVEL EDUCATIVO DEL PSH DE HOGAR A LOS 15 AÑOS',\n",
       "       'v242a - PSH: ÚLTIMO AÑO APROBADO DEL PSH DE HOGAR A LOS 15 AÑOS',\n",
       "       'v243a - PSH: CÓNYUGE DEL PSH DE HOGAR A LOS 15 AÑOS',\n",
       "       'v244a - MÁXIMO NIVEL EDUCATIVO DE CÓNYUGE DEL PSH DE HOGAR A LOS 15 AÑOS',\n",
       "       'v245a - PSH: FINALIDAD DE NIVEL EDUCATIVO DE CÓNYUGE DEL PSH DE HOGAR A LOS 15 AÑOS',\n",
       "       'v246a - PSH: ÚLTIMO AÑO APROBADO DEL CÓNYUGE DEL PSH DE HOGAR A LOS 15 AÑOS',\n",
       "       'v247a_CIUO08 - PSH: TIPO DE OCUPACIÓN (CÓDIGO INTERNACIONAL UNIFORME DE OCUPACIONES)',\n",
       "       'v247a_CNO01 -PSH: TIPO DE OCUPACIÓN (CÓDIGO INTERNACIONAL UNIFORME DE OCUPACIONES)',\n",
       "       'v250a - PSH: ROL DE SUPERVISIÓN DEL PSH DEL HOGAR A LOS 15 AÑOS',\n",
       "       'v251a - PSH: CANTIDAD DE PERSONAS SUPERVISADAS POR EL PSH DEL HOGAR A LOS 15 AÑOS',\n",
       "       'v252a_CAES - PSH: CÓDIGO DE ACTIVIDAD ECONÓMICA',\n",
       "       'V253a - PSH: SECTOR ECONÓMICO DONDE TRABAJABA EL PSH DEL HOGAR A LOS 15 AÑOS',\n",
       "       'v254a - PSH: TAMAÑO DEL ESTABLECIMIENTO DONDE TRABAJABA EL PSH DEL HOGAR A LOS 15 AÑOS',\n",
       "       'v255a - PSH: CATEGORÍA OCUPACIONAL DEL PSH DEL HOGAR A LOS 15 AÑOS',\n",
       "       'v256a - PSH: REGISTRO LABORAL DEL PSH DEL HOGAR A LOS 15 AÑOS',\n",
       "       'v257a - PSH: TIPO DE CONTRATO LABORAL DEL PSH A LOS 15 AÑOS',\n",
       "       'v238b - CÓNYUGE: PARENTESCO CON PSH DE HOGAR A LOS 15 AÑOS',\n",
       "       'v239b - CÓNYUGE: LUGAR DE NACIMIENTO DE PSH DE HOGAR A LOS 15 AÑOS',\n",
       "       'v240b - CÓNYUGE: MÁXIMO NIVEL EDUCATIVO DEL PSH DE HOGAR A LOS 15 AÑOS',\n",
       "       'v241b - CÓNYUGE: FINALIDAD DE NIVEL EDUCATIVO DEL PSH A LOS 15 AÑOS',\n",
       "       'v242b - CÓNYUGE: ÚLTIMO AÑO APROBADO DEL PSH A LOS 15 AÑOS',\n",
       "       'v243b - CÓNYUGE: CÓNYUGE DEL PSH A LOS 15 AÑOS',\n",
       "       'v244b - CÓNYUGE: MÁXIMO NIVEL EDUCATIVO DE CÓNYUGE DEL PSH A LOS 15 AÑOS',\n",
       "       'v245b - CÓNYUGE: FINALIDAD DE NIVEL EDUCATIVO DE CÓNYUGE DEL PSH A LOS 15 AÑOS',\n",
       "       'v246b - CÓNYUGE: ÚLTIMO AÑO APROBADO DEL CÓNYUGE DEL PSH A LOS 15 AÑOS',\n",
       "       'v247b_CIUO08 - CÓNYUGE: TIPO DE OCUPACIÓN (CÓDIGO INTERNACIONAL UNIFORME DE OCUPACIONES)',\n",
       "       'v247b_CNO01 - CÓNYUGE: TIPO DE OCUPACIÓN (CLASIFICADOR NACIONAL DE OCUPACIONES 2001)',\n",
       "       'v250b - CÓNYUGE: ROL DE SUPERVISIÓN DEL PSH DEL HOGAR A LOS 15 AÑOS',\n",
       "       'v251b - CÓNYUGE: CANTIDAD DE PERSONAS SUPERVISADAS POR EL PSH A LOS 15 AÑOS',\n",
       "       'v252b_CAES - CÓNYUGE: CÓDIGO DE ACTIVIDAD ECONÓMICA (CAES MERCOSUR)',\n",
       "       'v253b - CÓNYUGE: SECTOR ECONÓMICO DONDE TRABAJABA EL PSH DEL HOGAR A LOS 15 AÑOS',\n",
       "       'v254b - CÓNYUGE: TAMAÑO DEL ESTABLECIMIENTO DONDE TRABAJABA EL PSH A LOS 15 AÑOS',\n",
       "       'v255b - CÓNYUGE: CATEGORÍA OCUPACIONAL DEL PSH DEL HOGAR A LOS 15 AÑOS',\n",
       "       'v256b - REGISTRO LABORAL DEL PSH DEL HOGAR A LOS 15 AÑOS',\n",
       "       'v257b - CÓNYUGE: TIPO DE CONTRATO LABORAL DEL PSH A LOS 15 AÑOS'],\n",
       "      dtype='object')"
      ]
     },
     "execution_count": 143,
     "metadata": {},
     "output_type": "execute_result"
    }
   ],
   "source": [
    "df.columns[np.r_[207:226, 233:252]]\n",
    "\n",
    "# EVALUAR SI ELIMINARLAS O INCORPORARLAS EN EL ANÁLISIS DE CLASE\n",
    "# df = df.drop(df.columns[np.r_[207:229, 233:255]], axis=1)"
   ]
  },
  {
   "cell_type": "code",
   "execution_count": 144,
   "id": "a00d742b",
   "metadata": {},
   "outputs": [],
   "source": [
    "#########################################################################\n",
    "#########################################################################\n",
    "############################## CLASE SOCIAL #############################\n",
    "#########################################################################\n",
    "#########################################################################"
   ]
  },
  {
   "cell_type": "code",
   "execution_count": 145,
   "id": "f6fe1ac7",
   "metadata": {},
   "outputs": [
    {
     "data": {
      "text/plain": [
       "Index(['egp11a - PSH: CLASE SOCIAL (EGP CASMISN, GANZEBOOM Y TEIMAN)',\n",
       "       'CSOa - PSH: CONDICIÓN SOCIO-OCUPACIONAL',\n",
       "       'egp11b - CÓNYUGE: CLASE SOCIAL (EGP CASMISN, GANZEBOOM Y TREIMAN)',\n",
       "       'CSOb - CÓNYUGE: CONDICIÓN SOCIO-OCUPACIONAL'],\n",
       "      dtype='object')"
      ]
     },
     "execution_count": 145,
     "metadata": {},
     "output_type": "execute_result"
    }
   ],
   "source": [
    "df.columns[np.r_[226:228, 252:254]]"
   ]
  },
  {
   "cell_type": "code",
   "execution_count": 146,
   "id": "ff483a00",
   "metadata": {},
   "outputs": [],
   "source": [
    "#########################################################################\n",
    "#########################################################################\n",
    "############ (AUTOPERCEPCIÓN) CLASE SOCIAL DEL PSH Y CONYUGE ############\n",
    "#########################################################################\n",
    "#########################################################################"
   ]
  },
  {
   "cell_type": "code",
   "execution_count": 147,
   "id": "de76d039",
   "metadata": {},
   "outputs": [
    {
     "data": {
      "text/plain": [
       "Index(['v258a - PSH: AUTOUBICACIÓN EN LA ESCALA DE POSICIÓN SOCIAL',\n",
       "       'v259a - PSH: PERTENENCIA A CLASE SOCIAL',\n",
       "       'v260a - PSH: CLASE SOCIAL DE PERTENENCIA',\n",
       "       'V261a - PSH: CLASE SOCIAL DE PERTENENCIA FORZADA',\n",
       "       'v258b - CÓNYUGE: AUTOUBICACIÓN EN LA ESCALA DE POSICIÓN SOCIAL',\n",
       "       'v259b - CÓNYUGE: PERTENENCIA A CLASE SOCIAL',\n",
       "       'v260b - CÓNYUGE: CLASE SOCIAL DE PERTENENCIA',\n",
       "       'v261b - CÓNYUGE: CLASE SOCIAL DE PERTENENCIA FORZADA'],\n",
       "      dtype='object')"
      ]
     },
     "execution_count": 147,
     "metadata": {},
     "output_type": "execute_result"
    }
   ],
   "source": [
    "df.columns[np.r_[228:232, 254:258]]\n",
    "\n",
    "# 258 ¿Dónde se ubicaría usted en la siguiente escala de posiciones sociales, que va de 1 (lo más bajo) a 10 (lo más alto)?\n",
    "# 259 ¿Se considera usted a sí mismo como perteneciendo a una clase social?\n",
    "# 260 ¿Qué clase sería...?\n",
    "# 261 Si usted tuviera que elegir, ¿diría que usted pertenece a...?"
   ]
  },
  {
   "cell_type": "code",
   "execution_count": 148,
   "id": "a238c39a",
   "metadata": {},
   "outputs": [
    {
     "data": {
      "text/plain": [
       "'v111 - PARENTESCO PSH'"
      ]
     },
     "execution_count": 148,
     "metadata": {},
     "output_type": "execute_result"
    }
   ],
   "source": [
    "## Analizar la variable parentesco con el PSH (111)\n",
    "\n",
    "df.columns[262]\n",
    "\n",
    "# 1 | PSH\n",
    "# 2 | Cónyuge\n",
    "# 3 | Hijo/a\n",
    "# 4 | Hijastro/a\n",
    "# 5 | Yerno / Nuera 6 | Hermano/a\n",
    "# 7 | Nieto/a\n",
    "# 8 | Cuñado/a\n",
    "# 9 | Padre / Madre / Suegro / Suegra\n",
    "# 10 | Otros familiares\n",
    "# 11 | Servicio doméstico\n",
    "# 12 | Otros no familiares"
   ]
  },
  {
   "cell_type": "code",
   "execution_count": 149,
   "id": "9ac2478c",
   "metadata": {},
   "outputs": [
    {
     "data": {
      "text/plain": [
       "Index(['miembro', 'f_calib3', 'v108 - EDAD', 'v109 - SEXO',\n",
       "       'v111 - PARENTESCO PSH', 'v112 - CONVIVE CON MADRE',\n",
       "       'v113 - CONVIVE CON PADRE', 'hijxs_en_vhog', 'v114 - TIENE PAREJA',\n",
       "       'v115 - CONVIVE CON PAREJA', 'pareja_nuclear', 'v116 - ESTADO CIVIL',\n",
       "       'c_hogar - COMPOSICION DEL HOGAR',\n",
       "       't_hogar - CANTIDAD DE PERSONAS EN EL HOGAR',\n",
       "       'v117 - SABE LEER Y ESCRIBIR', 'v118a - IDIOMA EXTRANJERO',\n",
       "       'v118b - IDIOMA EXTRANJERO', 'v118c - LENGUA ORIGINARIA',\n",
       "       'v119 - MANEJO DE COMPUTADORA',\n",
       "       'v120 - ASISTENCIA A ESTABLECIMIENTO EDUCATIVO',\n",
       "       'v121 - NIVEL MÁS ALTO', 'v122 - FINALIZACIÓN DEL NIVEL',\n",
       "       'v123 - ULTIMO AÑO APROBADO',\n",
       "       'v124 - TIPO DE GESTION DEL ESTABLECIMIENTO', 'v125 - TIPO DE JORNADA',\n",
       "       'nivel_ed - MAXIMO NIVEL EDUCATIVO ALCANZADO',\n",
       "       'v126 - PERSONA CON LA QUE PERMANECE LA MAYOR PARTE DEL TIEMPO',\n",
       "       'v127 - ASISTENCIA A JARDI, GUARDERIA',\n",
       "       'v128 - DIFICULTAD PARA ORGANIZAR EL CUIDADO DE NIÑOS ',\n",
       "       'v129 - PRINCIPAL DIFICULTAD PARA CUIDAR NIÑOS',\n",
       "       'v130 - ADULTO MAYOR NECESITA AYUDA',\n",
       "       'v131 - PERSONA QUE OTORGA AYUDA A ADULTO MAYOR',\n",
       "       'v132 - DIFICULTAD HABITUAL PARA ORGANIZAR EL CUIDADO DE ADULTO MAYOR',\n",
       "       'v133 - PRINCIPAL DIFICULTAD QUE TIENE PARA CUIDAR A ADULTO MAYOR'],\n",
       "      dtype='object')"
      ]
     },
     "execution_count": 149,
     "metadata": {},
     "output_type": "execute_result"
    }
   ],
   "source": [
    "df.columns[258:292]"
   ]
  },
  {
   "cell_type": "code",
   "execution_count": 150,
   "id": "b238db0d",
   "metadata": {},
   "outputs": [],
   "source": [
    "##########################\n",
    "### COBERTURA DE SALUD ###\n",
    "##########################"
   ]
  },
  {
   "cell_type": "code",
   "execution_count": 151,
   "id": "ed255ba1",
   "metadata": {},
   "outputs": [
    {
     "data": {
      "text/plain": [
       "Index(['v134a - PRINCIPAL COBERTURA DE SALUD', 'v134b - PRINCIPAL COBERTURA DE SALUD'], dtype='object')"
      ]
     },
     "execution_count": 151,
     "metadata": {},
     "output_type": "execute_result"
    }
   ],
   "source": [
    "df.columns[292:294]"
   ]
  },
  {
   "cell_type": "code",
   "execution_count": 152,
   "id": "d8ccf8c8",
   "metadata": {},
   "outputs": [
    {
     "data": {
      "text/plain": [
       "['PRINCIPAL COBERTURA DE SALUD: OBRA SOCIAL',\n",
       " 'PRINCIPAL COBERTURA DE SALUD: PREPAGA',\n",
       " 'PRINCIPAL COBERTURA DE SALUD: PREPAGA A TRAVES DE OBRA SOCIAL',\n",
       " 'PRINCIPAL COBERTURA DE SALUD: PAMI',\n",
       " 'PRINCIPAL COBERTURA DE SALUD: INCLUIR SALUD',\n",
       " 'PRINCIPAL COBERTURA DE SALUD: EMERGENCIAS MEDICAS',\n",
       " 'PRINCIPAL COBERTURA DE SALUD: NO TIENE']"
      ]
     },
     "execution_count": 152,
     "metadata": {},
     "output_type": "execute_result"
    }
   ],
   "source": [
    "var = 'PRINCIPAL COBERTURA DE SALUD:'\n",
    "ob_s_ = ' OBRA SOCIAL'\n",
    "pp_ = ' PREPAGA'\n",
    "pp_ob_s_ = ' PREPAGA A TRAVES DE OBRA SOCIAL'\n",
    "pami_ = ' PAMI'\n",
    "i_s_ = ' INCLUIR SALUD'\n",
    "e_med_ = ' EMERGENCIAS MEDICAS'\n",
    "nin_ = ' NO TIENE'\n",
    "ls = [(var+ ob_s_), (var+ pp_), (var+pp_ob_s_), (var+ pami_), (var+ i_s_), \n",
    "     (var+ e_med_), (var+ nin_)]\n",
    "ls"
   ]
  },
  {
   "cell_type": "code",
   "execution_count": 153,
   "id": "4198c14c",
   "metadata": {},
   "outputs": [],
   "source": [
    "subset = df[df.columns[292:294]]\n",
    "# subset"
   ]
  },
  {
   "cell_type": "code",
   "execution_count": 154,
   "id": "d8ab9331",
   "metadata": {},
   "outputs": [],
   "source": [
    "subset = subset.astype(pd.CategoricalDtype())\n",
    "a = pd.get_dummies(subset, prefix= ['', ''])\n",
    "b = a.groupby(a.columns[:], axis=1).sum()\n",
    "b.columns= ls\n",
    "# b"
   ]
  },
  {
   "cell_type": "code",
   "execution_count": 155,
   "id": "2efdef62",
   "metadata": {},
   "outputs": [],
   "source": [
    "df.loc[:, b.columns] = b.loc[:, b.columns[:]]\n",
    "df = df.drop(df.columns[292:294], axis= 1)"
   ]
  },
  {
   "cell_type": "code",
   "execution_count": 156,
   "id": "7493115c",
   "metadata": {},
   "outputs": [],
   "source": [
    "cols = list(df.columns[:292]) + list(df.columns[-7:]) + list(df.columns[292:-7])\n",
    "df = df[cols]\n",
    "# df.columns"
   ]
  },
  {
   "cell_type": "code",
   "execution_count": 157,
   "id": "0a8a17af",
   "metadata": {},
   "outputs": [],
   "source": [
    "#############################\n",
    "#### BENEFICIOS SOCIALES ####\n",
    "#############################"
   ]
  },
  {
   "cell_type": "code",
   "execution_count": 158,
   "id": "b2a5210a",
   "metadata": {},
   "outputs": [
    {
     "data": {
      "text/plain": [
       "Index(['v147a - ORIGEN DE INGRESOS POR BENEFICIO SOCIAL',\n",
       "       'v147b - ORIGEN DE INGRESO POR BENEFICIO SOCIAL',\n",
       "       'v147c - ORIGEN DE INGRESOS POR BENEFICIO SOCIAL'],\n",
       "      dtype='object')"
      ]
     },
     "execution_count": 158,
     "metadata": {},
     "output_type": "execute_result"
    }
   ],
   "source": [
    "df.columns[311:314]"
   ]
  },
  {
   "cell_type": "code",
   "execution_count": 159,
   "id": "6278f788",
   "metadata": {},
   "outputs": [
    {
     "data": {
      "text/plain": [
       "['BENEFICIO SOCIAL: PENSION POR 7 HIJXS',\n",
       " 'BENEFICIO SOCIAL: PENSION POR INVALIDEZ O DISCAPACIDAD',\n",
       " 'BENEFICIO SOCIAL: PROGRESAR',\n",
       " 'BENEFICIO SOCIAL: OTRAS PENSIONES NO CONTRIBUTIVAS',\n",
       " 'BENEFICIO SOCIAL: OTROS PROGRAMAS DE AYUDA ECONOMICA',\n",
       " 'BENEFICIO SOCIAL: NINGUNO']"
      ]
     },
     "execution_count": 159,
     "metadata": {},
     "output_type": "execute_result"
    }
   ],
   "source": [
    "var= 'BENEFICIO SOCIAL: '\n",
    "pen_ = 'PENSION POR 7 HIJXS'\n",
    "pen_in_ = 'PENSION POR INVALIDEZ O DISCAPACIDAD'\n",
    "prog_ = 'PROGRESAR'\n",
    "ot_p_nn_ = 'OTRAS PENSIONES NO CONTRIBUTIVAS'\n",
    "ot_pr_ae_ = 'OTROS PROGRAMAS DE AYUDA ECONOMICA'\n",
    "nin_ = 'NINGUNO'\n",
    "ls = [(var+ pen_), (var+ pen_in_), (var+prog_), (var+ot_p_nn_), (var+ot_pr_ae_), (var+ nin_)]\n",
    "ls"
   ]
  },
  {
   "cell_type": "code",
   "execution_count": 160,
   "id": "618b96a9",
   "metadata": {},
   "outputs": [],
   "source": [
    "subset = df[df.columns[311:314]]\n",
    "# subset"
   ]
  },
  {
   "cell_type": "code",
   "execution_count": 161,
   "id": "9ba4f11e",
   "metadata": {},
   "outputs": [],
   "source": [
    "subset = subset.astype(pd.CategoricalDtype())\n",
    "a= pd.get_dummies(subset, prefix= ['','',''])\n",
    "b= a.groupby(a.columns[:], axis= 1).sum()\n",
    "b.columns= ls"
   ]
  },
  {
   "cell_type": "code",
   "execution_count": 162,
   "id": "89921ed8",
   "metadata": {},
   "outputs": [
    {
     "data": {
      "text/plain": [
       "Index(['v147a - ORIGEN DE INGRESOS POR BENEFICIO SOCIAL',\n",
       "       'v147b - ORIGEN DE INGRESO POR BENEFICIO SOCIAL',\n",
       "       'v147c - ORIGEN DE INGRESOS POR BENEFICIO SOCIAL'],\n",
       "      dtype='object')"
      ]
     },
     "execution_count": 162,
     "metadata": {},
     "output_type": "execute_result"
    }
   ],
   "source": [
    "subset.columns"
   ]
  },
  {
   "cell_type": "code",
   "execution_count": 163,
   "id": "19d07dd1",
   "metadata": {},
   "outputs": [],
   "source": [
    "# subset[~subset[['v147a - ORIGEN DE INGRESOS POR BENEFICIO SOCIAL',\n",
    "#                                 'v147b - ORIGEN DE INGRESO POR BENEFICIO SOCIAL',\n",
    "#                                 'v147c - ORIGEN DE INGRESOS POR BENEFICIO SOCIAL']].isin([pd.NA, 6]).any(axis=1)]"
   ]
  },
  {
   "cell_type": "code",
   "execution_count": 164,
   "id": "9f59f6df",
   "metadata": {},
   "outputs": [],
   "source": [
    "# b.iloc[:, :-1][(b.iloc[:, :-1] != 0).any(axis=1)]"
   ]
  },
  {
   "cell_type": "code",
   "execution_count": 165,
   "id": "0c92897e",
   "metadata": {},
   "outputs": [],
   "source": [
    "df.loc[:, b.columns] = b.loc[:, b.columns[:]]\n",
    "df = df.drop(df.columns[311:314], axis=1)"
   ]
  },
  {
   "cell_type": "code",
   "execution_count": 166,
   "id": "3666ff73",
   "metadata": {},
   "outputs": [],
   "source": [
    "cols= list(df.columns[:311]) + list(df.columns[-6:]) + list(df.columns[311:-6])\n",
    "df = df[cols]"
   ]
  },
  {
   "cell_type": "code",
   "execution_count": 167,
   "id": "0dddcc68",
   "metadata": {},
   "outputs": [],
   "source": [
    "#########################################################################\n",
    "#########################################################################\n",
    "###################### Bloque Lugar de Nacimiento #######################\n",
    "#########################################################################\n",
    "#########################################################################"
   ]
  },
  {
   "cell_type": "code",
   "execution_count": 168,
   "id": "cff484f3",
   "metadata": {},
   "outputs": [
    {
     "data": {
      "text/plain": [
       "Index(['v148 - DESCENDENCIA DE PUEBLO INDÍGENA O AFRODESCENDIENTE',\n",
       "       'v149a - LUGAR DE NACIMIENTO', 'v149b_pcia PROVINCIA DE NACIMIENTO',\n",
       "       'v150 - PAIS DE NACIMIENTO', 'v150b_pais - PAIS DE NACIMIENTO',\n",
       "       'v151 - AÑO DE LLEGADA A LA ARGENTINA',\n",
       "       'v152a - LUGAR DE RESIDENCIA HACE 5 AÑOS',\n",
       "       'v152b_lugar - PROVINCIA O PAIS DE RESIDENCIA HACE 5 AÑOS'],\n",
       "      dtype='object')"
      ]
     },
     "execution_count": 168,
     "metadata": {},
     "output_type": "execute_result"
    }
   ],
   "source": [
    "df.columns[317:325]"
   ]
  },
  {
   "cell_type": "code",
   "execution_count": 169,
   "id": "00788e08",
   "metadata": {},
   "outputs": [],
   "source": [
    "subset = df[df.columns[318:321]]\n",
    "# subset"
   ]
  },
  {
   "cell_type": "code",
   "execution_count": 170,
   "id": "5e3af774",
   "metadata": {},
   "outputs": [],
   "source": [
    "pd.set_option('display.max_rows', None)"
   ]
  },
  {
   "cell_type": "code",
   "execution_count": 171,
   "id": "3209d99a",
   "metadata": {},
   "outputs": [
    {
     "name": "stdout",
     "output_type": "stream",
     "text": [
      "De 27620 observaciones:\n"
     ]
    },
    {
     "data": {
      "text/plain": [
       "'v149a - LUGAR DE NACIMIENTO'"
      ]
     },
     "execution_count": 171,
     "metadata": {},
     "output_type": "execute_result"
    },
    {
     "name": "stdout",
     "output_type": "stream",
     "text": [
      "PROVINCIAS ARGENTINAS: 26433 observaciones\n",
      "OTRO PAIS: 722 observaciones\n",
      "NaN: 465\n",
      "\n",
      "Declaran nacer en otra provicia 3073 registros\n",
      "De los cuales solo 2854 aclaran en cual\n",
      "\n",
      "v149b_pcia PROVINCIA DE NACIMIENTO puede ser CUALQUIER PROVINCIA:\n",
      "[nan  1.  2.  3.  4.  5.  6.  7.  8.  9. 10. 11. 12. 13. 14. 15. 16. 17.\n",
      " 18. 19. 20. 21. 22. 23. 24.]\n",
      "\n",
      "(Hay 219 valores NaN de los que declaran haber nacido en otras provincias)\n",
      "\n",
      "No hay información de provincia de nacimiento en 24766 registros\n",
      "LOCALES: 23360\n",
      "(De los cuales 23360 no tienen registro de la provincia)\n",
      "Imputar estos 23360 NaN por Region y AGLOMERADO\n"
     ]
    }
   ],
   "source": [
    "print('De', df.shape[0], 'observaciones:')\n",
    "\n",
    "df.columns[318]\n",
    "\n",
    "tres= df.loc[df.iloc[:,318].isin([3])].shape[0] # Lugar de nacimiento en otra provincia\n",
    "uno_dos= df.loc[df.iloc[:,318].isin([1,2])].shape[0] # Lugar de nacimiento en esta provincia\n",
    "cuatro_cinco= df.loc[df.iloc[:,318].isin([4,5])].shape[0]\n",
    "# print('PAISES LIMITROFES:', df.loc[df.iloc[:,318].isin([4])].shape[0])\n",
    "# print('OTROS PAISES:', df.loc[df.iloc[:,318].isin([5])].shape[0])\n",
    "print('PROVINCIAS ARGENTINAS:', uno_dos + tres, 'observaciones')\n",
    "print('OTRO PAIS:', cuatro_cinco, 'observaciones')\n",
    "print('NaN:', df.loc[df.iloc[:,318].isna()].shape[0])\n",
    "print('')\n",
    "print('Declaran nacer en otra provicia', df.loc[df.iloc[:,318].isin([3])].shape[0], 'registros')\n",
    "print('De los cuales solo', df.loc[df.iloc[:,319].notna()].shape[0], 'aclaran en cual')\n",
    "print('')\n",
    "print(df.columns[319], 'puede ser CUALQUIER PROVINCIA:')\n",
    "print(np.array(sorted(df[df.columns[319]].unique())))\n",
    "\n",
    "# filtered = df[df[df.columns[318]] == 3]\n",
    "filtered = df[(df[df.columns[318]] == 3)  & (df[df.columns[319]].isna())]\n",
    "print('')\n",
    "print('(Hay', filtered.shape[0], 'valores NaN de los que declaran haber nacido en otras provincias)')\n",
    "\n",
    "# filtered[list(filtered.columns[318:325])]\n",
    "\n",
    "print('')\n",
    "print('No hay información de provincia de nacimiento en', df.loc[df[df.columns[319]].isna()].shape[0], 'registros')\n",
    "# 24766 - 23360 - 219 - 722 - 465\n",
    "print('LOCALES:', df.loc[df.iloc[:,318].isin([1,2])].shape[0] )\n",
    "filtered = df[(df[df.columns[318]].isin([1,2]) )  & (df[df.columns[319]].isna())]\n",
    "print('(De los cuales', filtered.shape[0], 'no tienen registro de la provincia)')\n",
    "print('Imputar estos', filtered.shape[0], 'NaN por', df.columns[1], 'y', df.columns[2][-10:])\n"
   ]
  },
  {
   "cell_type": "code",
   "execution_count": 172,
   "id": "7ee6a7c3",
   "metadata": {},
   "outputs": [],
   "source": [
    "# Registros sin información sobre la provincia de nacimiento\n",
    "registros_NaN= df[df.columns[319]].isna().sum()"
   ]
  },
  {
   "cell_type": "code",
   "execution_count": 173,
   "id": "fef75bd9",
   "metadata": {},
   "outputs": [
    {
     "name": "stdout",
     "output_type": "stream",
     "text": [
      "Registros que deberían quedar una vez imputados los NaN en base a la variable Aglomerado y lugar de Nacimiento: 16440\n"
     ]
    }
   ],
   "source": [
    "# Registros con información de Aglomerado y lugar de Nacimiento en localidad de esa provincia\n",
    "a_imputar= (( df[df.columns[2]].isin([1,2,3,4,5]) ) & ( df[df.columns[318]].isin([1,2]) )).sum()\n",
    "print('Registros que deberían quedar una vez imputados los NaN en base a la variable Aglomerado y lugar de Nacimiento:',\n",
    "registros_NaN - a_imputar)"
   ]
  },
  {
   "cell_type": "code",
   "execution_count": 174,
   "id": "b0e5d8a6",
   "metadata": {},
   "outputs": [
    {
     "data": {
      "text/plain": [
       "[1.0, 3.0, 4.0, 5.0, 6.0, 7.0, 8.0, nan]"
      ]
     },
     "execution_count": 174,
     "metadata": {},
     "output_type": "execute_result"
    },
    {
     "data": {
      "text/plain": [
       "[1.0, 2.0, 3.0, 4.0, 5.0, 6.0, nan]"
      ]
     },
     "execution_count": 174,
     "metadata": {},
     "output_type": "execute_result"
    }
   ],
   "source": [
    "sorted(df[df.columns[1]].unique())\n",
    "# 1 Gran Buenos Aires (CABA y 24 partidos de Buenos Aires)\n",
    "# 3 Cuyo (Mendoza, San Juan y San Luis)\n",
    "# 4 Pampeana (resto de Buenos Aires y La Pampa)\n",
    "# 5 Centro (Córdoba, Entre Ríos y Santa Fe)\n",
    "# 6 NEA (Chaco, Corrientes, Formosa y Misiones)\n",
    "# 7 NOA (Catamarca, Jujuy, La Rioja, Salta, Santiago del Estero y Tucumán)\n",
    "# 8 Patagonia (Chubut, Neuquen, Río Negro, Santa Cruz y Tierra del Fuego)\n",
    "\n",
    "sorted(df[df.columns[2]].unique())\n",
    "# 1 CABA\n",
    "# 2 Partidos del GBA\n",
    "# 3 Gran Córdoba\n",
    "# 4 Gran Rosario\n",
    "# 5 Gran Mendoza"
   ]
  },
  {
   "cell_type": "code",
   "execution_count": 175,
   "id": "41eba0c7",
   "metadata": {},
   "outputs": [
    {
     "data": {
      "text/plain": [
       "('Region', 'v149b_pcia PROVINCIA DE NACIMIENTO')"
      ]
     },
     "execution_count": 175,
     "metadata": {},
     "output_type": "execute_result"
    }
   ],
   "source": [
    "df.columns[1], df.columns[319]"
   ]
  },
  {
   "cell_type": "code",
   "execution_count": 176,
   "id": "b0ae6c47",
   "metadata": {},
   "outputs": [
    {
     "data": {
      "text/plain": [
       "3761"
      ]
     },
     "execution_count": 176,
     "metadata": {},
     "output_type": "execute_result"
    }
   ],
   "source": [
    "((df[df.columns[1]] ==1) & (df[df.columns[318]].isin([1,2])) ).sum()"
   ]
  },
  {
   "cell_type": "code",
   "execution_count": 177,
   "id": "7709b5e3",
   "metadata": {},
   "outputs": [
    {
     "name": "stdout",
     "output_type": "stream",
     "text": [
      "Hay 4843 registros de la región de Buenos Aires de los cuales 3761 son oriundos de esa provincia.\n",
      "Hay 3761 registros NaN (variable provincia) que sabemos que son de Buenos Aires.\n"
     ]
    }
   ],
   "source": [
    "print('Hay', (df[df.columns[1]] ==1).sum(), 'registros de la región de Buenos Aires de los cuales',\n",
    "      ((df[df.columns[1]] ==1) & (df[df.columns[318]].isin([1,2]))).sum(),\n",
    "      'son oriundos de esa provincia.')\n",
    "\n",
    "print('Hay', ((df[df.columns[1]] ==1) & (df[df.columns[318]].isin([1,2])) &\n",
    "        (df[df.columns[319]].isna()) ).sum(), 'registros NaN (variable provincia) que sabemos que son de Buenos Aires.') \n",
    "\n",
    "# Imputamos\n",
    "df.loc[ (df[df.columns[1]] == 1) & (df[df.columns[318]].isin([1,2])) , df.columns[319]] = 1"
   ]
  },
  {
   "cell_type": "code",
   "execution_count": 178,
   "id": "cbff576c",
   "metadata": {},
   "outputs": [
    {
     "name": "stdout",
     "output_type": "stream",
     "text": [
      "Hay 0 registros NaN (variable provincia) que sabemos que son de Buenos Aires.\n"
     ]
    }
   ],
   "source": [
    "print('Hay', ((df[df.columns[1]] ==1) & (df[df.columns[318]].isin([1,2])) &\n",
    "        (df[df.columns[319]].isna()) ).sum(), 'registros NaN (variable provincia) que sabemos que son de Buenos Aires.') "
   ]
  },
  {
   "cell_type": "code",
   "execution_count": 179,
   "id": "d0697e96",
   "metadata": {},
   "outputs": [
    {
     "name": "stdout",
     "output_type": "stream",
     "text": [
      "Hay 3761 registros NaN (variable provincia) que sabemos que son de Buenos Aires.\n",
      "Hay 0 registros NaN (variable provincia) que sabemos que son de Buenos Aires.\n",
      "Hay 3844 registros en Buenos Aires que nacieron en la provincia de Buenos Aires.\n",
      "Hay 4388 registros que nacieron en la provincia Buenos Aires\n"
     ]
    }
   ],
   "source": [
    "print('Hay', ((df[df.columns[1]] ==1) & (df[df.columns[318]].isin([1,2])) &\n",
    "        (df[df.columns[319]]==1 )).sum(), 'registros NaN (variable provincia) que sabemos que son de Buenos Aires.')\n",
    "print('Hay', ((df[df.columns[1]]==1) & (df[df.columns[318]].isin([1,2])) &\n",
    "        (df[df.columns[319]].isna() )).sum(), 'registros NaN (variable provincia) que sabemos que son de Buenos Aires.')\n",
    "\n",
    "print('Hay', ((df[df.columns[1]] == 1) & (df[df.columns[319]] == 1)).sum(), 'registros en Buenos Aires que nacieron en la provincia de Buenos Aires.')\n",
    "print('Hay', (df[df.columns[319]] == 1).sum(), 'registros que nacieron en la provincia Buenos Aires')"
   ]
  },
  {
   "cell_type": "code",
   "execution_count": 180,
   "id": "7218b274",
   "metadata": {},
   "outputs": [
    {
     "data": {
      "text/plain": [
       "21005"
      ]
     },
     "execution_count": 180,
     "metadata": {},
     "output_type": "execute_result"
    }
   ],
   "source": [
    "df[df.columns[319]].isna().sum()"
   ]
  },
  {
   "cell_type": "code",
   "execution_count": 181,
   "id": "6911f380",
   "metadata": {},
   "outputs": [
    {
     "data": {
      "text/plain": [
       "'v149b_pcia PROVINCIA DE NACIMIENTO'"
      ]
     },
     "execution_count": 181,
     "metadata": {},
     "output_type": "execute_result"
    },
    {
     "data": {
      "text/plain": [
       "'v149a - LUGAR DE NACIMIENTO'"
      ]
     },
     "execution_count": 181,
     "metadata": {},
     "output_type": "execute_result"
    }
   ],
   "source": [
    "df.columns[319]\n",
    "df.columns[318]"
   ]
  },
  {
   "cell_type": "code",
   "execution_count": 182,
   "id": "f6f65336",
   "metadata": {},
   "outputs": [
    {
     "data": {
      "text/plain": [
       "[1.0, 2.0, 3.0, 4.0, 5.0, 6.0, nan]"
      ]
     },
     "execution_count": 182,
     "metadata": {},
     "output_type": "execute_result"
    },
    {
     "name": "stdout",
     "output_type": "stream",
     "text": [
      "Hay 0 registros NaN (variable provincia) que sabemos que son de Buenos Aires.\n"
     ]
    }
   ],
   "source": [
    "sorted(df[df.columns[2]].unique())\n",
    "# 1 CABA\n",
    "# 2 Partidos del GBA\n",
    "# 3 Gran Córdoba\n",
    "# 4 Gran Rosario\n",
    "# 5 Gran Mendoza\n",
    "# 6 Resto de aglomerados\n",
    "\n",
    "print('Hay', ( (df[df.columns[2]].isin([1,2])) & (df[df.columns[318]].isin([1,2])) &\n",
    "        (df[df.columns[319]].isna() ) ).sum(), 'registros NaN (variable provincia) que sabemos que son de Buenos Aires.')\n"
   ]
  },
  {
   "cell_type": "code",
   "execution_count": 183,
   "id": "44fcfd14",
   "metadata": {},
   "outputs": [
    {
     "name": "stdout",
     "output_type": "stream",
     "text": [
      "Hay 1608 registros NaN (variable provincia) que sabemos que son de Córdoba.\n",
      "* Hay 37 registros en Córdoba que no sabemos el lugar ni provincia de nacimiento.\n"
     ]
    },
    {
     "data": {
      "text/html": [
       "<div>\n",
       "<style scoped>\n",
       "    .dataframe tbody tr th:only-of-type {\n",
       "        vertical-align: middle;\n",
       "    }\n",
       "\n",
       "    .dataframe tbody tr th {\n",
       "        vertical-align: top;\n",
       "    }\n",
       "\n",
       "    .dataframe thead th {\n",
       "        text-align: right;\n",
       "    }\n",
       "</style>\n",
       "<table border=\"1\" class=\"dataframe\">\n",
       "  <thead>\n",
       "    <tr style=\"text-align: right;\">\n",
       "      <th></th>\n",
       "      <th>Region</th>\n",
       "      <th>aglo - AGLOMERADO</th>\n",
       "      <th>v149a - LUGAR DE NACIMIENTO</th>\n",
       "      <th>v149b_pcia PROVINCIA DE NACIMIENTO</th>\n",
       "    </tr>\n",
       "  </thead>\n",
       "  <tbody>\n",
       "    <tr>\n",
       "      <th>7915</th>\n",
       "      <td>5.0</td>\n",
       "      <td>3.0</td>\n",
       "      <td>1.0</td>\n",
       "      <td>NaN</td>\n",
       "    </tr>\n",
       "    <tr>\n",
       "      <th>7916</th>\n",
       "      <td>5.0</td>\n",
       "      <td>3.0</td>\n",
       "      <td>1.0</td>\n",
       "      <td>NaN</td>\n",
       "    </tr>\n",
       "    <tr>\n",
       "      <th>7917</th>\n",
       "      <td>5.0</td>\n",
       "      <td>3.0</td>\n",
       "      <td>1.0</td>\n",
       "      <td>NaN</td>\n",
       "    </tr>\n",
       "    <tr>\n",
       "      <th>7918</th>\n",
       "      <td>5.0</td>\n",
       "      <td>3.0</td>\n",
       "      <td>1.0</td>\n",
       "      <td>NaN</td>\n",
       "    </tr>\n",
       "    <tr>\n",
       "      <th>7919</th>\n",
       "      <td>5.0</td>\n",
       "      <td>3.0</td>\n",
       "      <td>1.0</td>\n",
       "      <td>NaN</td>\n",
       "    </tr>\n",
       "  </tbody>\n",
       "</table>\n",
       "</div>"
      ],
      "text/plain": [
       "      Region  aglo - AGLOMERADO  v149a - LUGAR DE NACIMIENTO  \\\n",
       "7915     5.0                3.0                          1.0   \n",
       "7916     5.0                3.0                          1.0   \n",
       "7917     5.0                3.0                          1.0   \n",
       "7918     5.0                3.0                          1.0   \n",
       "7919     5.0                3.0                          1.0   \n",
       "\n",
       "      v149b_pcia PROVINCIA DE NACIMIENTO  \n",
       "7915                                 NaN  \n",
       "7916                                 NaN  \n",
       "7917                                 NaN  \n",
       "7918                                 NaN  \n",
       "7919                                 NaN  "
      ]
     },
     "execution_count": 183,
     "metadata": {},
     "output_type": "execute_result"
    },
    {
     "data": {
      "text/plain": [
       "(1608, 417)"
      ]
     },
     "execution_count": 183,
     "metadata": {},
     "output_type": "execute_result"
    },
    {
     "data": {
      "text/plain": [
       "0"
      ]
     },
     "execution_count": 183,
     "metadata": {},
     "output_type": "execute_result"
    },
    {
     "data": {
      "text/html": [
       "<div>\n",
       "<style scoped>\n",
       "    .dataframe tbody tr th:only-of-type {\n",
       "        vertical-align: middle;\n",
       "    }\n",
       "\n",
       "    .dataframe tbody tr th {\n",
       "        vertical-align: top;\n",
       "    }\n",
       "\n",
       "    .dataframe thead th {\n",
       "        text-align: right;\n",
       "    }\n",
       "</style>\n",
       "<table border=\"1\" class=\"dataframe\">\n",
       "  <thead>\n",
       "    <tr style=\"text-align: right;\">\n",
       "      <th></th>\n",
       "      <th>Region</th>\n",
       "      <th>aglo - AGLOMERADO</th>\n",
       "      <th>v149a - LUGAR DE NACIMIENTO</th>\n",
       "      <th>v149b_pcia PROVINCIA DE NACIMIENTO</th>\n",
       "    </tr>\n",
       "  </thead>\n",
       "  <tbody>\n",
       "    <tr>\n",
       "      <th>7915</th>\n",
       "      <td>5.0</td>\n",
       "      <td>3.0</td>\n",
       "      <td>1.0</td>\n",
       "      <td>NaN</td>\n",
       "    </tr>\n",
       "    <tr>\n",
       "      <th>7916</th>\n",
       "      <td>5.0</td>\n",
       "      <td>3.0</td>\n",
       "      <td>1.0</td>\n",
       "      <td>NaN</td>\n",
       "    </tr>\n",
       "    <tr>\n",
       "      <th>7917</th>\n",
       "      <td>5.0</td>\n",
       "      <td>3.0</td>\n",
       "      <td>1.0</td>\n",
       "      <td>NaN</td>\n",
       "    </tr>\n",
       "    <tr>\n",
       "      <th>7918</th>\n",
       "      <td>5.0</td>\n",
       "      <td>3.0</td>\n",
       "      <td>1.0</td>\n",
       "      <td>NaN</td>\n",
       "    </tr>\n",
       "    <tr>\n",
       "      <th>7919</th>\n",
       "      <td>5.0</td>\n",
       "      <td>3.0</td>\n",
       "      <td>1.0</td>\n",
       "      <td>NaN</td>\n",
       "    </tr>\n",
       "  </tbody>\n",
       "</table>\n",
       "</div>"
      ],
      "text/plain": [
       "      Region  aglo - AGLOMERADO  v149a - LUGAR DE NACIMIENTO  \\\n",
       "7915     5.0                3.0                          1.0   \n",
       "7916     5.0                3.0                          1.0   \n",
       "7917     5.0                3.0                          1.0   \n",
       "7918     5.0                3.0                          1.0   \n",
       "7919     5.0                3.0                          1.0   \n",
       "\n",
       "      v149b_pcia PROVINCIA DE NACIMIENTO  \n",
       "7915                                 NaN  \n",
       "7916                                 NaN  \n",
       "7917                                 NaN  \n",
       "7918                                 NaN  \n",
       "7919                                 NaN  "
      ]
     },
     "execution_count": 183,
     "metadata": {},
     "output_type": "execute_result"
    }
   ],
   "source": [
    "print('Hay', ( (df[df.columns[2]]==3) & (df[df.columns[318]].isin([1,2])) &\n",
    "        (df[df.columns[319]].isna() ) ).sum(), 'registros NaN (variable provincia) que sabemos que son de Córdoba.')\n",
    "\n",
    "print('* Hay', ( (df[df.columns[2]]==3) & (df[df.columns[318]].isna() ) & \n",
    "                (df[df.columns[319]].isna() ) ).sum(),\n",
    "      'registros en Córdoba que no sabemos el lugar ni provincia de nacimiento.')\n",
    "\n",
    "filtered_rows = df[(df[df.columns[2]]==3) & (df[df.columns[318]].isin([1, 2]))]\n",
    "filtered_rows[[df.columns[1], df.columns[2], df.columns[318], df.columns[319]]].head()\n",
    "filtered_rows.shape\n",
    "\n",
    "# Personas en Córdoba de otro país\n",
    "# filtered_rows = df[(df[df.columns[2]]==3) & (df[df.columns[318]].notna()) & (df[df.columns[319]].isna())]\n",
    "# # filtered_rows[[df.columns[1], df.columns[2], df.columns[318], df.columns[319]]]\n",
    "# filtered_rows.shape\n",
    "\n",
    "# Imputamos\n",
    "\n",
    "df.loc[ (df[df.columns[2]] == 3) & (df[df.columns[318]].isin([1,2])) &\n",
    "      (df[df.columns[319]].isna() )  , df.columns[319]] = 1\n",
    "\n",
    "((df[df.columns[2]]==3) & (df[df.columns[318]].isin([1, 2])) &\n",
    "                  (df[df.columns[319]].isna())).sum()\n",
    "\n",
    "filtered_rows[[df.columns[1], df.columns[2], df.columns[318], df.columns[319]]].head()\n"
   ]
  },
  {
   "cell_type": "code",
   "execution_count": 184,
   "id": "8355314e",
   "metadata": {},
   "outputs": [
    {
     "name": "stdout",
     "output_type": "stream",
     "text": [
      "Hay 1458 registros NaN (variable provincia) que sabemos que son de Rosario.\n",
      "Hay 4 registros en Rosario que no sabemos el lugar ni provincia de nacimiento.\n"
     ]
    },
    {
     "data": {
      "text/html": [
       "<div>\n",
       "<style scoped>\n",
       "    .dataframe tbody tr th:only-of-type {\n",
       "        vertical-align: middle;\n",
       "    }\n",
       "\n",
       "    .dataframe tbody tr th {\n",
       "        vertical-align: top;\n",
       "    }\n",
       "\n",
       "    .dataframe thead th {\n",
       "        text-align: right;\n",
       "    }\n",
       "</style>\n",
       "<table border=\"1\" class=\"dataframe\">\n",
       "  <thead>\n",
       "    <tr style=\"text-align: right;\">\n",
       "      <th></th>\n",
       "      <th>Region</th>\n",
       "      <th>aglo - AGLOMERADO</th>\n",
       "      <th>v149a - LUGAR DE NACIMIENTO</th>\n",
       "      <th>v149b_pcia PROVINCIA DE NACIMIENTO</th>\n",
       "    </tr>\n",
       "  </thead>\n",
       "  <tbody>\n",
       "    <tr>\n",
       "      <th>20730</th>\n",
       "      <td>5.0</td>\n",
       "      <td>4.0</td>\n",
       "      <td>1.0</td>\n",
       "      <td>NaN</td>\n",
       "    </tr>\n",
       "    <tr>\n",
       "      <th>20732</th>\n",
       "      <td>5.0</td>\n",
       "      <td>4.0</td>\n",
       "      <td>1.0</td>\n",
       "      <td>NaN</td>\n",
       "    </tr>\n",
       "    <tr>\n",
       "      <th>20733</th>\n",
       "      <td>5.0</td>\n",
       "      <td>4.0</td>\n",
       "      <td>1.0</td>\n",
       "      <td>NaN</td>\n",
       "    </tr>\n",
       "    <tr>\n",
       "      <th>20734</th>\n",
       "      <td>5.0</td>\n",
       "      <td>4.0</td>\n",
       "      <td>1.0</td>\n",
       "      <td>NaN</td>\n",
       "    </tr>\n",
       "    <tr>\n",
       "      <th>20735</th>\n",
       "      <td>5.0</td>\n",
       "      <td>4.0</td>\n",
       "      <td>1.0</td>\n",
       "      <td>NaN</td>\n",
       "    </tr>\n",
       "  </tbody>\n",
       "</table>\n",
       "</div>"
      ],
      "text/plain": [
       "       Region  aglo - AGLOMERADO  v149a - LUGAR DE NACIMIENTO  \\\n",
       "20730     5.0                4.0                          1.0   \n",
       "20732     5.0                4.0                          1.0   \n",
       "20733     5.0                4.0                          1.0   \n",
       "20734     5.0                4.0                          1.0   \n",
       "20735     5.0                4.0                          1.0   \n",
       "\n",
       "       v149b_pcia PROVINCIA DE NACIMIENTO  \n",
       "20730                                 NaN  \n",
       "20732                                 NaN  \n",
       "20733                                 NaN  \n",
       "20734                                 NaN  \n",
       "20735                                 NaN  "
      ]
     },
     "execution_count": 184,
     "metadata": {},
     "output_type": "execute_result"
    },
    {
     "data": {
      "text/plain": [
       "(1458, 417)"
      ]
     },
     "execution_count": 184,
     "metadata": {},
     "output_type": "execute_result"
    },
    {
     "data": {
      "text/plain": [
       "0"
      ]
     },
     "execution_count": 184,
     "metadata": {},
     "output_type": "execute_result"
    },
    {
     "data": {
      "text/html": [
       "<div>\n",
       "<style scoped>\n",
       "    .dataframe tbody tr th:only-of-type {\n",
       "        vertical-align: middle;\n",
       "    }\n",
       "\n",
       "    .dataframe tbody tr th {\n",
       "        vertical-align: top;\n",
       "    }\n",
       "\n",
       "    .dataframe thead th {\n",
       "        text-align: right;\n",
       "    }\n",
       "</style>\n",
       "<table border=\"1\" class=\"dataframe\">\n",
       "  <thead>\n",
       "    <tr style=\"text-align: right;\">\n",
       "      <th></th>\n",
       "      <th>Region</th>\n",
       "      <th>aglo - AGLOMERADO</th>\n",
       "      <th>v149a - LUGAR DE NACIMIENTO</th>\n",
       "      <th>v149b_pcia PROVINCIA DE NACIMIENTO</th>\n",
       "    </tr>\n",
       "  </thead>\n",
       "  <tbody>\n",
       "    <tr>\n",
       "      <th>20730</th>\n",
       "      <td>5.0</td>\n",
       "      <td>4.0</td>\n",
       "      <td>1.0</td>\n",
       "      <td>NaN</td>\n",
       "    </tr>\n",
       "    <tr>\n",
       "      <th>20732</th>\n",
       "      <td>5.0</td>\n",
       "      <td>4.0</td>\n",
       "      <td>1.0</td>\n",
       "      <td>NaN</td>\n",
       "    </tr>\n",
       "    <tr>\n",
       "      <th>20733</th>\n",
       "      <td>5.0</td>\n",
       "      <td>4.0</td>\n",
       "      <td>1.0</td>\n",
       "      <td>NaN</td>\n",
       "    </tr>\n",
       "    <tr>\n",
       "      <th>20734</th>\n",
       "      <td>5.0</td>\n",
       "      <td>4.0</td>\n",
       "      <td>1.0</td>\n",
       "      <td>NaN</td>\n",
       "    </tr>\n",
       "    <tr>\n",
       "      <th>20735</th>\n",
       "      <td>5.0</td>\n",
       "      <td>4.0</td>\n",
       "      <td>1.0</td>\n",
       "      <td>NaN</td>\n",
       "    </tr>\n",
       "  </tbody>\n",
       "</table>\n",
       "</div>"
      ],
      "text/plain": [
       "       Region  aglo - AGLOMERADO  v149a - LUGAR DE NACIMIENTO  \\\n",
       "20730     5.0                4.0                          1.0   \n",
       "20732     5.0                4.0                          1.0   \n",
       "20733     5.0                4.0                          1.0   \n",
       "20734     5.0                4.0                          1.0   \n",
       "20735     5.0                4.0                          1.0   \n",
       "\n",
       "       v149b_pcia PROVINCIA DE NACIMIENTO  \n",
       "20730                                 NaN  \n",
       "20732                                 NaN  \n",
       "20733                                 NaN  \n",
       "20734                                 NaN  \n",
       "20735                                 NaN  "
      ]
     },
     "execution_count": 184,
     "metadata": {},
     "output_type": "execute_result"
    }
   ],
   "source": [
    "print('Hay', ( (df[df.columns[2]]==4) & (df[df.columns[318]].isin([1,2])) &\n",
    "        (df[df.columns[319]].isna() ) ).sum(), 'registros NaN (variable provincia) que sabemos que son de Rosario.')\n",
    "\n",
    "print('Hay', ( (df[df.columns[2]]==4) & (df[df.columns[318]].isna() ) & \n",
    "                (df[df.columns[319]].isna() ) ).sum(),\n",
    "      'registros en Rosario que no sabemos el lugar ni provincia de nacimiento.')\n",
    "\n",
    "filtered_rows = df[(df[df.columns[2]]==4) & (df[df.columns[318]].isin([1, 2]))]\n",
    "filtered_rows[[df.columns[1], df.columns[2], df.columns[318], df.columns[319]]].head()\n",
    "filtered_rows.shape\n",
    "\n",
    "# Imputamos\n",
    "\n",
    "df.loc[ (df[df.columns[2]] == 4) & (df[df.columns[318]].isin([1,2])) &\n",
    "      (df[df.columns[319]].isna() )  , df.columns[319]] = 1\n",
    "\n",
    "((df[df.columns[2]]==4) & (df[df.columns[318]].isin([1, 2])) &\n",
    "                  (df[df.columns[319]].isna())).sum()\n",
    "\n",
    "filtered_rows[[df.columns[1], df.columns[2], df.columns[318], df.columns[319]]].head()\n",
    "\n"
   ]
  },
  {
   "cell_type": "code",
   "execution_count": 185,
   "id": "5beb7402",
   "metadata": {},
   "outputs": [
    {
     "name": "stdout",
     "output_type": "stream",
     "text": [
      "Hay 1499 registros NaN (variable provincia) que sabemos que son de Mendoza.\n",
      "Hay 11 registros en Mendoza que no sabemos el lugar ni provincia de nacimiento.\n"
     ]
    },
    {
     "data": {
      "text/html": [
       "<div>\n",
       "<style scoped>\n",
       "    .dataframe tbody tr th:only-of-type {\n",
       "        vertical-align: middle;\n",
       "    }\n",
       "\n",
       "    .dataframe tbody tr th {\n",
       "        vertical-align: top;\n",
       "    }\n",
       "\n",
       "    .dataframe thead th {\n",
       "        text-align: right;\n",
       "    }\n",
       "</style>\n",
       "<table border=\"1\" class=\"dataframe\">\n",
       "  <thead>\n",
       "    <tr style=\"text-align: right;\">\n",
       "      <th></th>\n",
       "      <th>Region</th>\n",
       "      <th>aglo - AGLOMERADO</th>\n",
       "      <th>v149a - LUGAR DE NACIMIENTO</th>\n",
       "      <th>v149b_pcia PROVINCIA DE NACIMIENTO</th>\n",
       "    </tr>\n",
       "  </thead>\n",
       "  <tbody>\n",
       "    <tr>\n",
       "      <th>958</th>\n",
       "      <td>3.0</td>\n",
       "      <td>5.0</td>\n",
       "      <td>1.0</td>\n",
       "      <td>NaN</td>\n",
       "    </tr>\n",
       "    <tr>\n",
       "      <th>959</th>\n",
       "      <td>3.0</td>\n",
       "      <td>5.0</td>\n",
       "      <td>2.0</td>\n",
       "      <td>NaN</td>\n",
       "    </tr>\n",
       "    <tr>\n",
       "      <th>960</th>\n",
       "      <td>3.0</td>\n",
       "      <td>5.0</td>\n",
       "      <td>2.0</td>\n",
       "      <td>NaN</td>\n",
       "    </tr>\n",
       "    <tr>\n",
       "      <th>961</th>\n",
       "      <td>3.0</td>\n",
       "      <td>5.0</td>\n",
       "      <td>2.0</td>\n",
       "      <td>NaN</td>\n",
       "    </tr>\n",
       "    <tr>\n",
       "      <th>962</th>\n",
       "      <td>3.0</td>\n",
       "      <td>5.0</td>\n",
       "      <td>2.0</td>\n",
       "      <td>NaN</td>\n",
       "    </tr>\n",
       "  </tbody>\n",
       "</table>\n",
       "</div>"
      ],
      "text/plain": [
       "     Region  aglo - AGLOMERADO  v149a - LUGAR DE NACIMIENTO  \\\n",
       "958     3.0                5.0                          1.0   \n",
       "959     3.0                5.0                          2.0   \n",
       "960     3.0                5.0                          2.0   \n",
       "961     3.0                5.0                          2.0   \n",
       "962     3.0                5.0                          2.0   \n",
       "\n",
       "     v149b_pcia PROVINCIA DE NACIMIENTO  \n",
       "958                                 NaN  \n",
       "959                                 NaN  \n",
       "960                                 NaN  \n",
       "961                                 NaN  \n",
       "962                                 NaN  "
      ]
     },
     "execution_count": 185,
     "metadata": {},
     "output_type": "execute_result"
    },
    {
     "data": {
      "text/plain": [
       "(1499, 417)"
      ]
     },
     "execution_count": 185,
     "metadata": {},
     "output_type": "execute_result"
    },
    {
     "data": {
      "text/plain": [
       "0"
      ]
     },
     "execution_count": 185,
     "metadata": {},
     "output_type": "execute_result"
    },
    {
     "data": {
      "text/html": [
       "<div>\n",
       "<style scoped>\n",
       "    .dataframe tbody tr th:only-of-type {\n",
       "        vertical-align: middle;\n",
       "    }\n",
       "\n",
       "    .dataframe tbody tr th {\n",
       "        vertical-align: top;\n",
       "    }\n",
       "\n",
       "    .dataframe thead th {\n",
       "        text-align: right;\n",
       "    }\n",
       "</style>\n",
       "<table border=\"1\" class=\"dataframe\">\n",
       "  <thead>\n",
       "    <tr style=\"text-align: right;\">\n",
       "      <th></th>\n",
       "      <th>Region</th>\n",
       "      <th>aglo - AGLOMERADO</th>\n",
       "      <th>v149a - LUGAR DE NACIMIENTO</th>\n",
       "      <th>v149b_pcia PROVINCIA DE NACIMIENTO</th>\n",
       "    </tr>\n",
       "  </thead>\n",
       "  <tbody>\n",
       "    <tr>\n",
       "      <th>958</th>\n",
       "      <td>3.0</td>\n",
       "      <td>5.0</td>\n",
       "      <td>1.0</td>\n",
       "      <td>NaN</td>\n",
       "    </tr>\n",
       "    <tr>\n",
       "      <th>959</th>\n",
       "      <td>3.0</td>\n",
       "      <td>5.0</td>\n",
       "      <td>2.0</td>\n",
       "      <td>NaN</td>\n",
       "    </tr>\n",
       "    <tr>\n",
       "      <th>960</th>\n",
       "      <td>3.0</td>\n",
       "      <td>5.0</td>\n",
       "      <td>2.0</td>\n",
       "      <td>NaN</td>\n",
       "    </tr>\n",
       "    <tr>\n",
       "      <th>961</th>\n",
       "      <td>3.0</td>\n",
       "      <td>5.0</td>\n",
       "      <td>2.0</td>\n",
       "      <td>NaN</td>\n",
       "    </tr>\n",
       "    <tr>\n",
       "      <th>962</th>\n",
       "      <td>3.0</td>\n",
       "      <td>5.0</td>\n",
       "      <td>2.0</td>\n",
       "      <td>NaN</td>\n",
       "    </tr>\n",
       "  </tbody>\n",
       "</table>\n",
       "</div>"
      ],
      "text/plain": [
       "     Region  aglo - AGLOMERADO  v149a - LUGAR DE NACIMIENTO  \\\n",
       "958     3.0                5.0                          1.0   \n",
       "959     3.0                5.0                          2.0   \n",
       "960     3.0                5.0                          2.0   \n",
       "961     3.0                5.0                          2.0   \n",
       "962     3.0                5.0                          2.0   \n",
       "\n",
       "     v149b_pcia PROVINCIA DE NACIMIENTO  \n",
       "958                                 NaN  \n",
       "959                                 NaN  \n",
       "960                                 NaN  \n",
       "961                                 NaN  \n",
       "962                                 NaN  "
      ]
     },
     "execution_count": 185,
     "metadata": {},
     "output_type": "execute_result"
    }
   ],
   "source": [
    "print('Hay', ( (df[df.columns[2]]==5) & (df[df.columns[318]].isin([1,2])) &\n",
    "        (df[df.columns[319]].isna() ) ).sum(), 'registros NaN (variable provincia) que sabemos que son de Mendoza.')\n",
    "\n",
    "print('Hay', ( (df[df.columns[2]]==5) & (df[df.columns[318]].isna() ) & \n",
    "                (df[df.columns[319]].isna() ) ).sum(),\n",
    "      'registros en Mendoza que no sabemos el lugar ni provincia de nacimiento.')\n",
    "\n",
    "filtered_rows = df[(df[df.columns[2]]==5) & (df[df.columns[318]].isin([1, 2]))]\n",
    "filtered_rows[[df.columns[1], df.columns[2], df.columns[318], df.columns[319]]].head()\n",
    "filtered_rows.shape\n",
    "\n",
    "# Imputamos\n",
    "df.loc[ (df[df.columns[2]] == 5) & (df[df.columns[318]].isin([1,2])) &\n",
    "      (df[df.columns[319]].isna() ) , df.columns[319]] = 1\n",
    "\n",
    "((df[df.columns[2]]==5) & (df[df.columns[318]].isin([1, 2])) &\n",
    "                  (df[df.columns[319]].isna())).sum()\n",
    "\n",
    "filtered_rows[[df.columns[1], df.columns[2], df.columns[318], df.columns[319]]].head()"
   ]
  },
  {
   "cell_type": "code",
   "execution_count": 186,
   "id": "86968c05",
   "metadata": {},
   "outputs": [
    {
     "name": "stdout",
     "output_type": "stream",
     "text": [
      "Quedan 16440 registros NaN en provincia de nacimiento\n"
     ]
    }
   ],
   "source": [
    "print('Quedan', df[df.columns[319]].isna().sum(), 'registros NaN en provincia de nacimiento')"
   ]
  },
  {
   "cell_type": "code",
   "execution_count": 187,
   "id": "cdafb494",
   "metadata": {},
   "outputs": [],
   "source": [
    "# PAIS DE NACIMIENTO"
   ]
  },
  {
   "cell_type": "code",
   "execution_count": 188,
   "id": "9cfdcf50",
   "metadata": {},
   "outputs": [
    {
     "data": {
      "text/plain": [
       "'v149a - LUGAR DE NACIMIENTO'"
      ]
     },
     "execution_count": 188,
     "metadata": {},
     "output_type": "execute_result"
    },
    {
     "data": {
      "text/plain": [
       "[1.0, 2.0, 3.0, nan, 4.0, 5.0]"
      ]
     },
     "execution_count": 188,
     "metadata": {},
     "output_type": "execute_result"
    },
    {
     "data": {
      "text/plain": [
       "'v149b_pcia PROVINCIA DE NACIMIENTO'"
      ]
     },
     "execution_count": 188,
     "metadata": {},
     "output_type": "execute_result"
    },
    {
     "data": {
      "text/plain": [
       "[nan,\n",
       " 1.0,\n",
       " 2.0,\n",
       " 3.0,\n",
       " 4.0,\n",
       " 5.0,\n",
       " 6.0,\n",
       " 7.0,\n",
       " 8.0,\n",
       " 9.0,\n",
       " 10.0,\n",
       " 11.0,\n",
       " 12.0,\n",
       " 13.0,\n",
       " 14.0,\n",
       " 15.0,\n",
       " 16.0,\n",
       " 17.0,\n",
       " 18.0,\n",
       " 19.0,\n",
       " 20.0,\n",
       " 21.0,\n",
       " 22.0,\n",
       " 23.0,\n",
       " 24.0]"
      ]
     },
     "execution_count": 188,
     "metadata": {},
     "output_type": "execute_result"
    },
    {
     "data": {
      "text/plain": [
       "'v150 - PAIS DE NACIMIENTO'"
      ]
     },
     "execution_count": 188,
     "metadata": {},
     "output_type": "execute_result"
    },
    {
     "data": {
      "text/plain": [
       "[nan, 1.0, 2.0, 3.0, 4.0, 5.0, 6.0, 7.0]"
      ]
     },
     "execution_count": 188,
     "metadata": {},
     "output_type": "execute_result"
    },
    {
     "data": {
      "text/plain": [
       "'v150b_pais - PAIS DE NACIMIENTO'"
      ]
     },
     "execution_count": 188,
     "metadata": {},
     "output_type": "execute_result"
    },
    {
     "data": {
      "text/plain": [
       "[nan, 37.0, 38.0, 39.0, 41.0, 46.0]"
      ]
     },
     "execution_count": 188,
     "metadata": {},
     "output_type": "execute_result"
    }
   ],
   "source": [
    "df.columns[318]\n",
    "sorted(df[df.columns[318]].unique()) # LUGAR DE NACIMIENTO\n",
    "df.columns[319]\n",
    "sorted(df[df.columns[319]].unique())  # PROVINCIAS\n",
    "df.columns[320]\n",
    "sorted(df[df.columns[320]].unique()) # PAIS DE NACIMIENTO\n",
    "df.columns[321]\n",
    "sorted(df[df.columns[321]].unique()) # PAIS DE NACIMIENTO_B"
   ]
  },
  {
   "cell_type": "code",
   "execution_count": 189,
   "id": "959fce70",
   "metadata": {},
   "outputs": [
    {
     "data": {
      "text/plain": [
       "'v150 - PAIS DE NACIMIENTO'"
      ]
     },
     "execution_count": 189,
     "metadata": {},
     "output_type": "execute_result"
    },
    {
     "data": {
      "text/plain": [
       "[nan, 1.0, 2.0, 3.0, 4.0, 5.0, 6.0, 7.0]"
      ]
     },
     "execution_count": 189,
     "metadata": {},
     "output_type": "execute_result"
    }
   ],
   "source": [
    "df.columns[320]\n",
    "sorted(df[df.columns[320]].unique())\n",
    "# 1 Paraguay \n",
    "# 2 Bolivia \n",
    "# 3 Uruguay\n",
    "# 4 Chile\n",
    "# 5 Perú\n",
    "# 6 Otros países sudamericanos \n",
    "# 7 Otros países"
   ]
  },
  {
   "cell_type": "code",
   "execution_count": 190,
   "id": "20d006ac",
   "metadata": {},
   "outputs": [
    {
     "data": {
      "text/plain": [
       "0"
      ]
     },
     "execution_count": 190,
     "metadata": {},
     "output_type": "execute_result"
    }
   ],
   "source": [
    "# TODAS LAS PERSONAS QUE NACIERON EN OTRO PAÍS DECLARARON EN QUÉ PAIS NACIERON\n",
    "\n",
    "# filtered_rows = df[ (df[df.columns[318]].isin([4,5]))]\n",
    "# filtered_rows[[df.columns[318], df.columns[320]]]\n",
    "filtered_rows = df[ (df[df.columns[318]].isin([4,5])) & (df[df.columns[320]].isna())]\n",
    "# filtered_rows[[df.columns[318], df.columns[320]]]\n",
    "filtered_rows.shape[0]"
   ]
  },
  {
   "cell_type": "code",
   "execution_count": 191,
   "id": "27b695a8",
   "metadata": {},
   "outputs": [
    {
     "name": "stdout",
     "output_type": "stream",
     "text": [
      "Hay 722 registros que nacieron en paises limítrofes u otros paises - variable Lugar de Nacimiento.\n",
      "De estos, 14 nacieron en otros paises sudamericanos u otros paises - variable Pais de Nacimiento.\n",
      "(Los 14 registros tienen completa la variable Lugar de Nacimiento).\n"
     ]
    }
   ],
   "source": [
    "# Registros que nacieron en otro país (4 y 5 en v149 Lugar de nacimiento)\n",
    "# y que nacieron en otros paises (6 y 7 en v150 Pais de nacimiento)\n",
    "\n",
    "filtered_rows = df[ (df[df.columns[318]].isin([4,5]))]\n",
    "print('Hay', filtered_rows.shape[0], 'registros que nacieron en paises limítrofes u otros paises - variable Lugar de Nacimiento.')\n",
    "\n",
    "filtered_rows = df[ (df[df.columns[318]].isin([4,5])) & (df[df.columns[320]].isin([6, 7]))]\n",
    "print('De estos,', filtered_rows.shape[0], 'nacieron en otros paises sudamericanos u otros paises - variable Pais de Nacimiento.')\n",
    "\n",
    "filtered_rows = df[ (df[df.columns[320]].isin([6, 7])) ]\n",
    "print('(Los', filtered_rows.shape[0], 'registros tienen completa la variable Lugar de Nacimiento).')"
   ]
  },
  {
   "cell_type": "code",
   "execution_count": 192,
   "id": "faa0573d",
   "metadata": {},
   "outputs": [
    {
     "data": {
      "text/plain": [
       "'v150b_pais - PAIS DE NACIMIENTO'"
      ]
     },
     "execution_count": 192,
     "metadata": {},
     "output_type": "execute_result"
    },
    {
     "data": {
      "text/plain": [
       "[nan, 37.0, 38.0, 39.0, 41.0, 46.0]"
      ]
     },
     "execution_count": 192,
     "metadata": {},
     "output_type": "execute_result"
    }
   ],
   "source": [
    "# Reemplazo 6 y 7 con nuevos codigos de paises (v150b pais de nacimiento)\n",
    "\n",
    "df.columns[321]\n",
    "sorted(df[df.columns[321]].unique())\n",
    "# 37 Ecuador  -----> 6\n",
    "# 38 España   -----> 7\n",
    "# 39 Estados Unidos    -----> 8\n",
    "# 41 Italia  -----> 9\n",
    "# 46 Rusia   -----> 10\n",
    "\n",
    "old= list(df[df.columns[321]].unique())\n",
    "new= list(range(6,11))"
   ]
  },
  {
   "cell_type": "code",
   "execution_count": 193,
   "id": "f38e493c",
   "metadata": {},
   "outputs": [],
   "source": [
    "# df.loc[ (df[df.columns[2]] == 5) & \n",
    "#        (df[df.columns[318]].isin([1,2])) &\n",
    "#       (df[df.columns[319]].isna() ) , df.columns[319]] = 1"
   ]
  },
  {
   "cell_type": "code",
   "execution_count": 194,
   "id": "411ca8f4",
   "metadata": {},
   "outputs": [
    {
     "data": {
      "text/plain": [
       "{37.0: 6, 38.0: 7, 39.0: 8, 41.0: 9, 46.0: 10}"
      ]
     },
     "execution_count": 194,
     "metadata": {},
     "output_type": "execute_result"
    }
   ],
   "source": [
    "old= sorted(list(df[df.columns[321]].unique())[1:])\n",
    "new= list(range(6,11))\n",
    "# Create a dictionary to map old values to new values\n",
    "value_map = dict(zip(old, new))\n",
    "value_map"
   ]
  },
  {
   "cell_type": "code",
   "execution_count": 195,
   "id": "c1a6f3ae",
   "metadata": {},
   "outputs": [],
   "source": [
    "# Update values in column 320 based on values in column 321\n",
    "for old_value, new_value in value_map.items():\n",
    "    df.loc[ df[df.columns[321]] == old_value, df.columns[320]] = new_value"
   ]
  },
  {
   "cell_type": "code",
   "execution_count": 196,
   "id": "a61a4ba6",
   "metadata": {},
   "outputs": [
    {
     "data": {
      "text/html": [
       "<div>\n",
       "<style scoped>\n",
       "    .dataframe tbody tr th:only-of-type {\n",
       "        vertical-align: middle;\n",
       "    }\n",
       "\n",
       "    .dataframe tbody tr th {\n",
       "        vertical-align: top;\n",
       "    }\n",
       "\n",
       "    .dataframe thead th {\n",
       "        text-align: right;\n",
       "    }\n",
       "</style>\n",
       "<table border=\"1\" class=\"dataframe\">\n",
       "  <thead>\n",
       "    <tr style=\"text-align: right;\">\n",
       "      <th></th>\n",
       "      <th>v149a - LUGAR DE NACIMIENTO</th>\n",
       "      <th>v150 - PAIS DE NACIMIENTO</th>\n",
       "      <th>v150b_pais - PAIS DE NACIMIENTO</th>\n",
       "    </tr>\n",
       "  </thead>\n",
       "  <tbody>\n",
       "    <tr>\n",
       "      <th>1135</th>\n",
       "      <td>5.0</td>\n",
       "      <td>7.0</td>\n",
       "      <td>38.0</td>\n",
       "    </tr>\n",
       "    <tr>\n",
       "      <th>1149</th>\n",
       "      <td>5.0</td>\n",
       "      <td>6.0</td>\n",
       "      <td>37.0</td>\n",
       "    </tr>\n",
       "    <tr>\n",
       "      <th>1194</th>\n",
       "      <td>5.0</td>\n",
       "      <td>8.0</td>\n",
       "      <td>39.0</td>\n",
       "    </tr>\n",
       "    <tr>\n",
       "      <th>1254</th>\n",
       "      <td>5.0</td>\n",
       "      <td>7.0</td>\n",
       "      <td>38.0</td>\n",
       "    </tr>\n",
       "    <tr>\n",
       "      <th>1284</th>\n",
       "      <td>5.0</td>\n",
       "      <td>7.0</td>\n",
       "      <td>38.0</td>\n",
       "    </tr>\n",
       "    <tr>\n",
       "      <th>1840</th>\n",
       "      <td>5.0</td>\n",
       "      <td>7.0</td>\n",
       "      <td>38.0</td>\n",
       "    </tr>\n",
       "    <tr>\n",
       "      <th>1879</th>\n",
       "      <td>5.0</td>\n",
       "      <td>7.0</td>\n",
       "      <td>38.0</td>\n",
       "    </tr>\n",
       "    <tr>\n",
       "      <th>7644</th>\n",
       "      <td>5.0</td>\n",
       "      <td>7.0</td>\n",
       "      <td>38.0</td>\n",
       "    </tr>\n",
       "    <tr>\n",
       "      <th>11378</th>\n",
       "      <td>5.0</td>\n",
       "      <td>8.0</td>\n",
       "      <td>39.0</td>\n",
       "    </tr>\n",
       "    <tr>\n",
       "      <th>17546</th>\n",
       "      <td>5.0</td>\n",
       "      <td>10.0</td>\n",
       "      <td>46.0</td>\n",
       "    </tr>\n",
       "    <tr>\n",
       "      <th>18251</th>\n",
       "      <td>5.0</td>\n",
       "      <td>7.0</td>\n",
       "      <td>38.0</td>\n",
       "    </tr>\n",
       "    <tr>\n",
       "      <th>20899</th>\n",
       "      <td>5.0</td>\n",
       "      <td>9.0</td>\n",
       "      <td>41.0</td>\n",
       "    </tr>\n",
       "    <tr>\n",
       "      <th>23678</th>\n",
       "      <td>5.0</td>\n",
       "      <td>7.0</td>\n",
       "      <td>38.0</td>\n",
       "    </tr>\n",
       "    <tr>\n",
       "      <th>23679</th>\n",
       "      <td>5.0</td>\n",
       "      <td>7.0</td>\n",
       "      <td>38.0</td>\n",
       "    </tr>\n",
       "  </tbody>\n",
       "</table>\n",
       "</div>"
      ],
      "text/plain": [
       "       v149a - LUGAR DE NACIMIENTO  v150 - PAIS DE NACIMIENTO  \\\n",
       "1135                           5.0                        7.0   \n",
       "1149                           5.0                        6.0   \n",
       "1194                           5.0                        8.0   \n",
       "1254                           5.0                        7.0   \n",
       "1284                           5.0                        7.0   \n",
       "1840                           5.0                        7.0   \n",
       "1879                           5.0                        7.0   \n",
       "7644                           5.0                        7.0   \n",
       "11378                          5.0                        8.0   \n",
       "17546                          5.0                       10.0   \n",
       "18251                          5.0                        7.0   \n",
       "20899                          5.0                        9.0   \n",
       "23678                          5.0                        7.0   \n",
       "23679                          5.0                        7.0   \n",
       "\n",
       "       v150b_pais - PAIS DE NACIMIENTO  \n",
       "1135                              38.0  \n",
       "1149                              37.0  \n",
       "1194                              39.0  \n",
       "1254                              38.0  \n",
       "1284                              38.0  \n",
       "1840                              38.0  \n",
       "1879                              38.0  \n",
       "7644                              38.0  \n",
       "11378                             39.0  \n",
       "17546                             46.0  \n",
       "18251                             38.0  \n",
       "20899                             41.0  \n",
       "23678                             38.0  \n",
       "23679                             38.0  "
      ]
     },
     "execution_count": 196,
     "metadata": {},
     "output_type": "execute_result"
    }
   ],
   "source": [
    "filtered_rows = df[ (df[df.columns[320]].isin(new)) ]\n",
    "filtered_rows[[df.columns[318], df.columns[320], df.columns[321]]]"
   ]
  },
  {
   "cell_type": "code",
   "execution_count": 197,
   "id": "6fc477b7",
   "metadata": {},
   "outputs": [
    {
     "data": {
      "text/plain": [
       "'v151 - AÑO DE LLEGADA A LA ARGENTINA'"
      ]
     },
     "execution_count": 197,
     "metadata": {},
     "output_type": "execute_result"
    }
   ],
   "source": [
    "df = df.drop(df.columns[321], axis=1)\n",
    "df.columns[321]"
   ]
  },
  {
   "cell_type": "code",
   "execution_count": 198,
   "id": "506a6264",
   "metadata": {},
   "outputs": [
    {
     "data": {
      "text/plain": [
       "Index(['v149a - LUGAR DE NACIMIENTO', 'v149b_pcia PROVINCIA DE NACIMIENTO',\n",
       "       'v150 - PAIS DE NACIMIENTO', 'v151 - AÑO DE LLEGADA A LA ARGENTINA'],\n",
       "      dtype='object')"
      ]
     },
     "execution_count": 198,
     "metadata": {},
     "output_type": "execute_result"
    }
   ],
   "source": [
    "df.columns[318:322]"
   ]
  },
  {
   "cell_type": "code",
   "execution_count": 199,
   "id": "cb37b05c",
   "metadata": {},
   "outputs": [
    {
     "data": {
      "text/plain": [
       "Index(['v151 - AÑO DE LLEGADA A LA ARGENTINA',\n",
       "       'v152a - LUGAR DE RESIDENCIA HACE 5 AÑOS',\n",
       "       'v152b_lugar - PROVINCIA O PAIS DE RESIDENCIA HACE 5 AÑOS'],\n",
       "      dtype='object')"
      ]
     },
     "execution_count": 199,
     "metadata": {},
     "output_type": "execute_result"
    }
   ],
   "source": [
    "df.columns[321:324]"
   ]
  },
  {
   "cell_type": "code",
   "execution_count": 200,
   "id": "ca58f684",
   "metadata": {},
   "outputs": [
    {
     "data": {
      "text/plain": [
       "'v149a - LUGAR DE NACIMIENTO'"
      ]
     },
     "execution_count": 200,
     "metadata": {},
     "output_type": "execute_result"
    },
    {
     "name": "stdout",
     "output_type": "stream",
     "text": [
      "Registros que nacieron en Argentina: 26433\n"
     ]
    },
    {
     "data": {
      "text/plain": [
       "array([nan,  3.,  4.,  1.,  5.,  2.,  7.,  6.,  8., 10.,  9.])"
      ]
     },
     "execution_count": 200,
     "metadata": {},
     "output_type": "execute_result"
    },
    {
     "name": "stdout",
     "output_type": "stream",
     "text": [
      "Registros que nacieron en otro pais: 722\n"
     ]
    }
   ],
   "source": [
    "df.columns[318]\n",
    "# 1 En esta localidad\n",
    "# 2 En otra localidad de esta provincia\n",
    "# 3 En otra provincia\n",
    "\n",
    "filtered_rows = df[ (df[df.columns[318]].isin([1,2,3])) ]\n",
    "# filtered_rows[[df.columns[318], df.columns[320], df.columns[321]]]\n",
    "print('Registros que nacieron en Argentina:', filtered_rows.shape[0])\n",
    "\n",
    "df[df.columns[320]].unique()\n",
    "# 1 Paraguay\n",
    "# 2 Bolivia\n",
    "# 3 Uruguay\n",
    "# 4 Chile\n",
    "# 5 Perú \n",
    "# 6 Ecuador\n",
    "# 7 España\n",
    "# 8 Estados Unidos\n",
    "# 9 Italia\n",
    "# 10 Rusia\n",
    "\n",
    "pais= list(range(1,11))\n",
    "filtered_rows = df[ (df[df.columns[320]].isin(pais)) ]\n",
    "print('Registros que nacieron en otro pais:', filtered_rows.shape[0])"
   ]
  },
  {
   "cell_type": "code",
   "execution_count": 201,
   "id": "61844306",
   "metadata": {},
   "outputs": [
    {
     "data": {
      "text/plain": [
       "'v150 - PAIS DE NACIMIENTO'"
      ]
     },
     "execution_count": 201,
     "metadata": {},
     "output_type": "execute_result"
    },
    {
     "name": "stdout",
     "output_type": "stream",
     "text": [
      "Registros con dato en pais de nacimiento: 722\n",
      "Registros NaN en pais de nacimiento: 26898\n"
     ]
    },
    {
     "data": {
      "text/plain": [
       "'v149a - LUGAR DE NACIMIENTO'"
      ]
     },
     "execution_count": 201,
     "metadata": {},
     "output_type": "execute_result"
    },
    {
     "data": {
      "text/plain": [
       "465"
      ]
     },
     "execution_count": 201,
     "metadata": {},
     "output_type": "execute_result"
    }
   ],
   "source": [
    "df.columns[320]\n",
    "print('Registros con dato en pais de nacimiento:', df[df.columns[320]].isin(pais).sum())\n",
    "print('Registros NaN en pais de nacimiento:', df[df.columns[320]].isna().sum())\n",
    "\n",
    "df.columns[318]\n",
    "df.loc[df[df.columns[318]].isin([1,2,3]), df.columns[320]] = 11\n",
    "\n",
    "# 11 Argentina\n",
    "\n",
    "df[df.columns[320]].isna().sum()"
   ]
  },
  {
   "cell_type": "code",
   "execution_count": 202,
   "id": "e4c3496a",
   "metadata": {},
   "outputs": [
    {
     "data": {
      "text/plain": [
       "'v152a - LUGAR DE RESIDENCIA HACE 5 AÑOS'"
      ]
     },
     "execution_count": 202,
     "metadata": {},
     "output_type": "execute_result"
    },
    {
     "data": {
      "text/plain": [
       "[3, 4, 5]"
      ]
     },
     "execution_count": 202,
     "metadata": {},
     "output_type": "execute_result"
    },
    {
     "data": {
      "text/plain": [
       "[nan,\n",
       " 1.0,\n",
       " 2.0,\n",
       " 3.0,\n",
       " 4.0,\n",
       " 5.0,\n",
       " 6.0,\n",
       " 7.0,\n",
       " 8.0,\n",
       " 9.0,\n",
       " 11.0,\n",
       " 12.0,\n",
       " 13.0,\n",
       " 14.0,\n",
       " 15.0,\n",
       " 16.0,\n",
       " 17.0,\n",
       " 18.0,\n",
       " 20.0,\n",
       " 21.0,\n",
       " 22.0,\n",
       " 24.0,\n",
       " 31.0,\n",
       " 32.0,\n",
       " 33.0,\n",
       " 34.0,\n",
       " 35.0,\n",
       " 36.0,\n",
       " 37.0,\n",
       " 38.0,\n",
       " 39.0,\n",
       " 40.0,\n",
       " 41.0,\n",
       " 42.0,\n",
       " 43.0,\n",
       " 44.0,\n",
       " 45.0,\n",
       " 47.0,\n",
       " 48.0,\n",
       " 49.0,\n",
       " 50.0]"
      ]
     },
     "execution_count": 202,
     "metadata": {},
     "output_type": "execute_result"
    }
   ],
   "source": [
    "df.columns[322]\n",
    "# 1 En esta localidad\n",
    "# 2 En otra localidad de esta provincia\n",
    "# 3 En otra provincia\n",
    "# 4 Países limítrofes\n",
    "# 5 Otros países\n",
    "\n",
    "lugar_ = list(range(3,6))\n",
    "lugar_\n",
    "\n",
    "sorted(df[df.columns[323]].unique())\n",
    "\n",
    "# 31 Angola ---> 1\n",
    "# 32 Bolivia ---> 2\n",
    "# 33 Brasil ---> 3\n",
    "# 34 Colombia ---> 4\n",
    "# 35 Chile ---> 5\n",
    "# 36 Cuba ---> 6\n",
    "# 37 Ecuador ---> 7\n",
    "# 38 España ---> 8\n",
    "# 39 Estados Unidos ---> 9\n",
    "# 40 India ---> 10\n",
    "# 41 Italia ---> 11\n",
    "# 42 Méjico ---> 12\n",
    "# 43 Paraguay ---> 13\n",
    "# 44 Perú ---> 14\n",
    "# 45 Puerto Rico ---> 15\n",
    "# 47 Suiza ---> 16\n",
    "# 48 Trinidad y Tobago ---> 17\n",
    "# 49 Uruguay ---> 18\n",
    "# 50 Venezuela ---> 19"
   ]
  },
  {
   "cell_type": "code",
   "execution_count": 203,
   "id": "fb95407a",
   "metadata": {},
   "outputs": [
    {
     "data": {
      "text/plain": [
       "{31.0: 1,\n",
       " 32.0: 2,\n",
       " 33.0: 3,\n",
       " 34.0: 4,\n",
       " 35.0: 5,\n",
       " 36.0: 6,\n",
       " 37.0: 7,\n",
       " 38.0: 8,\n",
       " 39.0: 9,\n",
       " 40.0: 10,\n",
       " 41.0: 11,\n",
       " 42.0: 12,\n",
       " 43.0: 13,\n",
       " 44.0: 14,\n",
       " 45.0: 15,\n",
       " 47.0: 16,\n",
       " 48.0: 17,\n",
       " 49.0: 18,\n",
       " 50.0: 19}"
      ]
     },
     "execution_count": 203,
     "metadata": {},
     "output_type": "execute_result"
    }
   ],
   "source": [
    "old= sorted(list(df[df.columns[323]].unique()))[22:]\n",
    "new= list(range(1,20))\n",
    "\n",
    "# Create a dictionary to map old values to new values\n",
    "value_map = dict(zip(old, new))\n",
    "value_map"
   ]
  },
  {
   "cell_type": "code",
   "execution_count": 204,
   "id": "985167e9",
   "metadata": {},
   "outputs": [
    {
     "data": {
      "text/plain": [
       "'v152b_lugar - PROVINCIA O PAIS DE RESIDENCIA HACE 5 AÑOS'"
      ]
     },
     "execution_count": 204,
     "metadata": {},
     "output_type": "execute_result"
    }
   ],
   "source": [
    "df.columns[323]"
   ]
  },
  {
   "cell_type": "code",
   "execution_count": 205,
   "id": "f4aa2de2",
   "metadata": {},
   "outputs": [],
   "source": [
    "# Creo la variable 'PAIS DE RESIDENCIA HACE 5 AÑOS'\n",
    "df['PAIS DE RESIDENCIA HACE 5 AÑOS'] = np.nan\n",
    "# df.columns[-1]"
   ]
  },
  {
   "cell_type": "code",
   "execution_count": 206,
   "id": "2a1a5bd9",
   "metadata": {},
   "outputs": [],
   "source": [
    "# Le asigno los valores en base a la columna 323\n",
    "for old_value, new_value in value_map.items():\n",
    "    df.loc[ df[df.columns[323]] == old_value, df.columns[-1]] = new_value"
   ]
  },
  {
   "cell_type": "code",
   "execution_count": 207,
   "id": "4d2a46f5",
   "metadata": {},
   "outputs": [],
   "source": [
    "filtered_rows = df[ (df[df.columns[323]].isin(old)) ]\n",
    "# filtered_rows[[df.columns[322], df.columns[323], df.columns[-1]]]"
   ]
  },
  {
   "cell_type": "code",
   "execution_count": 208,
   "id": "dd64380a",
   "metadata": {},
   "outputs": [
    {
     "data": {
      "text/plain": [
       "[1.0,\n",
       " 2.0,\n",
       " 3.0,\n",
       " 4.0,\n",
       " 5.0,\n",
       " 6.0,\n",
       " 7.0,\n",
       " 8.0,\n",
       " 9.0,\n",
       " 11.0,\n",
       " 12.0,\n",
       " 13.0,\n",
       " 14.0,\n",
       " 15.0,\n",
       " 16.0,\n",
       " 17.0,\n",
       " 18.0,\n",
       " 20.0,\n",
       " 21.0,\n",
       " 22.0,\n",
       " 24.0]"
      ]
     },
     "execution_count": 208,
     "metadata": {},
     "output_type": "execute_result"
    }
   ],
   "source": [
    "sorted(df[df.columns[323]].unique())[1:22]\n",
    "# 1 Buenos Aires\n",
    "# 2 Catamarca\n",
    "# 3 Córdoba\n",
    "# 4 Capital Federal\n",
    "# 5 Corrientes\n",
    "# 6 Chaco\n",
    "# 7 Chubut\n",
    "# 8 Entre Ríos\n",
    "# 9 Formosa\n",
    "# 10 Jujuy --> NO HAY REGISTROS\n",
    "# 11 La Pampa\n",
    "# 12 La Rioja\n",
    "# 13 Mendoza \n",
    "# 14 Misiones\n",
    "# 15 Neuquén\n",
    "# 16 Río Negro\n",
    "# 17 Salta\n",
    "# 18 Santa Cruz\n",
    "# 19 Santiago Del Estero --> NO HAY REGISTROS\n",
    "# 20 Santa Fe\n",
    "# 21 San Juan\n",
    "# 22 San Luis\n",
    "# 23 Tierra Del Fuego  --> NO HAY REGISTROS\n",
    "# 24 Tucumán"
   ]
  },
  {
   "cell_type": "code",
   "execution_count": 209,
   "id": "cf4e65b6",
   "metadata": {},
   "outputs": [],
   "source": [
    "old= sorted(df[df.columns[323]].unique())[1:22]"
   ]
  },
  {
   "cell_type": "code",
   "execution_count": 210,
   "id": "412e7843",
   "metadata": {},
   "outputs": [],
   "source": [
    "# Le asigno los valores en base a la columna 323\n",
    "for old_value, new_value in value_map.items():\n",
    "    df.loc[ df[df.columns[323]] == old_value, df.columns[-1]] = 20"
   ]
  },
  {
   "cell_type": "code",
   "execution_count": 211,
   "id": "49c9f3df",
   "metadata": {},
   "outputs": [],
   "source": [
    "filtered_rows = df[ (df[df.columns[323]].isin(old)) ]\n",
    "# filtered_rows[[df.columns[322], df.columns[323], df.columns[-1]]]"
   ]
  },
  {
   "cell_type": "code",
   "execution_count": 212,
   "id": "eae4491c",
   "metadata": {},
   "outputs": [
    {
     "data": {
      "text/plain": [
       "27528"
      ]
     },
     "execution_count": 212,
     "metadata": {},
     "output_type": "execute_result"
    },
    {
     "data": {
      "text/plain": [
       "'v152b_lugar - PROVINCIA O PAIS DE RESIDENCIA HACE 5 AÑOS'"
      ]
     },
     "execution_count": 212,
     "metadata": {},
     "output_type": "execute_result"
    }
   ],
   "source": [
    "filtered_rows = df[ df[df.columns[-1]].isna() ]\n",
    "# filtered_rows[[df.columns[322], df.columns[323], df.columns[-1]]]\n",
    "filtered_rows.shape[0]\n",
    "df.columns[323]"
   ]
  },
  {
   "cell_type": "code",
   "execution_count": 213,
   "id": "41b955e3",
   "metadata": {},
   "outputs": [],
   "source": [
    "df.loc[ df[df.columns[322]].isin([1, 2]),  df.columns[-1]] = 20\n"
   ]
  },
  {
   "cell_type": "code",
   "execution_count": 214,
   "id": "e27e4f65",
   "metadata": {},
   "outputs": [
    {
     "name": "stdout",
     "output_type": "stream",
     "text": [
      "Hay 542 registros que hace 5 residian en otra provincia o pais pero no se especifica en cual.\n",
      "Hay 3350 registros de los que no se sabe en que país residían hace 5 años.\n"
     ]
    }
   ],
   "source": [
    "filtered_rows = df[ (df[df.columns[-1]].isna()) & (df[df.columns[322]].notna()) ]\n",
    "# filtered_rows[[df.columns[322], df.columns[323], df.columns[-1]]]\n",
    "print('Hay', filtered_rows.shape[0], 'registros que hace 5 residian en otra provincia o pais pero no se especifica en cual.')\n",
    "\n",
    "filtered_rows = df[ df[df.columns[-1]].isna() ]\n",
    "print('Hay', filtered_rows.shape[0], 'registros de los que no se sabe en que país residían hace 5 años.')"
   ]
  },
  {
   "cell_type": "code",
   "execution_count": 215,
   "id": "dc9b9878",
   "metadata": {},
   "outputs": [],
   "source": [
    "cols = list(df.columns[:324]) + list(df.columns[-1:]) + list(df.columns[324:-1])\n",
    "df= df[cols]\n",
    "# df.columns"
   ]
  },
  {
   "cell_type": "code",
   "execution_count": 216,
   "id": "e761bf44",
   "metadata": {},
   "outputs": [
    {
     "data": {
      "text/plain": [
       "'estrato_U - ESTRATO DE LA UNIDAD PRIMARIA'"
      ]
     },
     "execution_count": 216,
     "metadata": {},
     "output_type": "execute_result"
    },
    {
     "data": {
      "text/plain": [
       "1.0"
      ]
     },
     "execution_count": 216,
     "metadata": {},
     "output_type": "execute_result"
    },
    {
     "data": {
      "text/plain": [
       "268.0"
      ]
     },
     "execution_count": 216,
     "metadata": {},
     "output_type": "execute_result"
    },
    {
     "data": {
      "text/plain": [
       "1.0"
      ]
     },
     "execution_count": 216,
     "metadata": {},
     "output_type": "execute_result"
    },
    {
     "data": {
      "text/plain": [
       "984.0"
      ]
     },
     "execution_count": 216,
     "metadata": {},
     "output_type": "execute_result"
    }
   ],
   "source": [
    "## averiguar que es cod_U (Codigo de la unidad primaria)\n",
    "df.columns[4]\n",
    "df[df.columns[4]].min()\n",
    "df[df.columns[4]].max()\n",
    "# sorted(df[df.columns[4]].unique())\n",
    "\n",
    "## averiguar que es el estrato de la unidad primaria\n",
    "df[df.columns[5]].min()\n",
    "df[df.columns[5]].max()\n",
    "# sorted(df[df.columns[5]].unique())"
   ]
  },
  {
   "cell_type": "code",
   "execution_count": 217,
   "id": "694c9433",
   "metadata": {},
   "outputs": [
    {
     "name": "stdout",
     "output_type": "stream",
     "text": [
      "Actividades del hogar (PARA TODOS LOS MIEMBROS DE 5 AÑOS Y MÁS)\n"
     ]
    },
    {
     "data": {
      "text/plain": [
       "Index(['v153 - LIMPIAR U ORDENAR LA CASA DURANTE LA SEMANA PASADA',\n",
       "       'v154 - PLANCHAR DURANTE LA SEMANA PASADA',\n",
       "       'v155 - HACER COMIDA DURANTE LA SEMANA PASADA',\n",
       "       'v156 - TAREAS DE CONSTRUCCIÓN O REFACCIÓN DE LA VIVIENDA PROPIA DURANTE LA SEMANA PASADA',\n",
       "       'v157 - TAREAS DE CULTIVO Y COSECHA DE PRODUCTOS AGRÍCOLAS O DE HUERTA DURANTE LA SEMANA PASADA',\n",
       "       'v158 - TAREAS DE CUIDADO DE ANIMALES PARA EL CONSUMO DEL HOGAR DURANTE LA SEMANA PASADA',\n",
       "       'v159 - CUIDAR A LXS NIÑXS O HERMANXS MENORES DURANTE LA SEMANA PASADA',\n",
       "       'v160 - CUIDAR A DISCAPACITADOS O ADULTOS MAYORES DURANTE LA SEMANA PASADA',\n",
       "       'v161 - HACER COMPRAS DURANTE LA SEMANA PASADA',\n",
       "       'v162 - HACER TRÁMITES O PAGOS DURANTE LA SEMANA PASADA',\n",
       "       'v163 - CANTIDAD DE HORAS DEDICADAS A LAS ACTIVIDADES DE LA CASA MENCIONADAS',\n",
       "       'v164 - A CARGO DE LA MAYOR PARTE DE LAS TAREAS DE LA CASA'],\n",
       "      dtype='object')"
      ]
     },
     "execution_count": 217,
     "metadata": {},
     "output_type": "execute_result"
    },
    {
     "name": "stdout",
     "output_type": "stream",
     "text": [
      "Trabajo infantil (PARA NIÑOS/AS ENTRE 5 Y 17 AÑOS)\n"
     ]
    },
    {
     "data": {
      "text/plain": [
       "Index(['v165 - AYUDAR A UN FAMILIAR O CONOCIDO EN UN TRABAJO O HACER ALGUNA ACTIVIDAD POR SU CUENTA DURANTE LA SEMANA PASADA',\n",
       "       'v166 - PERSONA PARA LA CUAL SE REALIZÓ LA ACTIVIDAD DURANTE LA SEMANA PASADA',\n",
       "       'v167 - CANTIDAD DE HORAS DEDICADAS A LA ACTIVIDAD DURANTE LA SEMANA PASADA',\n",
       "       'v168 - LUGAR DONDE SE REALIZÓ LA ACTIVIDAD DURANTE LA SEMANA PASADA',\n",
       "       'v169 - AYUDAR A UN FAMILIAR O CONOCIDO EN UN TRABAJO O HACER ALGUNA ACTIVIDAD POR SU CUENTA DURANTE EL AÑO PASADO',\n",
       "       'v170 - PERSONA PARA LA CUAL SE REALIZÓ LA ACTIVIDAD DURANTE EL AÑO PASADO'],\n",
       "      dtype='object')"
      ]
     },
     "execution_count": 217,
     "metadata": {},
     "output_type": "execute_result"
    },
    {
     "name": "stdout",
     "output_type": "stream",
     "text": [
      "Trabajo (PARA TODOS LOS MIEMBROS DE 10 AÑOS Y MÁS)\n"
     ]
    },
    {
     "data": {
      "text/plain": [
       "Index(['v171 - TRABAJÓ AL MENOS UNA HORA LA SEMANA PASADA',\n",
       "       'v172 - HIZO ALGUNA CHANGA, FABRICÓ ALGO PARA VENDER, AYUDÓ A ALGUIEN EN UN NEGOCIO LA SEMANA PASADA',\n",
       "       'v173 - PAGÓ EN DINERO O EN ESPECIES POR EL TRABAJO',\n",
       "       'v174 - MOTIVO POR EL QUE NO CONCURRIÓ A SU TRABAJO TRANSITORIAMENTE LA SEMANA PASADA',\n",
       "       'v175 - PODER COMENZAR A TRABAJAR DE HABER CONSEGUIDO TRABAJO LA SEMANA PASADA',\n",
       "       'v176 - BUSCAR TRABAJO EN LOS ÚLTIMOS 30 DÍAS O TRATAR DE PONERSE A TRABAJAR POR SU CUENTA',\n",
       "       'v177 - CANTIDAD DE TIEMPO QUE ESTÁ BUSCANDO TRABAJO',\n",
       "       'v178 - MOTIVO POR EL QUE NO BUSCA TRABAJO',\n",
       "       'Estado - CONDICION DE ACTIVIDAD', 'v179 - CONDICIÓN DE INACTIVIDAD',\n",
       "       'v180 - TRABAJÓ ALGUNA VEZ POR UNA PAGA EN DINERO O EN ESPECIES',\n",
       "       'v181 - CANTIDAD DE TIEMPO DESDE QUE FINALIZÓ SU ÚLTIMO TRABAJO'],\n",
       "      dtype='object')"
      ]
     },
     "execution_count": 217,
     "metadata": {},
     "output_type": "execute_result"
    },
    {
     "name": "stdout",
     "output_type": "stream",
     "text": [
      "Trabajo (PARA TODOS LOS OCUPADOS, DESOCUPADOS, JUBILADOS Y OTROS INACTIVOS CON UN TRABAJO ANTERIOR)\n"
     ]
    },
    {
     "data": {
      "text/plain": [
       "Index(['v186 - SUPERVISA EL TRABAJO DE OTROS',\n",
       "       'v187 - CANTIDAD DE PERSONAS SUPERVISADAS',\n",
       "       'V182caes - CODIGO DE ACTIVIDAD ECONOMICA (CAES)',\n",
       "       'v183ciuo - TIPO DE OCUPACIÓN (CODIGO INTERNACIONAL UNIFORME DE OCUPACIONES)',\n",
       "       'v183cno - TIPO DE OCUPACIÓN (CLASIFICADOR NACIONAL DE OCUPACIONES)',\n",
       "       'v188 - SECTOR DE ACTIVIDAD',\n",
       "       'v189 - CANTIDAD DE PERSONAS QUE TRABAJAN EN ESE ESTABLECIMIENTO',\n",
       "       'v190 - CANTIDAD DE TIEMPO EN ESE EMPLEO DE FORMA CONTINUA',\n",
       "       'v191 - TIPO DE RELACIÓN DE EMPLEO',\n",
       "       'v192 - TIPO DE REMUNERACIÓN RECIBIDA'],\n",
       "      dtype='object')"
      ]
     },
     "execution_count": 217,
     "metadata": {},
     "output_type": "execute_result"
    },
    {
     "name": "stdout",
     "output_type": "stream",
     "text": [
      "Trabajo (SOLO PARA QUIENES SON O HAN SIDO TRABAJADORES INDEPENDIENTES, CUENTA PROPIA, PATRÓN O SOCIO, TRABAJADOR FAMILIAR QUE RETIRA DINERO)\n"
     ]
    },
    {
     "data": {
      "text/plain": [
       "Index(['v193 - POSESIÓN Y TIPO DE TENENCIA DE MAQUINARIA',\n",
       "       'v194 - POSESIÓN Y TIPO DE TENENCIA DE LOCAL',\n",
       "       'v195 - POSESIÓN Y TIPO DE TENENCIA DE VEHÍCULO',\n",
       "       'v196 - EMPLEO DE PERSONAS ASALARIADAS',\n",
       "       'v197 - INSCRIPCIÓN EN LA AFIP', 'v198 - TIPO DE CLIENTE'],\n",
       "      dtype='object')"
      ]
     },
     "execution_count": 217,
     "metadata": {},
     "output_type": "execute_result"
    }
   ],
   "source": [
    "print('Actividades del hogar (PARA TODOS LOS MIEMBROS DE 5 AÑOS Y MÁS)')\n",
    "df.columns[325:337]\n",
    "\n",
    "print('Trabajo infantil (PARA NIÑOS/AS ENTRE 5 Y 17 AÑOS)')\n",
    "df.columns[337:343]\n",
    "\n",
    "print('Trabajo (PARA TODOS LOS MIEMBROS DE 10 AÑOS Y MÁS)')\n",
    "df.columns[343:355]\n",
    "\n",
    "print('Trabajo (PARA TODOS LOS OCUPADOS, DESOCUPADOS, JUBILADOS Y OTROS INACTIVOS CON UN TRABAJO ANTERIOR)')\n",
    "df.columns[355:365]\n",
    "\n",
    "print('Trabajo (SOLO PARA QUIENES SON O HAN SIDO TRABAJADORES INDEPENDIENTES, CUENTA PROPIA, PATRÓN O SOCIO, TRABAJADOR FAMILIAR QUE RETIRA DINERO)')\n",
    "df.columns[365:371]"
   ]
  },
  {
   "cell_type": "code",
   "execution_count": 218,
   "id": "4659724f",
   "metadata": {},
   "outputs": [
    {
     "data": {
      "text/plain": [
       "Index(['v199 - TIPO DE ESTABILIDAD LABORAL',\n",
       "       'cat_ocup - CATEGORÍA COUPACIONAL',\n",
       "       'egp11 - CLASE SOCIAL (EGP CASMISN GANZEBOOM Y TREIMAN)',\n",
       "       'CSO - CONDICIÓN SOCIO-OCUPACIONAL', 'v200 - TIPO DE CONTRATO LABORAL',\n",
       "       'v201a - TIPO DE AUTONOMÍA QUE PUEDE TENER EN EL TRABAJO',\n",
       "       'v201b - TIPO DE AUTONOMÍA QUE PUEDE TENER EN EL TRABAJO',\n",
       "       'v201c - TIPO DE AUTONOMÍA QUE PUEDE TENER EN EN TRABAJO',\n",
       "       'v201d - TIPO DE AUTONOMÍA QUE PUEDE TENER EN EL TRABAJO',\n",
       "       'v202 - TIPO DE DESCUENTO O APORTE JUBILATORIO',\n",
       "       'v203a - TIPOS DE DERECHOS LABORALES QUE TIENE EN EL TRABAJO',\n",
       "       'v203b - TIPO DE DERECHOS LABORALES QUE TIENE EN EL TRABAJO',\n",
       "       'v203c - TIPOS DE DERECHOS LABORALES QUE TIENE EN EL TRABAJO',\n",
       "       'v203d - TIPOS DE DERECHOS LABORALES QUE TIENE EN EL TRABAJO',\n",
       "       'v203e - TIPOS DE DERECHOS LABORALES QUE TIENE EN EL TRABAJO',\n",
       "       'v203f - TIPO DE DERECHOS LABORALES QUE TIENE EN EL TRABAJO',\n",
       "       'v204 - AFILIACIÓN A UN SINDICATO'],\n",
       "      dtype='object')"
      ]
     },
     "execution_count": 218,
     "metadata": {},
     "output_type": "execute_result"
    }
   ],
   "source": [
    "# Trabajo (SOLO PARA QUIENES SON O HAN SIDO TRABAJADORES EN RELACIÓN DE DEPENDENCIA (INCLUYE EMPLEADA DOMÉSTICA))\n",
    "df.columns[371:388]\n",
    "\n",
    "## me quedo solo con las observaciones que tienen categoria ocupacional??\n",
    "\n",
    "# df.columns.get_loc('cat_ocup - CATEGORÍA COUPACIONAL')\n",
    "# df['cat_ocup - CATEGORÍA COUPACIONAL']\n",
    "# df = df.loc[df['cat_ocup - CATEGORÍA COUPACIONAL'].notnull()]\n"
   ]
  },
  {
   "cell_type": "code",
   "execution_count": 219,
   "id": "f259af03",
   "metadata": {},
   "outputs": [
    {
     "data": {
      "text/plain": [
       "Index(['v201a - TIPO DE AUTONOMÍA QUE PUEDE TENER EN EL TRABAJO',\n",
       "       'v201b - TIPO DE AUTONOMÍA QUE PUEDE TENER EN EL TRABAJO',\n",
       "       'v201c - TIPO DE AUTONOMÍA QUE PUEDE TENER EN EN TRABAJO',\n",
       "       'v201d - TIPO DE AUTONOMÍA QUE PUEDE TENER EN EL TRABAJO'],\n",
       "      dtype='object')"
      ]
     },
     "execution_count": 219,
     "metadata": {},
     "output_type": "execute_result"
    }
   ],
   "source": [
    "df.columns[376:380]"
   ]
  },
  {
   "cell_type": "code",
   "execution_count": 220,
   "id": "27f84619",
   "metadata": {},
   "outputs": [
    {
     "data": {
      "text/plain": [
       "['TIPO DE AUTONOMIA EN EL TRABAJO: Tomarse un día libre sin perder retribución',\n",
       " 'TIPO DE AUTONOMIA EN EL TRABAJO: Disminuir el ritmo de trabajo',\n",
       " 'TIPO DE AUTONOMIA EN EL TRABAJO: Introducir actividad o tarea nueva',\n",
       " 'TIPO DE AUTONOMIA EN EL TRABAJO: Decidir cuándo llegar y cuándo marcharse',\n",
       " 'TIPO DE AUTONOMIA EN EL TRABAJO: Ninguna']"
      ]
     },
     "execution_count": 220,
     "metadata": {},
     "output_type": "execute_result"
    }
   ],
   "source": [
    "var= 'TIPO DE AUTONOMIA EN EL TRABAJO: '\n",
    "d_l_ = \"Tomarse un día libre sin perder retribución\"\n",
    "d_r_ = \"Disminuir el ritmo de trabajo\"\n",
    "i_tn_ = \"Introducir actividad o tarea nueva\"\n",
    "d_cm_ = \"Decidir cuándo llegar y cuándo marcharse\"\n",
    "nin_ = \"Ninguna\"\n",
    "ls = [(var+d_l_), (var+d_r_), (var+i_tn_), (var+d_cm_), (var+nin_)]\n",
    "ls"
   ]
  },
  {
   "cell_type": "code",
   "execution_count": 221,
   "id": "032293a7",
   "metadata": {},
   "outputs": [],
   "source": [
    "subset = df[df.columns[376:380]]\n",
    "subset = subset.astype(pd.CategoricalDtype())\n",
    "a = pd.get_dummies(subset, prefix= ['','','',''])\n",
    "b = a.groupby(a.columns[:], axis=1).sum()\n",
    "b.columns = ls\n",
    "df[b.columns] = b[b.columns[:]]"
   ]
  },
  {
   "cell_type": "code",
   "execution_count": 222,
   "id": "fbf7532c",
   "metadata": {},
   "outputs": [],
   "source": [
    "df.drop(df.columns[376:380], axis=1, inplace=True)"
   ]
  },
  {
   "cell_type": "code",
   "execution_count": 223,
   "id": "6dc498d0",
   "metadata": {},
   "outputs": [
    {
     "data": {
      "text/plain": [
       "Index(['TIPO DE AUTONOMIA EN EL TRABAJO: Tomarse un día libre sin perder retribución',\n",
       "       'TIPO DE AUTONOMIA EN EL TRABAJO: Disminuir el ritmo de trabajo',\n",
       "       'TIPO DE AUTONOMIA EN EL TRABAJO: Introducir actividad o tarea nueva',\n",
       "       'TIPO DE AUTONOMIA EN EL TRABAJO: Decidir cuándo llegar y cuándo marcharse',\n",
       "       'TIPO DE AUTONOMIA EN EL TRABAJO: Ninguna'],\n",
       "      dtype='object')"
      ]
     },
     "execution_count": 223,
     "metadata": {},
     "output_type": "execute_result"
    }
   ],
   "source": [
    "df.columns[-5:]"
   ]
  },
  {
   "cell_type": "code",
   "execution_count": 224,
   "id": "6365c95d",
   "metadata": {},
   "outputs": [],
   "source": [
    "cols = list(df.columns[:376]) + list(df.columns[-5:]) + list(df.columns[376:-5])\n",
    "df = df[cols]"
   ]
  },
  {
   "cell_type": "code",
   "execution_count": 225,
   "id": "cab7bcaa",
   "metadata": {},
   "outputs": [
    {
     "data": {
      "text/plain": [
       "Index(['v203a - TIPOS DE DERECHOS LABORALES QUE TIENE EN EL TRABAJO',\n",
       "       'v203b - TIPO DE DERECHOS LABORALES QUE TIENE EN EL TRABAJO',\n",
       "       'v203c - TIPOS DE DERECHOS LABORALES QUE TIENE EN EL TRABAJO',\n",
       "       'v203d - TIPOS DE DERECHOS LABORALES QUE TIENE EN EL TRABAJO',\n",
       "       'v203e - TIPOS DE DERECHOS LABORALES QUE TIENE EN EL TRABAJO',\n",
       "       'v203f - TIPO DE DERECHOS LABORALES QUE TIENE EN EL TRABAJO'],\n",
       "      dtype='object')"
      ]
     },
     "execution_count": 225,
     "metadata": {},
     "output_type": "execute_result"
    }
   ],
   "source": [
    "df.columns[382:388]"
   ]
  },
  {
   "cell_type": "code",
   "execution_count": 226,
   "id": "5b5e7c03",
   "metadata": {},
   "outputs": [
    {
     "data": {
      "text/plain": [
       "['TIPO DE DERECHO LABORAL: Vacaciones pagas',\n",
       " 'TIPO DE DERECHO LABORAL: Obra social',\n",
       " 'TIPO DE DERECHO LABORAL: Aguinaldo',\n",
       " 'TIPO DE DERECHO LABORAL: Salario familiar',\n",
       " 'TIPO DE DERECHO LABORAL: Días pagos por enfermedad',\n",
       " 'TIPO DE DERECHO LABORAL: Convenio colectivo',\n",
       " 'TIPO DE DERECHO LABORAL: Ninguna']"
      ]
     },
     "execution_count": 226,
     "metadata": {},
     "output_type": "execute_result"
    }
   ],
   "source": [
    "var = 'TIPO DE DERECHO LABORAL: '\n",
    "v_p_ = 'Vacaciones pagas'\n",
    "ob_s_ = 'Obra social'\n",
    "agu_ = 'Aguinaldo'\n",
    "s_fam_ = 'Salario familiar'\n",
    "dp_e_ = 'Días pagos por enfermedad'\n",
    "c_col_ = 'Convenio colectivo'\n",
    "nin_ = \"Ninguna\"\n",
    "ls = [(var+v_p_), (var+ob_s_), (var+agu_), (var+s_fam_), (var+dp_e_), (var+c_col_), (var+nin_)]\n",
    "ls"
   ]
  },
  {
   "cell_type": "code",
   "execution_count": 227,
   "id": "9736f7a2",
   "metadata": {},
   "outputs": [],
   "source": [
    "subset= df[df.columns[382:388]]\n",
    "subset = subset.astype(pd.CategoricalDtype())\n",
    "a = pd.get_dummies(subset)\n",
    "b= a.groupby(a.columns[:], axis=1)\n",
    "a = pd.get_dummies(subset, prefix= ['','','','','',''])\n",
    "b = a.groupby(a.columns[:], axis=1).sum()\n",
    "b.columns = ls"
   ]
  },
  {
   "cell_type": "code",
   "execution_count": 228,
   "id": "ef559101",
   "metadata": {},
   "outputs": [],
   "source": [
    "# b.head()\n",
    "# subset.head()"
   ]
  },
  {
   "cell_type": "code",
   "execution_count": 229,
   "id": "4a759043",
   "metadata": {},
   "outputs": [],
   "source": [
    "df[b.columns] = b[b.columns[:]]"
   ]
  },
  {
   "cell_type": "code",
   "execution_count": 230,
   "id": "9eae91db",
   "metadata": {},
   "outputs": [],
   "source": [
    "df= df.drop(df.columns[382:388], axis=1)"
   ]
  },
  {
   "cell_type": "code",
   "execution_count": 231,
   "id": "bfd0757a",
   "metadata": {},
   "outputs": [],
   "source": [
    "cols = list(df.columns[:382]) + list(df.columns[-7:]) + list(df.columns[382:-7])\n",
    "df = df[cols]\n",
    "# df.columns"
   ]
  },
  {
   "cell_type": "code",
   "execution_count": 232,
   "id": "938f566d",
   "metadata": {},
   "outputs": [
    {
     "data": {
      "text/plain": [
       "Index(['v205 - CANTIDAD DE OCUPACIONES',\n",
       "       'v206a - CANTIDAD DE HORAS QUE TRABAJÓ, INCLUIDAS HORAS EXTRAS, LA SEMANA PASADA EN LA OCUPACIÓN PRINCIPAL',\n",
       "       'v206b - CANTIDAD DE HORAS QUE TRABAJÓ INCLUIDAS HORAS EXTRAS, LA SEMANA PASADA EN LAS OTRAS OCUPACIONES',\n",
       "       'v207 - QUERER TRABAJAR MÁS HORAS LA SEMANA PASADA',\n",
       "       'v208 - POSIBILIDAD DE TRABAJAR MÁS HORAS LA SEMANA PASADA', 'v209 - ',\n",
       "       'v210a - MEDIO DE TRANSPORTE, O COMBINACIÓN, MÁS UTILIZADO PARA IR AL TRABAJO',\n",
       "       'v210b - MEDIO DE TRANSPORTE, O COMBINACIÓN, MÁS UTILIZADO PARA IR AL TRABAJO',\n",
       "       'v211 - TIEMPO DE VIAJE PARA LLEGAR AL TRABAJO',\n",
       "       'v212 - PLAN DE EMPLEO DEL CUAL RECIBE INGRESOS',\n",
       "       'v213a - PERCPCIÓN DE INGRESOS EN OCUPACIÓN PRINCIPAL DEL MES PASADO',\n",
       "       'v213b - MONTO DE INGRESO NETO EN OCUPACIÓN PRINCIPAL DEL MES PASADO',\n",
       "       'v213bi - MONTO DE INGRESO NETO EN OCUPACIÓN PRINCIPAL DEL MES PASADO (IMPUTADO)',\n",
       "       'v214a - PERCEPCIÓN DE INGRESOS EN OTRAS OCUPACIONES DEL MES PASADO',\n",
       "       'v214b - MONTO DE INGRESO NETO EN OTRAS OCUPACIONES DEL MES PASADO',\n",
       "       'v214bi - MONTO DE INGRESO NETO EN OTRAS OCUPACIONES DEL MES PASADO (IMPUTADO)',\n",
       "       'ITLi - MONTO DE INGRESO TOTAL LABORAL',\n",
       "       'ITLi_d - GRUPO DECÍLICO DE MONTO DE INGRESO TOTAL LABORAL'],\n",
       "      dtype='object')"
      ]
     },
     "execution_count": 232,
     "metadata": {},
     "output_type": "execute_result"
    }
   ],
   "source": [
    "# Trabajo (SOLO PARA ACTUALMENTE OCUPADOS)\n",
    "df.columns[390:408]"
   ]
  },
  {
   "cell_type": "code",
   "execution_count": 233,
   "id": "70e59d4a",
   "metadata": {},
   "outputs": [
    {
     "data": {
      "text/plain": [
       "'v209 - Lugar donde desempeña su ocupación principal'"
      ]
     },
     "execution_count": 233,
     "metadata": {},
     "output_type": "execute_result"
    }
   ],
   "source": [
    "num= df.columns.get_loc('v209 - ')\n",
    "name = df.columns[num]\n",
    "df = df.rename(columns = {name:'v209 - Lugar donde desempeña su ocupación principal'})\n",
    "df.columns[num]"
   ]
  },
  {
   "cell_type": "code",
   "execution_count": 234,
   "id": "c46ad42e",
   "metadata": {},
   "outputs": [
    {
     "data": {
      "text/plain": [
       "Index(['v210a - MEDIO DE TRANSPORTE, O COMBINACIÓN, MÁS UTILIZADO PARA IR AL TRABAJO', 'v210b - MEDIO DE TRANSPORTE, O COMBINACIÓN, MÁS UTILIZADO PARA IR AL TRABAJO'], dtype='object')"
      ]
     },
     "execution_count": 234,
     "metadata": {},
     "output_type": "execute_result"
    }
   ],
   "source": [
    "df.columns[396:398]"
   ]
  },
  {
   "cell_type": "code",
   "execution_count": 235,
   "id": "ae9af6ab",
   "metadata": {},
   "outputs": [
    {
     "data": {
      "text/plain": [
       "['MEDIO DE TRANSPORTE PARA IR AL TRABAJO: Auto',\n",
       " 'MEDIO DE TRANSPORTE PARA IR AL TRABAJO: Otros',\n",
       " 'MEDIO DE TRANSPORTE PARA IR AL TRABAJO: Taxi-remis',\n",
       " 'MEDIO DE TRANSPORTE PARA IR AL TRABAJO: Colectivo',\n",
       " 'MEDIO DE TRANSPORTE PARA IR AL TRABAJO: Combi',\n",
       " 'MEDIO DE TRANSPORTE PARA IR AL TRABAJO: Tren',\n",
       " 'MEDIO DE TRANSPORTE PARA IR AL TRABAJO: Subte',\n",
       " 'MEDIO DE TRANSPORTE PARA IR AL TRABAJO: Moto',\n",
       " 'MEDIO DE TRANSPORTE PARA IR AL TRABAJO: Bicicleta',\n",
       " 'MEDIO DE TRANSPORTE PARA IR AL TRABAJO: A pie']"
      ]
     },
     "execution_count": 235,
     "metadata": {},
     "output_type": "execute_result"
    }
   ],
   "source": [
    "var= 'MEDIO DE TRANSPORTE PARA IR AL TRABAJO: '\n",
    "at_ = 'Auto'\n",
    "tx_ = 'Taxi-remis'\n",
    "col_ = 'Colectivo'\n",
    "com_= 'Combi'\n",
    "tr_ = 'Tren'\n",
    "sub_ ='Subte'\n",
    "mc_ = 'Moto'\n",
    "bc_ = 'Bicicleta'\n",
    "pie_ = 'A pie'\n",
    "ot_= 'Otros'\n",
    "ls= [(var+at_),(var+ot_),(var+tx_),(var+col_),(var+com_),(var+tr_),(var+sub_),(var+mc_),(var+bc_),(var+pie_)]\n",
    "ls"
   ]
  },
  {
   "cell_type": "code",
   "execution_count": 236,
   "id": "9db70d34",
   "metadata": {},
   "outputs": [],
   "source": [
    "subset= df[df.columns[396:398]]\n",
    "subset = subset.astype(pd.CategoricalDtype())\n",
    "a= pd.get_dummies(subset, prefix=['',''])\n",
    "b= a.groupby(a.columns[:], axis=1).sum()\n",
    "b.columns = ls\n",
    "df[b.columns[:]] = b[b.columns[:]]"
   ]
  },
  {
   "cell_type": "code",
   "execution_count": 237,
   "id": "3830e5a9",
   "metadata": {},
   "outputs": [],
   "source": [
    "# b[b[b.columns[1]] == 1]\n",
    "# subset[ (subset[subset.columns[0]] == 10) | (subset[subset.columns[0]] == 10)]"
   ]
  },
  {
   "cell_type": "code",
   "execution_count": 238,
   "id": "9501758a",
   "metadata": {},
   "outputs": [],
   "source": [
    "df= df.drop(df.columns[396:398], axis=1)"
   ]
  },
  {
   "cell_type": "code",
   "execution_count": 239,
   "id": "e3363f8c",
   "metadata": {},
   "outputs": [],
   "source": [
    "cols = list(df.columns[:396]) + list(df.columns[-10:]) + list(df.columns[396:-10])\n",
    "df = df[cols]\n",
    "# df.columns"
   ]
  }
 ],
 "metadata": {
  "kernelspec": {
   "display_name": "Python 3 (ipykernel)",
   "language": "python",
   "name": "python3"
  },
  "language_info": {
   "codemirror_mode": {
    "name": "ipython",
    "version": 3
   },
   "file_extension": ".py",
   "mimetype": "text/x-python",
   "name": "python",
   "nbconvert_exporter": "python",
   "pygments_lexer": "ipython3",
   "version": "3.9.13"
  }
 },
 "nbformat": 4,
 "nbformat_minor": 5
}
